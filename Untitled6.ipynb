{
 "cells": [
  {
   "cell_type": "code",
   "execution_count": null,
   "id": "fa796d07",
   "metadata": {},
   "outputs": [],
   "source": [
    "i = 0\n",
    "while i<7:\n",
    "    c=65+i\n",
    "    print(c)\n",
    "    j=0\n",
    "    print(j)\n",
    "    while j<(i+1):\n",
    "        if c==91:\n",
    "            break\n",
    "            print(chr(c),end=\" \")\n",
    "            print(c)\n",
    "            c=c+6-j\n",
    "            j+1\n",
    "     i+=1\n",
    "    print()"
   ]
  },
  {
   "cell_type": "code",
   "execution_count": null,
   "id": "b64ccaf1",
   "metadata": {},
   "outputs": [],
   "source": [
    " "
   ]
  },
  {
   "cell_type": "code",
   "execution_count": null,
   "id": "2a322be1",
   "metadata": {},
   "outputs": [],
   "source": []
  }
 ],
 "metadata": {
  "kernelspec": {
   "display_name": "Python 3 (ipykernel)",
   "language": "python",
   "name": "python3"
  },
  "language_info": {
   "codemirror_mode": {
    "name": "ipython",
    "version": 3
   },
   "file_extension": ".py",
   "mimetype": "text/x-python",
   "name": "python",
   "nbconvert_exporter": "python",
   "pygments_lexer": "ipython3",
   "version": "3.9.7"
  }
 },
 "nbformat": 4,
 "nbformat_minor": 5
}
