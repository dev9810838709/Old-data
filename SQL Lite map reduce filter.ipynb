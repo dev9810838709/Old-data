{
 "cells": [
  {
   "cell_type": "code",
   "execution_count": 1,
   "id": "342e9e19",
   "metadata": {},
   "outputs": [],
   "source": [
    "import sqlite3"
   ]
  },
  {
   "cell_type": "code",
   "execution_count": 2,
   "id": "08fd6627",
   "metadata": {},
   "outputs": [],
   "source": [
    "db = sqlite3.connect(\"sudhir.db\")"
   ]
  },
  {
   "cell_type": "code",
   "execution_count": 3,
   "id": "a3ca18da",
   "metadata": {},
   "outputs": [],
   "source": [
    "c = db.cursor()"
   ]
  },
  {
   "cell_type": "code",
   "execution_count": 4,
   "id": "d0ce50d2",
   "metadata": {},
   "outputs": [
    {
     "data": {
      "text/plain": [
       "<sqlite3.Cursor at 0x1d3bf892030>"
      ]
     },
     "execution_count": 4,
     "metadata": {},
     "output_type": "execute_result"
    }
   ],
   "source": [
    "c.execute('create table fsds(name text , batchid int , marks real)')"
   ]
  },
  {
   "cell_type": "code",
   "execution_count": 7,
   "id": "f7f2e70f",
   "metadata": {},
   "outputs": [
    {
     "name": "stdout",
     "output_type": "stream",
     "text": [
      " Volume in drive C has no label.\n",
      " Volume Serial Number is 4A61-45C6\n",
      "\n",
      " Directory of C:\\Users\\Admin-ECS\n",
      "\n",
      "10/03/2022  16:34    <DIR>          .\n",
      "10/03/2022  16:34    <DIR>          ..\n",
      "24/02/2022  12:08    <DIR>          .conda\n",
      "10/03/2022  16:09    <DIR>          .ipynb_checkpoints\n",
      "16/12/2021  13:11    <DIR>          .ipython\n",
      "16/12/2021  15:16    <DIR>          .jupyter\n",
      "19/09/2021  16:30    <DIR>          .vscode\n",
      "07/02/2022  15:39    <DIR>          __pycache__\n",
      "17/10/2020  22:25    <DIR>          3D Objects\n",
      "16/12/2021  11:59    <DIR>          anaconda3\n",
      "12/08/2021  00:13               151 BullseyeCoverageError.txt\n",
      "26/02/2022  18:21            10,988 Class  Oops inheritence.ipynb\n",
      "17/10/2020  22:25    <DIR>          Contacts\n",
      "19/12/2021  10:13    <DIR>          Desktop\n",
      "24/02/2022  01:31    <DIR>          Documents\n",
      "10/03/2022  13:52    <DIR>          Downloads\n",
      "03/02/2022  15:13            13,656 Exceptional Handling.ipynb\n",
      "17/10/2020  22:25    <DIR>          Favorites\n",
      "07/02/2022  10:59           118,756 function.ipynb\n",
      "02/03/2022  21:05            11,903 glass.data\n",
      "07/02/2022  10:48             1,099 google.txt\n",
      "17/10/2020  22:25    <DIR>          Links\n",
      "23/02/2022  18:10            10,170 logging & Modules.ipynb\n",
      "30/12/2021  21:48            44,679 loop.ipynb\n",
      "09/03/2022  15:30            13,402 mongodb.ipynb\n",
      "17/10/2020  22:25    <DIR>          Music\n",
      "07/02/2022  15:38               211 my_module.py\n",
      "07/03/2022  22:08           547,683 mysql.ipynb\n",
      "07/08/2021  20:46    <DIR>          OneDrive\n",
      "30/12/2020  13:03    <DIR>          Pictures\n",
      "17/10/2020  22:25    <DIR>          Saved Games\n",
      "17/10/2020  22:25    <DIR>          Searches\n",
      "10/03/2022  16:33             4,962 SQL Lite.ipynb\n",
      "19/12/2021  17:16            30,754 String list.ipynb\n",
      "10/03/2022  16:29             8,192 sudhir.db\n",
      "10/03/2022  16:34             4,616 sudhir.db-journal\n",
      "07/02/2022  12:36               313 test.log\n",
      "05/02/2022  16:28                 0 test.txt\n",
      "22/01/2022  10:30                 0 test1.py\n",
      "07/02/2022  12:50               784 test2.log\n",
      "09/01/2022  12:02                19 test2.txt\n",
      "07/02/2022  13:47             2,265 test3.log\n",
      "07/02/2022  15:27               269 test5.py\n",
      "30/12/2021  05:48    <DIR>          Tracing\n",
      "19/12/2021  14:07            87,267 tuples set dictionary.ipynb\n",
      "16/12/2021  15:04            11,923 Untitled.ipynb\n",
      "24/02/2022  13:25            21,371 Untitled1.ipynb\n",
      "19/12/2021  10:11               588 Untitled2.ipynb\n",
      "19/12/2021  11:00             3,845 Untitled3.ipynb\n",
      "11/11/2020  03:39    <DIR>          Videos\n",
      "              27 File(s)        949,866 bytes\n",
      "              23 Dir(s)  926,945,439,744 bytes free\n"
     ]
    }
   ],
   "source": [
    "ls"
   ]
  },
  {
   "cell_type": "code",
   "execution_count": 6,
   "id": "9e38a0e7",
   "metadata": {},
   "outputs": [
    {
     "data": {
      "text/plain": [
       "<sqlite3.Cursor at 0x1d3bf892030>"
      ]
     },
     "execution_count": 6,
     "metadata": {},
     "output_type": "execute_result"
    }
   ],
   "source": [
    "c.execute(\"insert into fsds values('sudhirk' ,35456 ,458.56)\")"
   ]
  },
  {
   "cell_type": "code",
   "execution_count": 8,
   "id": "b8121624",
   "metadata": {},
   "outputs": [
    {
     "data": {
      "text/plain": [
       "<sqlite3.Cursor at 0x1d3bf892030>"
      ]
     },
     "execution_count": 8,
     "metadata": {},
     "output_type": "execute_result"
    }
   ],
   "source": [
    "c.execute(\"insert into fsds values('sudhirk' ,35456 ,458.56)\")"
   ]
  },
  {
   "cell_type": "code",
   "execution_count": 9,
   "id": "65d5e12a",
   "metadata": {},
   "outputs": [
    {
     "data": {
      "text/plain": [
       "<sqlite3.Cursor at 0x1d3bf892030>"
      ]
     },
     "execution_count": 9,
     "metadata": {},
     "output_type": "execute_result"
    }
   ],
   "source": [
    "c.execute(\"insert into fsds values('sudhirk' ,35456 ,458.56)\")\n",
    "c.execute(\"insert into fsds values('sudhirk' ,35456 ,458.56)\")\n",
    "c.execute(\"insert into fsds values('sudhirk' ,35456 ,458.56)\")\n",
    "c.execute(\"insert into fsds values('sudhirk' ,35456 ,458.56)\")\n",
    "c.execute(\"insert into fsds values('sudhirk' ,35456 ,458.56)\")\n"
   ]
  },
  {
   "cell_type": "code",
   "execution_count": 10,
   "id": "a096ac59",
   "metadata": {},
   "outputs": [
    {
     "data": {
      "text/plain": [
       "<sqlite3.Cursor at 0x1d3bf892030>"
      ]
     },
     "execution_count": 10,
     "metadata": {},
     "output_type": "execute_result"
    }
   ],
   "source": [
    "c.execute(\"select * from fsds\")"
   ]
  },
  {
   "cell_type": "code",
   "execution_count": 11,
   "id": "bb39d9a4",
   "metadata": {},
   "outputs": [],
   "source": [
    "data = c.execute(\"select * from fsds\")"
   ]
  },
  {
   "cell_type": "code",
   "execution_count": 13,
   "id": "3038ac13",
   "metadata": {},
   "outputs": [
    {
     "name": "stdout",
     "output_type": "stream",
     "text": [
      "('sudhirk', 35456, 458.56)\n",
      "('sudhirk', 35456, 458.56)\n",
      "('sudhirk', 35456, 458.56)\n",
      "('sudhirk', 35456, 458.56)\n",
      "('sudhirk', 35456, 458.56)\n",
      "('sudhirk', 35456, 458.56)\n",
      "('sudhirk', 35456, 458.56)\n"
     ]
    }
   ],
   "source": [
    "for i in data:\n",
    "    print(i)"
   ]
  },
  {
   "cell_type": "code",
   "execution_count": 14,
   "id": "f8719269",
   "metadata": {},
   "outputs": [],
   "source": [
    "db.commit()"
   ]
  },
  {
   "cell_type": "code",
   "execution_count": 15,
   "id": "b9174bb0",
   "metadata": {},
   "outputs": [],
   "source": [
    "db.close()"
   ]
  },
  {
   "cell_type": "code",
   "execution_count": 16,
   "id": "ca9fdd4c",
   "metadata": {},
   "outputs": [],
   "source": [
    "db = sqlite3.connect(\"sudhir.db\")"
   ]
  },
  {
   "cell_type": "code",
   "execution_count": 17,
   "id": "1fc64965",
   "metadata": {},
   "outputs": [],
   "source": [
    "c= db.cursor()"
   ]
  },
  {
   "cell_type": "code",
   "execution_count": 18,
   "id": "f6e7dcca",
   "metadata": {},
   "outputs": [
    {
     "data": {
      "text/plain": [
       "<sqlite3.Cursor at 0x1d3bf892b20>"
      ]
     },
     "execution_count": 18,
     "metadata": {},
     "output_type": "execute_result"
    }
   ],
   "source": [
    "c.execute(\"select * from fsds where marks > 400\")"
   ]
  },
  {
   "cell_type": "code",
   "execution_count": 19,
   "id": "c71efa36",
   "metadata": {},
   "outputs": [],
   "source": [
    "data = c.execute(\"select * from fsds where marks > 400\")"
   ]
  },
  {
   "cell_type": "code",
   "execution_count": 20,
   "id": "487e514a",
   "metadata": {},
   "outputs": [
    {
     "name": "stdout",
     "output_type": "stream",
     "text": [
      "('sudhirk', 35456, 458.56)\n",
      "('sudhirk', 35456, 458.56)\n",
      "('sudhirk', 35456, 458.56)\n",
      "('sudhirk', 35456, 458.56)\n",
      "('sudhirk', 35456, 458.56)\n",
      "('sudhirk', 35456, 458.56)\n",
      "('sudhirk', 35456, 458.56)\n"
     ]
    }
   ],
   "source": [
    "for i in data:\n",
    "    print(i)"
   ]
  },
  {
   "cell_type": "code",
   "execution_count": 23,
   "id": "1a03e81b",
   "metadata": {},
   "outputs": [],
   "source": [
    "data = c.execute(\"select * from fsds where name = 'sudhirk'\")"
   ]
  },
  {
   "cell_type": "code",
   "execution_count": 24,
   "id": "9dcf47bf",
   "metadata": {},
   "outputs": [
    {
     "name": "stdout",
     "output_type": "stream",
     "text": [
      "('sudhirk', 35456, 458.56)\n",
      "('sudhirk', 35456, 458.56)\n",
      "('sudhirk', 35456, 458.56)\n",
      "('sudhirk', 35456, 458.56)\n",
      "('sudhirk', 35456, 458.56)\n",
      "('sudhirk', 35456, 458.56)\n",
      "('sudhirk', 35456, 458.56)\n"
     ]
    }
   ],
   "source": [
    "for i in data:\n",
    "    print(i)"
   ]
  },
  {
   "cell_type": "code",
   "execution_count": 25,
   "id": "31597ef8",
   "metadata": {},
   "outputs": [],
   "source": [
    "data = c.execute(\"select name , marks from fsds\")"
   ]
  },
  {
   "cell_type": "code",
   "execution_count": 26,
   "id": "44ef0846",
   "metadata": {},
   "outputs": [
    {
     "name": "stdout",
     "output_type": "stream",
     "text": [
      "('sudhirk', 458.56)\n",
      "('sudhirk', 458.56)\n",
      "('sudhirk', 458.56)\n",
      "('sudhirk', 458.56)\n",
      "('sudhirk', 458.56)\n",
      "('sudhirk', 458.56)\n",
      "('sudhirk', 458.56)\n"
     ]
    }
   ],
   "source": [
    "for i in data:\n",
    "    print(i)"
   ]
  },
  {
   "cell_type": "code",
   "execution_count": 27,
   "id": "bb5149ca",
   "metadata": {},
   "outputs": [],
   "source": [
    "data = c.execute(\"select name , marks from fsds order by marks\")"
   ]
  },
  {
   "cell_type": "code",
   "execution_count": 28,
   "id": "df9a9a73",
   "metadata": {},
   "outputs": [
    {
     "name": "stdout",
     "output_type": "stream",
     "text": [
      "('sudhirk', 458.56)\n",
      "('sudhirk', 458.56)\n",
      "('sudhirk', 458.56)\n",
      "('sudhirk', 458.56)\n",
      "('sudhirk', 458.56)\n",
      "('sudhirk', 458.56)\n",
      "('sudhirk', 458.56)\n"
     ]
    }
   ],
   "source": [
    "for i in data:\n",
    "    print(i)"
   ]
  },
  {
   "cell_type": "code",
   "execution_count": 29,
   "id": "2708976e",
   "metadata": {},
   "outputs": [],
   "source": [
    "db.close()"
   ]
  },
  {
   "cell_type": "code",
   "execution_count": 31,
   "id": "24ac6dcb",
   "metadata": {},
   "outputs": [],
   "source": [
    "db = sqlite3.connect(\"person.db\")"
   ]
  },
  {
   "cell_type": "code",
   "execution_count": 32,
   "id": "1df35094",
   "metadata": {},
   "outputs": [],
   "source": [
    "c = db.cursor()"
   ]
  },
  {
   "cell_type": "code",
   "execution_count": 35,
   "id": "b85b4f0b",
   "metadata": {},
   "outputs": [
    {
     "ename": "OperationalError",
     "evalue": "table person_table already exists",
     "output_type": "error",
     "traceback": [
      "\u001b[1;31m---------------------------------------------------------------------------\u001b[0m",
      "\u001b[1;31mOperationalError\u001b[0m                          Traceback (most recent call last)",
      "\u001b[1;32mC:\\Users\\ADMIN-~1\\AppData\\Local\\Temp/ipykernel_14080/3836291300.py\u001b[0m in \u001b[0;36m<module>\u001b[1;34m\u001b[0m\n\u001b[1;32m----> 1\u001b[1;33m \u001b[0mc\u001b[0m\u001b[1;33m.\u001b[0m\u001b[0mexecute\u001b[0m\u001b[1;33m(\u001b[0m\u001b[1;34m\"create table person_table(name text , emailid text age int , salary real)\"\u001b[0m\u001b[1;33m)\u001b[0m\u001b[1;33m\u001b[0m\u001b[1;33m\u001b[0m\u001b[0m\n\u001b[0m",
      "\u001b[1;31mOperationalError\u001b[0m: table person_table already exists"
     ]
    }
   ],
   "source": [
    " c.execute(\"create table person_table(name text , emailid text age int , salary real)\")"
   ]
  },
  {
   "cell_type": "code",
   "execution_count": 34,
   "id": "15414e5a",
   "metadata": {},
   "outputs": [
    {
     "name": "stdout",
     "output_type": "stream",
     "text": [
      " Volume in drive C has no label.\n",
      " Volume Serial Number is 4A61-45C6\n",
      "\n",
      " Directory of C:\\Users\\Admin-ECS\n",
      "\n",
      "10/03/2022  17:01    <DIR>          .\n",
      "10/03/2022  17:01    <DIR>          ..\n",
      "24/02/2022  12:08    <DIR>          .conda\n",
      "10/03/2022  16:09    <DIR>          .ipynb_checkpoints\n",
      "16/12/2021  13:11    <DIR>          .ipython\n",
      "16/12/2021  15:16    <DIR>          .jupyter\n",
      "19/09/2021  16:30    <DIR>          .vscode\n",
      "07/02/2022  15:39    <DIR>          __pycache__\n",
      "17/10/2020  22:25    <DIR>          3D Objects\n",
      "16/12/2021  11:59    <DIR>          anaconda3\n",
      "12/08/2021  00:13               151 BullseyeCoverageError.txt\n",
      "26/02/2022  18:21            10,988 Class  Oops inheritence.ipynb\n",
      "17/10/2020  22:25    <DIR>          Contacts\n",
      "19/12/2021  10:13    <DIR>          Desktop\n",
      "24/02/2022  01:31    <DIR>          Documents\n",
      "10/03/2022  13:52    <DIR>          Downloads\n",
      "03/02/2022  15:13            13,656 Exceptional Handling.ipynb\n",
      "17/10/2020  22:25    <DIR>          Favorites\n",
      "07/02/2022  10:59           118,756 function.ipynb\n",
      "02/03/2022  21:05            11,903 glass.data\n",
      "07/02/2022  10:48             1,099 google.txt\n",
      "17/10/2020  22:25    <DIR>          Links\n",
      "23/02/2022  18:10            10,170 logging & Modules.ipynb\n",
      "30/12/2021  21:48            44,679 loop.ipynb\n",
      "09/03/2022  15:30            13,402 mongodb.ipynb\n",
      "17/10/2020  22:25    <DIR>          Music\n",
      "07/02/2022  15:38               211 my_module.py\n",
      "07/03/2022  22:08           547,683 mysql.ipynb\n",
      "07/08/2021  20:46    <DIR>          OneDrive\n",
      "10/03/2022  17:01             8,192 person.db\n",
      "30/12/2020  13:03    <DIR>          Pictures\n",
      "17/10/2020  22:25    <DIR>          Saved Games\n",
      "17/10/2020  22:25    <DIR>          Searches\n",
      "10/03/2022  17:01            12,052 SQL Lite.ipynb\n",
      "19/12/2021  17:16            30,754 String list.ipynb\n",
      "10/03/2022  16:38             8,192 sudhir.db\n",
      "07/02/2022  12:36               313 test.log\n",
      "05/02/2022  16:28                 0 test.txt\n",
      "22/01/2022  10:30                 0 test1.py\n",
      "07/02/2022  12:50               784 test2.log\n",
      "09/01/2022  12:02                19 test2.txt\n",
      "07/02/2022  13:47             2,265 test3.log\n",
      "07/02/2022  15:27               269 test5.py\n",
      "30/12/2021  05:48    <DIR>          Tracing\n",
      "19/12/2021  14:07            87,267 tuples set dictionary.ipynb\n",
      "16/12/2021  15:04            11,923 Untitled.ipynb\n",
      "24/02/2022  13:25            21,371 Untitled1.ipynb\n",
      "19/12/2021  10:11               588 Untitled2.ipynb\n",
      "19/12/2021  11:00             3,845 Untitled3.ipynb\n",
      "11/11/2020  03:39    <DIR>          Videos\n",
      "              27 File(s)        960,532 bytes\n",
      "              23 Dir(s)  926,923,350,016 bytes free\n"
     ]
    }
   ],
   "source": [
    "ls"
   ]
  },
  {
   "cell_type": "code",
   "execution_count": 36,
   "id": "80c3486f",
   "metadata": {},
   "outputs": [
    {
     "data": {
      "text/plain": [
       "<sqlite3.Cursor at 0x1d3bf93c1f0>"
      ]
     },
     "execution_count": 36,
     "metadata": {},
     "output_type": "execute_result"
    }
   ],
   "source": [
    "c.execute(\"insert into person_table values('sudh', 35 , 25658)\")"
   ]
  },
  {
   "cell_type": "code",
   "execution_count": 37,
   "id": "a0c92b49",
   "metadata": {},
   "outputs": [
    {
     "data": {
      "text/plain": [
       "<sqlite3.Cursor at 0x1d3bf93c1f0>"
      ]
     },
     "execution_count": 37,
     "metadata": {},
     "output_type": "execute_result"
    }
   ],
   "source": [
    "c.execute(\"insert into person_table values('sudh', 35 , 25658)\")\n",
    "c.execute(\"insert into person_table values('amit', 36 , 25685)\")\n",
    "c.execute(\"insert into person_table values('raja', 39 , 24585)\")\n",
    "c.execute(\"insert into person_table values('dev', 35 , 25032)\")"
   ]
  },
  {
   "cell_type": "code",
   "execution_count": 38,
   "id": "c0ed4e8d",
   "metadata": {},
   "outputs": [],
   "source": [
    "data = c.execute(\"select * from person_table\")"
   ]
  },
  {
   "cell_type": "code",
   "execution_count": 39,
   "id": "f35b2f01",
   "metadata": {},
   "outputs": [
    {
     "name": "stdout",
     "output_type": "stream",
     "text": [
      "('sudh', 35, 25658.0)\n",
      "('sudh', 35, 25658.0)\n",
      "('amit', 36, 25685.0)\n",
      "('raja', 39, 24585.0)\n",
      "('dev', 35, 25032.0)\n"
     ]
    }
   ],
   "source": [
    "for i in data:\n",
    "    print(i)"
   ]
  },
  {
   "cell_type": "code",
   "execution_count": 42,
   "id": "bbda19d0",
   "metadata": {},
   "outputs": [],
   "source": [
    "db.commit()"
   ]
  },
  {
   "cell_type": "code",
   "execution_count": 43,
   "id": "92f91d33",
   "metadata": {},
   "outputs": [],
   "source": [
    "db.close()"
   ]
  },
  {
   "cell_type": "code",
   "execution_count": 44,
   "id": "668f87a0",
   "metadata": {},
   "outputs": [],
   "source": [
    "db = sqlite3.connect(\"sudhir.db\")"
   ]
  },
  {
   "cell_type": "code",
   "execution_count": 45,
   "id": "514e2e60",
   "metadata": {},
   "outputs": [],
   "source": [
    "c = db.cursor()"
   ]
  },
  {
   "cell_type": "code",
   "execution_count": 46,
   "id": "d503c9a0",
   "metadata": {},
   "outputs": [
    {
     "data": {
      "text/plain": [
       "<sqlite3.Cursor at 0x1d3bf93cb20>"
      ]
     },
     "execution_count": 46,
     "metadata": {},
     "output_type": "execute_result"
    }
   ],
   "source": [
    "c.execute(\"drop table fsds\")"
   ]
  },
  {
   "cell_type": "code",
   "execution_count": 47,
   "id": "29cf5ffe",
   "metadata": {},
   "outputs": [
    {
     "ename": "OperationalError",
     "evalue": "no such table: fsds",
     "output_type": "error",
     "traceback": [
      "\u001b[1;31m---------------------------------------------------------------------------\u001b[0m",
      "\u001b[1;31mOperationalError\u001b[0m                          Traceback (most recent call last)",
      "\u001b[1;32mC:\\Users\\ADMIN-~1\\AppData\\Local\\Temp/ipykernel_14080/3918647245.py\u001b[0m in \u001b[0;36m<module>\u001b[1;34m\u001b[0m\n\u001b[1;32m----> 1\u001b[1;33m \u001b[0mc\u001b[0m\u001b[1;33m.\u001b[0m\u001b[0mexecute\u001b[0m\u001b[1;33m(\u001b[0m\u001b[1;34m\"select * from fsds\"\u001b[0m\u001b[1;33m)\u001b[0m\u001b[1;33m\u001b[0m\u001b[1;33m\u001b[0m\u001b[0m\n\u001b[0m",
      "\u001b[1;31mOperationalError\u001b[0m: no such table: fsds"
     ]
    }
   ],
   "source": [
    "c.execute(\"select * from fsds\")"
   ]
  },
  {
   "cell_type": "code",
   "execution_count": 48,
   "id": "4263ffba",
   "metadata": {},
   "outputs": [],
   "source": [
    "db.close()"
   ]
  },
  {
   "cell_type": "code",
   "execution_count": 49,
   "id": "006290a1",
   "metadata": {},
   "outputs": [],
   "source": [
    "db = sqlite3.connect(\"person.db\")"
   ]
  },
  {
   "cell_type": "code",
   "execution_count": 51,
   "id": "a86b4318",
   "metadata": {},
   "outputs": [],
   "source": [
    "c = db.cursor()"
   ]
  },
  {
   "cell_type": "code",
   "execution_count": 52,
   "id": "3d30a890",
   "metadata": {},
   "outputs": [],
   "source": [
    "data = c.execute(\"select * from person_table limit 2\")"
   ]
  },
  {
   "cell_type": "code",
   "execution_count": 53,
   "id": "78fc643e",
   "metadata": {},
   "outputs": [
    {
     "name": "stdout",
     "output_type": "stream",
     "text": [
      "('sudh', 35, 25658.0)\n",
      "('sudh', 35, 25658.0)\n"
     ]
    }
   ],
   "source": [
    "for i in data:\n",
    "    print(i)"
   ]
  },
  {
   "cell_type": "code",
   "execution_count": 54,
   "id": "204bef30",
   "metadata": {},
   "outputs": [],
   "source": [
    "db.close()"
   ]
  },
  {
   "cell_type": "code",
   "execution_count": 62,
   "id": "7b429a35",
   "metadata": {},
   "outputs": [],
   "source": [
    "db = sqlite3.connect('jobdb.db')"
   ]
  },
  {
   "cell_type": "code",
   "execution_count": 63,
   "id": "d3aa4bec",
   "metadata": {},
   "outputs": [],
   "source": [
    "c = db.cursor()"
   ]
  },
  {
   "cell_type": "code",
   "execution_count": 57,
   "id": "a08dd901",
   "metadata": {},
   "outputs": [
    {
     "data": {
      "text/plain": [
       "<sqlite3.Cursor at 0x1d3bf9561f0>"
      ]
     },
     "execution_count": 57,
     "metadata": {},
     "output_type": "execute_result"
    }
   ],
   "source": [
    "c.execute('create table student(student_id int , student_name text , student_emailid text , marks int)')"
   ]
  },
  {
   "cell_type": "code",
   "execution_count": 72,
   "id": "0bfdfebc",
   "metadata": {},
   "outputs": [
    {
     "data": {
      "text/plain": [
       "<sqlite3.Cursor at 0x1d3c0808490>"
      ]
     },
     "execution_count": 72,
     "metadata": {},
     "output_type": "execute_result"
    }
   ],
   "source": [
    "c.execute('create table address(student_id int , pincode int , location text , nearby text , phone_no int)')"
   ]
  },
  {
   "cell_type": "code",
   "execution_count": 60,
   "id": "28ae6df6",
   "metadata": {},
   "outputs": [
    {
     "data": {
      "text/plain": [
       "<sqlite3.Cursor at 0x1d3bf9561f0>"
      ]
     },
     "execution_count": 60,
     "metadata": {},
     "output_type": "execute_result"
    }
   ],
   "source": [
    "c.execute('drop table address')"
   ]
  },
  {
   "cell_type": "code",
   "execution_count": 65,
   "id": "4972d93f",
   "metadata": {},
   "outputs": [
    {
     "data": {
      "text/plain": [
       "<sqlite3.Cursor at 0x1d3c0808490>"
      ]
     },
     "execution_count": 65,
     "metadata": {},
     "output_type": "execute_result"
    }
   ],
   "source": [
    "c.execute(\"insert into student values(234, 'sudhirp', 'kumar.sudhir@gmail.com', 258)\")\n",
    "c.execute(\"insert into student values(256, 'sudhirp', 'kumar.sudhir@gmail.com', 258)\")\n",
    "c.execute(\"insert into student values(235, 'sudhirp', 'kumar.sudhir@gmail.com', 258)\")\n",
    "c.execute(\"insert into student values(2356, 'sudhirp', 'kumar.sudhir@gmail.com', 258)\")\n",
    "c.execute(\"insert into student values(2345, 'sudhirp', 'kumar.sudhir@gmail.com', 258)\")\n",
    "c.execute(\"insert into student values(23464, 'sudhirp', 'kumar.sudhir@gmail.com', 258)\")\n",
    "c.execute(\"insert into student values(23452, 'sudhirp', 'kumar.sudhir@gmail.com', 258)\")\n",
    "c.execute(\"insert into student values(23446, 'sudhirp', 'kumar.sudhir@gmail.com', 258)\")\n",
    "c.execute(\"insert into student values(23478, 'sudhirp', 'kumar.sudhir@gmail.com', 258)\")\n",
    "c.execute(\"insert into student values(23445, 'sudhirp', 'kumar.sudhir@gmail.com', 258)\")\n",
    "c.execute(\"insert into student values(23402, 'sudhirp', 'kumar.sudhir@gmail.com', 258)\")\n",
    "c.execute(\"insert into student values(234128, 'sudhirp', 'kumar.sudhir@gmail.com', 258)\")"
   ]
  },
  {
   "cell_type": "code",
   "execution_count": 73,
   "id": "5924d0ee",
   "metadata": {},
   "outputs": [
    {
     "data": {
      "text/plain": [
       "<sqlite3.Cursor at 0x1d3c0808490>"
      ]
     },
     "execution_count": 73,
     "metadata": {},
     "output_type": "execute_result"
    }
   ],
   "source": [
    "c.execute(\"insert into address values(234 ,110061 , 'salapur', 'bijwasan', 9810838709)\")\n",
    "c.execute(\"insert into address values(256 ,110061 , 'salapur', 'bijwasan', 9810838709)\")\n",
    "c.execute(\"insert into address values(235,110061 , 'salapur', 'bijwasan', 9810838709)\")\n",
    "c.execute(\"insert into address values(2356 ,110061 , 'salapur', 'bijwasan', 9810838709)\")\n",
    "c.execute(\"insert into address values(2345 ,110061 , 'salapur', 'bijwasan', 9810838709)\")\n",
    "c.execute(\"insert into address values(23585 ,110061 , 'salapur', 'bijwasan', 9810838709)\")\n",
    "c.execute(\"insert into address values(23574 ,110061 , 'salapur', 'bijwasan', 9810838709)\")\n",
    "c.execute(\"insert into address values(23452 ,110061 , 'salapur', 'bijwasan', 9810838709)\")\n",
    "c.execute(\"insert into address values(23595 ,110061 , 'salapur', 'bijwasan', 9810838709)\")\n",
    "c.execute(\"insert into address values(235065 ,110061 , 'salapur', 'bijwasan', 9810838709)\")\n",
    "c.execute(\"insert into address values(23445 ,110061 , 'salapur', 'bijwasan', 9810838709)\")\n",
    "c.execute(\"insert into address values(235956 ,110061 , 'salapur', 'bijwasan', 9810838709)\")"
   ]
  },
  {
   "cell_type": "code",
   "execution_count": 67,
   "id": "6cbce660",
   "metadata": {},
   "outputs": [
    {
     "name": "stdout",
     "output_type": "stream",
     "text": [
      "(234, 'sudhirp', 'kumar.sudhir@gmail.com', 258)\n",
      "(256, 'sudhirp', 'kumar.sudhir@gmail.com', 258)\n",
      "(235, 'sudhirp', 'kumar.sudhir@gmail.com', 258)\n",
      "(2356, 'sudhirp', 'kumar.sudhir@gmail.com', 258)\n",
      "(2345, 'sudhirp', 'kumar.sudhir@gmail.com', 258)\n",
      "(23464, 'sudhirp', 'kumar.sudhir@gmail.com', 258)\n",
      "(23452, 'sudhirp', 'kumar.sudhir@gmail.com', 258)\n",
      "(23446, 'sudhirp', 'kumar.sudhir@gmail.com', 258)\n",
      "(23478, 'sudhirp', 'kumar.sudhir@gmail.com', 258)\n",
      "(23445, 'sudhirp', 'kumar.sudhir@gmail.com', 258)\n",
      "(23402, 'sudhirp', 'kumar.sudhir@gmail.com', 258)\n",
      "(234128, 'sudhirp', 'kumar.sudhir@gmail.com', 258)\n"
     ]
    }
   ],
   "source": [
    "for i in c.execute(\"select * from student\"):\n",
    "    print(i)"
   ]
  },
  {
   "cell_type": "code",
   "execution_count": 74,
   "id": "8caac7b5",
   "metadata": {},
   "outputs": [
    {
     "name": "stdout",
     "output_type": "stream",
     "text": [
      "(234, 110061, 'salapur', 'bijwasan', 9810838709)\n",
      "(256, 110061, 'salapur', 'bijwasan', 9810838709)\n",
      "(235, 110061, 'salapur', 'bijwasan', 9810838709)\n",
      "(2356, 110061, 'salapur', 'bijwasan', 9810838709)\n",
      "(2345, 110061, 'salapur', 'bijwasan', 9810838709)\n",
      "(23585, 110061, 'salapur', 'bijwasan', 9810838709)\n",
      "(23574, 110061, 'salapur', 'bijwasan', 9810838709)\n",
      "(23452, 110061, 'salapur', 'bijwasan', 9810838709)\n",
      "(23595, 110061, 'salapur', 'bijwasan', 9810838709)\n",
      "(235065, 110061, 'salapur', 'bijwasan', 9810838709)\n",
      "(23445, 110061, 'salapur', 'bijwasan', 9810838709)\n",
      "(235956, 110061, 'salapur', 'bijwasan', 9810838709)\n"
     ]
    }
   ],
   "source": [
    "for i in c.execute(\"select * from address\"):\n",
    "    print(i)"
   ]
  },
  {
   "cell_type": "code",
   "execution_count": 69,
   "id": "4b3e50de",
   "metadata": {},
   "outputs": [],
   "source": [
    "db.commit()"
   ]
  },
  {
   "cell_type": "code",
   "execution_count": 70,
   "id": "7cca40dd",
   "metadata": {},
   "outputs": [
    {
     "data": {
      "text/plain": [
       "<sqlite3.Cursor at 0x1d3c0808490>"
      ]
     },
     "execution_count": 70,
     "metadata": {},
     "output_type": "execute_result"
    }
   ],
   "source": [
    "c.execute(\"drop table address\")"
   ]
  },
  {
   "cell_type": "code",
   "execution_count": 75,
   "id": "be792c95",
   "metadata": {},
   "outputs": [],
   "source": [
    "data = c.execute(\"select * from address s left join student a on s.student_id=a.student_id\")"
   ]
  },
  {
   "cell_type": "code",
   "execution_count": 76,
   "id": "699fda65",
   "metadata": {},
   "outputs": [
    {
     "name": "stdout",
     "output_type": "stream",
     "text": [
      "(234, 110061, 'salapur', 'bijwasan', 9810838709, 234, 'sudhirp', 'kumar.sudhir@gmail.com', 258)\n",
      "(256, 110061, 'salapur', 'bijwasan', 9810838709, 256, 'sudhirp', 'kumar.sudhir@gmail.com', 258)\n",
      "(235, 110061, 'salapur', 'bijwasan', 9810838709, 235, 'sudhirp', 'kumar.sudhir@gmail.com', 258)\n",
      "(2356, 110061, 'salapur', 'bijwasan', 9810838709, 2356, 'sudhirp', 'kumar.sudhir@gmail.com', 258)\n",
      "(2345, 110061, 'salapur', 'bijwasan', 9810838709, 2345, 'sudhirp', 'kumar.sudhir@gmail.com', 258)\n",
      "(23585, 110061, 'salapur', 'bijwasan', 9810838709, None, None, None, None)\n",
      "(23574, 110061, 'salapur', 'bijwasan', 9810838709, None, None, None, None)\n",
      "(23452, 110061, 'salapur', 'bijwasan', 9810838709, 23452, 'sudhirp', 'kumar.sudhir@gmail.com', 258)\n",
      "(23595, 110061, 'salapur', 'bijwasan', 9810838709, None, None, None, None)\n",
      "(235065, 110061, 'salapur', 'bijwasan', 9810838709, None, None, None, None)\n",
      "(23445, 110061, 'salapur', 'bijwasan', 9810838709, 23445, 'sudhirp', 'kumar.sudhir@gmail.com', 258)\n",
      "(235956, 110061, 'salapur', 'bijwasan', 9810838709, None, None, None, None)\n"
     ]
    }
   ],
   "source": [
    "for i in data:\n",
    "    print(i)"
   ]
  },
  {
   "cell_type": "code",
   "execution_count": 77,
   "id": "c2663925",
   "metadata": {},
   "outputs": [
    {
     "name": "stdout",
     "output_type": "stream",
     "text": [
      "(234, 'sudhirp', 'kumar.sudhir@gmail.com', 258)\n",
      "(256, 'sudhirp', 'kumar.sudhir@gmail.com', 258)\n",
      "(235, 'sudhirp', 'kumar.sudhir@gmail.com', 258)\n",
      "(2356, 'sudhirp', 'kumar.sudhir@gmail.com', 258)\n",
      "(2345, 'sudhirp', 'kumar.sudhir@gmail.com', 258)\n",
      "(23464, 'sudhirp', 'kumar.sudhir@gmail.com', 258)\n",
      "(23452, 'sudhirp', 'kumar.sudhir@gmail.com', 258)\n",
      "(23446, 'sudhirp', 'kumar.sudhir@gmail.com', 258)\n",
      "(23478, 'sudhirp', 'kumar.sudhir@gmail.com', 258)\n",
      "(23445, 'sudhirp', 'kumar.sudhir@gmail.com', 258)\n",
      "(23402, 'sudhirp', 'kumar.sudhir@gmail.com', 258)\n",
      "(234128, 'sudhirp', 'kumar.sudhir@gmail.com', 258)\n"
     ]
    }
   ],
   "source": [
    "for i in c.execute(\"select * from student\"):\n",
    "    print(i)"
   ]
  },
  {
   "cell_type": "code",
   "execution_count": 78,
   "id": "db6facbb",
   "metadata": {},
   "outputs": [
    {
     "data": {
      "text/plain": [
       "<sqlite3.Cursor at 0x1d3c0808490>"
      ]
     },
     "execution_count": 78,
     "metadata": {},
     "output_type": "execute_result"
    }
   ],
   "source": [
    "c.execute('delete from student where student_id > 2000')"
   ]
  },
  {
   "cell_type": "code",
   "execution_count": 79,
   "id": "fbefd8b3",
   "metadata": {},
   "outputs": [
    {
     "name": "stdout",
     "output_type": "stream",
     "text": [
      "(234, 'sudhirp', 'kumar.sudhir@gmail.com', 258)\n",
      "(256, 'sudhirp', 'kumar.sudhir@gmail.com', 258)\n",
      "(235, 'sudhirp', 'kumar.sudhir@gmail.com', 258)\n"
     ]
    }
   ],
   "source": [
    "for i in c.execute(\"select * from student\"):\n",
    "    print(i)"
   ]
  },
  {
   "cell_type": "code",
   "execution_count": 81,
   "id": "ef95f959",
   "metadata": {},
   "outputs": [],
   "source": [
    "data = c.execute(\"select * from student\")"
   ]
  },
  {
   "cell_type": "code",
   "execution_count": 82,
   "id": "82050c7e",
   "metadata": {},
   "outputs": [
    {
     "data": {
      "text/plain": [
       "[(234, 'sudhirp', 'kumar.sudhir@gmail.com', 258),\n",
       " (256, 'sudhirp', 'kumar.sudhir@gmail.com', 258),\n",
       " (235, 'sudhirp', 'kumar.sudhir@gmail.com', 258)]"
      ]
     },
     "execution_count": 82,
     "metadata": {},
     "output_type": "execute_result"
    }
   ],
   "source": [
    "data.fetchall()"
   ]
  },
  {
   "cell_type": "code",
   "execution_count": 83,
   "id": "05bd42e4",
   "metadata": {},
   "outputs": [
    {
     "data": {
      "text/plain": [
       "<sqlite3.Cursor at 0x1d3c0808490>"
      ]
     },
     "execution_count": 83,
     "metadata": {},
     "output_type": "execute_result"
    }
   ],
   "source": [
    "c.execute(\"update student set student_id = 1000 where student_id =256 \")"
   ]
  },
  {
   "cell_type": "code",
   "execution_count": 84,
   "id": "6a92630e",
   "metadata": {},
   "outputs": [
    {
     "data": {
      "text/plain": [
       "[(234, 'sudhirp', 'kumar.sudhir@gmail.com', 258),\n",
       " (1000, 'sudhirp', 'kumar.sudhir@gmail.com', 258),\n",
       " (235, 'sudhirp', 'kumar.sudhir@gmail.com', 258)]"
      ]
     },
     "execution_count": 84,
     "metadata": {},
     "output_type": "execute_result"
    }
   ],
   "source": [
    "data = c.execute(\"select * from student\")\n",
    "data.fetchall()"
   ]
  },
  {
   "cell_type": "code",
   "execution_count": null,
   "id": "af8de599",
   "metadata": {},
   "outputs": [],
   "source": []
  }
 ],
 "metadata": {
  "kernelspec": {
   "display_name": "Python 3 (ipykernel)",
   "language": "python",
   "name": "python3"
  },
  "language_info": {
   "codemirror_mode": {
    "name": "ipython",
    "version": 3
   },
   "file_extension": ".py",
   "mimetype": "text/x-python",
   "name": "python",
   "nbconvert_exporter": "python",
   "pygments_lexer": "ipython3",
   "version": "3.9.7"
  }
 },
 "nbformat": 4,
 "nbformat_minor": 5
}
