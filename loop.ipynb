{
 "cells": [
  {
   "cell_type": "code",
   "execution_count": null,
   "id": "74d757d5",
   "metadata": {},
   "outputs": [],
   "source": [
    "a = 10"
   ]
  },
  {
   "cell_type": "code",
   "execution_count": 15,
   "id": "2f52b3de",
   "metadata": {},
   "outputs": [
    {
     "name": "stdout",
     "output_type": "stream",
     "text": [
      "my name is sudhir\n"
     ]
    }
   ],
   "source": [
    "if a < 15:\n",
    "    print(\"my name is sudhir\")"
   ]
  },
  {
   "cell_type": "code",
   "execution_count": 14,
   "id": "49ec3c00",
   "metadata": {},
   "outputs": [
    {
     "data": {
      "text/plain": [
       "True"
      ]
     },
     "execution_count": 14,
     "metadata": {},
     "output_type": "execute_result"
    }
   ],
   "source": [
    "a <15"
   ]
  },
  {
   "cell_type": "code",
   "execution_count": 17,
   "id": "45eb6564",
   "metadata": {},
   "outputs": [
    {
     "name": "stdout",
     "output_type": "stream",
     "text": [
      "my name is sudhir\n"
     ]
    }
   ],
   "source": [
    "if a < 15:\n",
    "    print(\"my name is sudhir\")"
   ]
  },
  {
   "cell_type": "code",
   "execution_count": 19,
   "id": "50544a04",
   "metadata": {},
   "outputs": [
    {
     "name": "stdout",
     "output_type": "stream",
     "text": [
      "my name is sudhir\n"
     ]
    }
   ],
   "source": [
    "if 24 > 15:\n",
    "    print(\"my name is sudhir\")"
   ]
  },
  {
   "cell_type": "code",
   "execution_count": 22,
   "id": "f5cc8efd",
   "metadata": {},
   "outputs": [
    {
     "name": "stdout",
     "output_type": "stream",
     "text": [
      "10 is lesser than 3\n"
     ]
    }
   ],
   "source": [
    "if 8 < 9:\n",
    "    print(\"10 is lesser than 3\")\n",
    "else :\n",
    "    print(\"if statemetn is wrong\")\n",
    "    "
   ]
  },
  {
   "cell_type": "code",
   "execution_count": 4,
   "id": "0fa9e404",
   "metadata": {},
   "outputs": [
    {
     "name": "stdout",
     "output_type": "stream",
     "text": [
      "2\n",
      "a is lesser than 10\n"
     ]
    }
   ],
   "source": [
    "a = int(input())\n",
    "if a <= 10 :\n",
    "    print(\"a is lesser than 10\")\n",
    "else :\n",
    "    print(\"a is greater than 10\")"
   ]
  },
  {
   "cell_type": "code",
   "execution_count": 22,
   "id": "781e39bd",
   "metadata": {},
   "outputs": [
    {
     "name": "stdout",
     "output_type": "stream",
     "text": [
      "98\n",
      "is greater than 50 & less than 100\n"
     ]
    }
   ],
   "source": [
    "a = float(input())\n",
    "if a < 10:\n",
    "    print(\"a is lesser than 10\")\n",
    "elif a >= 10 and a < 20 :\n",
    "    print(\"is greater than 10 & less than 20\")\n",
    "elif a >= 20 and a < 50 :\n",
    "    print(\"is greater than 20 & less than 50\")\n",
    "elif a >= 50 and a < 100 :\n",
    "    print(\"is greater than 50 & less than 100\")\n",
    "else :\n",
    "    print(\"this is unacceptable value\")"
   ]
  },
  {
   "cell_type": "code",
   "execution_count": 21,
   "id": "e86e6e33",
   "metadata": {},
   "outputs": [
    {
     "name": "stdout",
     "output_type": "stream",
     "text": [
      "50\n",
      "i will be able to buy car\n"
     ]
    }
   ],
   "source": [
    "income = int(input())\n",
    "if income < 50:\n",
    "    print(\"i will able to buy phone\")\n",
    "elif income < 70:\n",
    "    print(\"i will be able to buy car\")\n",
    "elif income < 90:\n",
    "    print(\"i will be able to rent a house\")\n",
    "else :\n",
    "    print(\"i wont be able to buy any thing\")"
   ]
  },
  {
   "cell_type": "code",
   "execution_count": 49,
   "id": "43f9dc1e",
   "metadata": {},
   "outputs": [
    {
     "name": "stdout",
     "output_type": "stream",
     "text": [
      "21000\n",
      "discount will be 4200.0\n"
     ]
    }
   ],
   "source": [
    "total_price = int(input())\n",
    "if total_price > 20000:\n",
    "    discount = total_price * .20\n",
    "    print(\"discount will be\" , discount)\n",
    "elif total_price <= 7000:\n",
    "    discount = total_price * .05\n",
    "    print(\"discount will be\" , discount)\n",
    "else :\n",
    "    print(\"wont be able to give any discount\")"
   ]
  },
  {
   "cell_type": "code",
   "execution_count": null,
   "id": "7faa34dc",
   "metadata": {},
   "outputs": [],
   "source": [
    "s = input(\"enter a string to star\")\n",
    "course = input(\"enter a course name\")\n",
    "service = input(\"enter service a name\")\n",
    "if s == \"one neuron\":\n",
    "    if course == \"dsa\":\n",
    "        print(\"yes its available\")\n",
    "    elif course == \"fsds\":\n",
    "        print(\"yes it is available right\")\n",
    "    else :\n",
    "        print(\"not available\")\n",
    "elif s == \"one neuron service\":\n",
    "    if service == \"course request\":\n",
    "        print(\"please request a demand for new course\")\n",
    "    elif service == \"module\":\n",
    "        print(\"raise demand to any new course\")\n",
    "    elif service ==\"doubt\":\n",
    "        print(\"learner you can raise demand\")\n",
    "    elif service ==\"work with us\":\n",
    "        print(\"you can raise a request for work with us\")\n",
    "    else :\n",
    "        print(\"give your feedback\")\n",
    "else :\n",
    "    print(\"kindly connect with our team\")\n",
    "        \n",
    "        "
   ]
  },
  {
   "cell_type": "code",
   "execution_count": null,
   "id": "7cc89b7f",
   "metadata": {},
   "outputs": [],
   "source": [
    " k = input(\"enter the compnay name\")\n",
    "applied_post = input(\"enter the name of post\")\n",
    "Post_name = input(\"data science\")\n",
    "if k == \"ecs\":\n",
    "    if applied_post == \"enggineer\" :\n",
    "        print(\"you can apply for enggineer post\")\n",
    "    elif applied_post == \"executive\" :\n",
    "        print(\"you can also apply for executive\")\n",
    "    else :\n",
    "        print(\"you can enquiry for another post\")\n",
    "elif k ==\"ecs\":\n",
    "    if Post_name ==\"data science\":\n",
    "        print(\"you can apply for data science post\")\n",
    "    elif Post_name == \"ask for post\":\n",
    "        print(\"you can contact to HR\")\n",
    "    else :\n",
    "        print(\"no vaccant\")\n",
    "else :\n",
    "    print(\"enqiry with HR\")"
   ]
  },
  {
   "cell_type": "code",
   "execution_count": null,
   "id": "5b2cce80",
   "metadata": {},
   "outputs": [],
   "source": [
    "l = [\"name\" , \"email id\", \"phone\" , \"address\"]\n",
    "for i in l :\n",
    "    print(i)"
   ]
  },
  {
   "cell_type": "code",
   "execution_count": 59,
   "id": "a9cfae50",
   "metadata": {},
   "outputs": [
    {
     "data": {
      "text/plain": [
       "['name', 'email id', 'phone', 'address']"
      ]
     },
     "execution_count": 59,
     "metadata": {},
     "output_type": "execute_result"
    }
   ],
   "source": [
    "l"
   ]
  },
  {
   "cell_type": "code",
   "execution_count": 46,
   "id": "2e0a24c5",
   "metadata": {},
   "outputs": [
    {
     "name": "stdout",
     "output_type": "stream",
     "text": [
      "1\n",
      "2\n",
      "5.6\n",
      "6\n",
      "if for loop\n"
     ]
    }
   ],
   "source": [
    "for i in l:\n",
    "    if i == \"emailid\":\n",
    "        break\n",
    "    print(i)\n",
    "else :\n",
    "    print(\"if for loop\")"
   ]
  },
  {
   "cell_type": "code",
   "execution_count": 47,
   "id": "363cfc2a",
   "metadata": {},
   "outputs": [
    {
     "data": {
      "text/plain": [
       "6"
      ]
     },
     "execution_count": 47,
     "metadata": {},
     "output_type": "execute_result"
    }
   ],
   "source": [
    "i"
   ]
  },
  {
   "cell_type": "code",
   "execution_count": null,
   "id": "7cf708d4",
   "metadata": {},
   "outputs": [],
   "source": []
  },
  {
   "cell_type": "code",
   "execution_count": 63,
   "id": "9074f99b",
   "metadata": {},
   "outputs": [
    {
     "name": "stdout",
     "output_type": "stream",
     "text": [
      "1\n",
      "2\n",
      "3\n",
      "4\n",
      "5\n"
     ]
    }
   ],
   "source": [
    "a = 1\n",
    "while a < 6:\n",
    "    print(a)\n",
    "    a = a+1"
   ]
  },
  {
   "cell_type": "code",
   "execution_count": 65,
   "id": "d504ce5d",
   "metadata": {},
   "outputs": [
    {
     "name": "stdout",
     "output_type": "stream",
     "text": [
      "1\n",
      "2\n",
      "3\n",
      "4\n"
     ]
    }
   ],
   "source": [
    "a = 1\n",
    "while a < 5:\n",
    "    print(a)\n",
    "    if a ==4:\n",
    "        break\n",
    "    a = a+1"
   ]
  },
  {
   "cell_type": "code",
   "execution_count": null,
   "id": "02142ad4",
   "metadata": {},
   "outputs": [],
   "source": []
  },
  {
   "cell_type": "code",
   "execution_count": 66,
   "id": "7d3a855e",
   "metadata": {},
   "outputs": [
    {
     "ename": "IndentationError",
     "evalue": "expected an indented block (Temp/ipykernel_13412/936073260.py, line 2)",
     "output_type": "error",
     "traceback": [
      "\u001b[1;36m  File \u001b[1;32m\"C:\\Users\\ADMIN-~1\\AppData\\Local\\Temp/ipykernel_13412/936073260.py\"\u001b[1;36m, line \u001b[1;32m2\u001b[0m\n\u001b[1;33m    while a < 5 :\u001b[0m\n\u001b[1;37m                 ^\u001b[0m\n\u001b[1;31mIndentationError\u001b[0m\u001b[1;31m:\u001b[0m expected an indented block\n"
     ]
    }
   ],
   "source": [
    "a = 1\n",
    "while a < 5 :\n",
    "    print(a)\n",
    "    if a ==3:\n",
    "        continue\n",
    "    a = a+1"
   ]
  },
  {
   "cell_type": "code",
   "execution_count": null,
   "id": "88ecefaa",
   "metadata": {},
   "outputs": [],
   "source": [
    "while a < 5\n",
    "    break"
   ]
  },
  {
   "cell_type": "code",
   "execution_count": 67,
   "id": "5e0f4498",
   "metadata": {},
   "outputs": [
    {
     "data": {
      "text/plain": [
       "[0, 1, 2, 3, 4, 5]"
      ]
     },
     "execution_count": 67,
     "metadata": {},
     "output_type": "execute_result"
    }
   ],
   "source": [
    "list(range(6))"
   ]
  },
  {
   "cell_type": "code",
   "execution_count": 69,
   "id": "95289056",
   "metadata": {},
   "outputs": [
    {
     "data": {
      "text/plain": [
       "[0, 1, 2, 3, 4, 5, 6]"
      ]
     },
     "execution_count": 69,
     "metadata": {},
     "output_type": "execute_result"
    }
   ],
   "source": [
    "list(range(0,7))"
   ]
  },
  {
   "cell_type": "code",
   "execution_count": 70,
   "id": "471506e2",
   "metadata": {},
   "outputs": [
    {
     "data": {
      "text/plain": [
       "[4,\n",
       " 5,\n",
       " 6,\n",
       " 7,\n",
       " 8,\n",
       " 9,\n",
       " 10,\n",
       " 11,\n",
       " 12,\n",
       " 13,\n",
       " 14,\n",
       " 15,\n",
       " 16,\n",
       " 17,\n",
       " 18,\n",
       " 19,\n",
       " 20,\n",
       " 21,\n",
       " 22,\n",
       " 23,\n",
       " 24,\n",
       " 25,\n",
       " 26,\n",
       " 27,\n",
       " 28,\n",
       " 29,\n",
       " 30,\n",
       " 31,\n",
       " 32,\n",
       " 33,\n",
       " 34,\n",
       " 35,\n",
       " 36,\n",
       " 37,\n",
       " 38,\n",
       " 39,\n",
       " 40,\n",
       " 41,\n",
       " 42,\n",
       " 43,\n",
       " 44,\n",
       " 45,\n",
       " 46,\n",
       " 47,\n",
       " 48,\n",
       " 49,\n",
       " 50,\n",
       " 51,\n",
       " 52,\n",
       " 53,\n",
       " 54,\n",
       " 55,\n",
       " 56,\n",
       " 57,\n",
       " 58,\n",
       " 59,\n",
       " 60,\n",
       " 61,\n",
       " 62,\n",
       " 63,\n",
       " 64,\n",
       " 65,\n",
       " 66,\n",
       " 67,\n",
       " 68,\n",
       " 69,\n",
       " 70,\n",
       " 71,\n",
       " 72,\n",
       " 73,\n",
       " 74,\n",
       " 75,\n",
       " 76,\n",
       " 77,\n",
       " 78,\n",
       " 79,\n",
       " 80,\n",
       " 81,\n",
       " 82,\n",
       " 83,\n",
       " 84,\n",
       " 85,\n",
       " 86,\n",
       " 87,\n",
       " 88,\n",
       " 89,\n",
       " 90,\n",
       " 91,\n",
       " 92,\n",
       " 93,\n",
       " 94,\n",
       " 95,\n",
       " 96,\n",
       " 97,\n",
       " 98,\n",
       " 99]"
      ]
     },
     "execution_count": 70,
     "metadata": {},
     "output_type": "execute_result"
    }
   ],
   "source": [
    "list(range(4,100))"
   ]
  },
  {
   "cell_type": "code",
   "execution_count": 72,
   "id": "b89165f6",
   "metadata": {},
   "outputs": [
    {
     "data": {
      "text/plain": [
       "[3, 4, 5, 6, 7, 8, 9]"
      ]
     },
     "execution_count": 72,
     "metadata": {},
     "output_type": "execute_result"
    }
   ],
   "source": [
    "list(range(3,10))"
   ]
  },
  {
   "cell_type": "code",
   "execution_count": 73,
   "id": "1d83a9ca",
   "metadata": {},
   "outputs": [
    {
     "data": {
      "text/plain": [
       "[]"
      ]
     },
     "execution_count": 73,
     "metadata": {},
     "output_type": "execute_result"
    }
   ],
   "source": [
    "list(range(3,10,-1))"
   ]
  },
  {
   "cell_type": "code",
   "execution_count": 74,
   "id": "e61c3c44",
   "metadata": {},
   "outputs": [
    {
     "data": {
      "text/plain": [
       "[10, 9, 8, 7]"
      ]
     },
     "execution_count": 74,
     "metadata": {},
     "output_type": "execute_result"
    }
   ],
   "source": [
    "list(range(10,6,-1))"
   ]
  },
  {
   "cell_type": "code",
   "execution_count": 76,
   "id": "31b3fb13",
   "metadata": {},
   "outputs": [
    {
     "data": {
      "text/plain": [
       "[10, 8, 6, 4, 2, 0, -2, -4]"
      ]
     },
     "execution_count": 76,
     "metadata": {},
     "output_type": "execute_result"
    }
   ],
   "source": [
    "list(range(10,-5,-2))"
   ]
  },
  {
   "cell_type": "code",
   "execution_count": 77,
   "id": "7b0a32ec",
   "metadata": {},
   "outputs": [
    {
     "name": "stdout",
     "output_type": "stream",
     "text": [
      "0\n",
      "1\n",
      "2\n",
      "3\n",
      "4\n",
      "5\n",
      "6\n"
     ]
    }
   ],
   "source": [
    "for i in range(7):\n",
    "    print(i)"
   ]
  },
  {
   "cell_type": "code",
   "execution_count": 78,
   "id": "a1dca9f8",
   "metadata": {},
   "outputs": [
    {
     "name": "stdout",
     "output_type": "stream",
     "text": [
      "++\r\n",
      "++++\r\n",
      "++++++\r\n",
      "++++++++\r\n",
      "++++++++++\r\n"
     ]
    }
   ],
   "source": [
    "n =5\n",
    "for i in range(0,n):\n",
    "    for j in range(0,i+1):\n",
    "        print(\"++\",end = \"\")\n",
    "    print(\"\\r\")"
   ]
  },
  {
   "cell_type": "code",
   "execution_count": 81,
   "id": "8ac9ab58",
   "metadata": {},
   "outputs": [
    {
     "name": "stdout",
     "output_type": "stream",
     "text": [
      "0\n",
      "1\n",
      "2\n",
      "3\n",
      "4\n",
      "5\n",
      "6\n",
      "7\n",
      "8\n"
     ]
    }
   ],
   "source": [
    "l = [1,2,3,4,5,77,77,8,8,]\n",
    "for i in range(len(l)) :\n",
    "    print(i)"
   ]
  },
  {
   "cell_type": "code",
   "execution_count": 80,
   "id": "b0df3367",
   "metadata": {},
   "outputs": [
    {
     "data": {
      "text/plain": [
       "[1, 2, 3, 4, 5, 77, 77, 8, 8]"
      ]
     },
     "execution_count": 80,
     "metadata": {},
     "output_type": "execute_result"
    }
   ],
   "source": [
    "l"
   ]
  },
  {
   "cell_type": "code",
   "execution_count": 82,
   "id": "2cc7742e",
   "metadata": {},
   "outputs": [],
   "source": [
    "t = (3,4,4,5,6,7,7)"
   ]
  },
  {
   "cell_type": "code",
   "execution_count": 83,
   "id": "5dd368b7",
   "metadata": {},
   "outputs": [
    {
     "data": {
      "text/plain": [
       "(3, 4, 4, 5, 6, 7, 7)"
      ]
     },
     "execution_count": 83,
     "metadata": {},
     "output_type": "execute_result"
    }
   ],
   "source": [
    "t"
   ]
  },
  {
   "cell_type": "code",
   "execution_count": 86,
   "id": "aede06bc",
   "metadata": {},
   "outputs": [
    {
     "name": "stdout",
     "output_type": "stream",
     "text": [
      "7\n",
      "7\n",
      "6\n",
      "5\n",
      "4\n",
      "4\n",
      "3\n"
     ]
    }
   ],
   "source": [
    "for i in range(len(t)-1,-1,-1) :\n",
    "    print(t[i])\n"
   ]
  },
  {
   "cell_type": "code",
   "execution_count": 89,
   "id": "c3fa0713",
   "metadata": {},
   "outputs": [],
   "source": [
    "d = {\"a\" : \"fkgj\" , \"d\" : \"dfdf\", \"c\" : \"lasf\" }"
   ]
  },
  {
   "cell_type": "code",
   "execution_count": 90,
   "id": "7b0a9f9b",
   "metadata": {},
   "outputs": [
    {
     "name": "stdout",
     "output_type": "stream",
     "text": [
      "a\n",
      "d\n",
      "c\n"
     ]
    }
   ],
   "source": [
    "for i in d:\n",
    "    print(i)"
   ]
  },
  {
   "cell_type": "code",
   "execution_count": 11,
   "id": "71ca6b63",
   "metadata": {},
   "outputs": [
    {
     "name": "stdout",
     "output_type": "stream",
     "text": [
      "0 3\n",
      "1 4\n",
      "2 4\n",
      "3 5\n",
      "4 6\n",
      "5 7\n",
      "6 8\n",
      "7 9\n",
      "8 3\n",
      "9 6\n"
     ]
    }
   ],
   "source": [
    "t = (3,4,4,5,6,7,8,9,3,6)\n",
    "for i in range(len(t)):\n",
    "    print(i,t[i])"
   ]
  },
  {
   "cell_type": "code",
   "execution_count": 12,
   "id": "dc0ae43d",
   "metadata": {},
   "outputs": [
    {
     "data": {
      "text/plain": [
       "(3, 4, 4, 5, 6, 7, 8, 9, 3, 6)"
      ]
     },
     "execution_count": 12,
     "metadata": {},
     "output_type": "execute_result"
    }
   ],
   "source": [
    "t "
   ]
  },
  {
   "cell_type": "code",
   "execution_count": 13,
   "id": "48d8adc1",
   "metadata": {},
   "outputs": [
    {
     "data": {
      "text/plain": [
       "(6, 3, 9, 8, 7, 6, 5, 4, 4, 3)"
      ]
     },
     "execution_count": 13,
     "metadata": {},
     "output_type": "execute_result"
    }
   ],
   "source": [
    "t[::-1]"
   ]
  },
  {
   "cell_type": "code",
   "execution_count": 21,
   "id": "3f6302c2",
   "metadata": {},
   "outputs": [
    {
     "name": "stdout",
     "output_type": "stream",
     "text": [
      "6\n",
      "3\n",
      "9\n",
      "8\n",
      "7\n",
      "6\n",
      "5\n",
      "4\n",
      "4\n",
      "3\n"
     ]
    }
   ],
   "source": [
    "t = (3,4,4,5,6,7,8,9,3,6)\n",
    "for i in list(range(len(t)-1,-1,-1)):\n",
    "    print(t[i])"
   ]
  },
  {
   "cell_type": "code",
   "execution_count": 24,
   "id": "8c5d15da",
   "metadata": {},
   "outputs": [],
   "source": [
    "d ={\"a\" : \"fjfvf\" , \"b\" : \"sudhf\" , \"c\" :[1,2,3,45] , \"d\" : (1,2,3,4,58,5,66) , \"e\" : \"kuamr\"}"
   ]
  },
  {
   "cell_type": "code",
   "execution_count": 25,
   "id": "ac492db8",
   "metadata": {},
   "outputs": [
    {
     "name": "stdout",
     "output_type": "stream",
     "text": [
      "a\n",
      "b\n",
      "c\n",
      "d\n",
      "e\n"
     ]
    }
   ],
   "source": [
    "for i in d:\n",
    "    print(i)"
   ]
  },
  {
   "cell_type": "code",
   "execution_count": 26,
   "id": "0f57ba18",
   "metadata": {},
   "outputs": [
    {
     "name": "stdout",
     "output_type": "stream",
     "text": [
      "a fjfvf\n",
      "b sudhf\n",
      "c [1, 2, 3, 45]\n",
      "d (1, 2, 3, 4, 58, 5, 66)\n",
      "e kuamr\n"
     ]
    }
   ],
   "source": [
    " for i in d:\n",
    "        print(i,d[i])"
   ]
  },
  {
   "cell_type": "code",
   "execution_count": 28,
   "id": "3cc2949b",
   "metadata": {},
   "outputs": [
    {
     "name": "stdout",
     "output_type": "stream",
     "text": [
      "('a', 'fjfvf')\n",
      "('b', 'sudhf')\n",
      "('c', [1, 2, 3, 45])\n",
      "('d', (1, 2, 3, 4, 58, 5, 66))\n",
      "('e', 'kuamr')\n"
     ]
    }
   ],
   "source": [
    "for i in d.items():\n",
    "    print(i)"
   ]
  },
  {
   "cell_type": "code",
   "execution_count": 32,
   "id": "ed8beb9b",
   "metadata": {},
   "outputs": [],
   "source": [
    "s = {3,530,6652,7,7,5,6,8,5,4,5,6,8,21,4,23,5,2,4,5,6}"
   ]
  },
  {
   "cell_type": "code",
   "execution_count": 33,
   "id": "fccd4977",
   "metadata": {},
   "outputs": [
    {
     "data": {
      "text/plain": [
       "{2, 3, 4, 5, 6, 7, 8, 21, 23, 530, 6652}"
      ]
     },
     "execution_count": 33,
     "metadata": {},
     "output_type": "execute_result"
    }
   ],
   "source": [
    "s"
   ]
  },
  {
   "cell_type": "code",
   "execution_count": 34,
   "id": "db33c32b",
   "metadata": {},
   "outputs": [
    {
     "name": "stdout",
     "output_type": "stream",
     "text": [
      "2\n",
      "3\n",
      "4\n",
      "5\n",
      "6\n",
      "7\n",
      "8\n",
      "530\n",
      "21\n",
      "23\n",
      "6652\n"
     ]
    }
   ],
   "source": [
    "for i in s:\n",
    "    print(i)"
   ]
  },
  {
   "cell_type": "code",
   "execution_count": 35,
   "id": "247ef2d1",
   "metadata": {
    "scrolled": true
   },
   "outputs": [
    {
     "name": "stdout",
     "output_type": "stream",
     "text": [
      "1\n",
      "2\n",
      "3\n",
      "4\n",
      "6\n",
      "7\n",
      "2\n",
      "5\n"
     ]
    }
   ],
   "source": [
    "l = [1,2,3,4,6,7,2,5]\n",
    "for i in l:\n",
    "    print(i)"
   ]
  },
  {
   "cell_type": "code",
   "execution_count": 36,
   "id": "59347efc",
   "metadata": {},
   "outputs": [
    {
     "name": "stdout",
     "output_type": "stream",
     "text": [
      "s\n",
      "u\n",
      "d\n",
      "h\n"
     ]
    }
   ],
   "source": [
    "s = \"sudh\"\n",
    "for i in s:\n",
    "    print(i)"
   ]
  },
  {
   "cell_type": "code",
   "execution_count": 38,
   "id": "3ec1153d",
   "metadata": {},
   "outputs": [],
   "source": [
    "t = (1,2,3,5,68,5,2)"
   ]
  },
  {
   "cell_type": "code",
   "execution_count": 39,
   "id": "f4f47444",
   "metadata": {},
   "outputs": [
    {
     "name": "stdout",
     "output_type": "stream",
     "text": [
      "1\n",
      "2\n",
      "3\n",
      "5\n",
      "68\n",
      "5\n",
      "2\n"
     ]
    }
   ],
   "source": [
    "for i in t:\n",
    "    print(i)"
   ]
  },
  {
   "cell_type": "code",
   "execution_count": 41,
   "id": "62da36c8",
   "metadata": {},
   "outputs": [],
   "source": [
    "l = [1,2,5.6,4+7j,\"sudh\"]"
   ]
  },
  {
   "cell_type": "code",
   "execution_count": 42,
   "id": "908cd198",
   "metadata": {},
   "outputs": [
    {
     "name": "stdout",
     "output_type": "stream",
     "text": [
      "<class 'int'>\n",
      "<class 'int'>\n",
      "<class 'float'>\n",
      "<class 'complex'>\n",
      "<class 'str'>\n"
     ]
    }
   ],
   "source": [
    "for i in l:\n",
    "    print(type(i))"
   ]
  },
  {
   "cell_type": "code",
   "execution_count": 44,
   "id": "a3952425",
   "metadata": {},
   "outputs": [
    {
     "name": "stdout",
     "output_type": "stream",
     "text": [
      "3\n",
      "4\n",
      "7.6\n",
      "8\n"
     ]
    }
   ],
   "source": [
    "l = [1,2,5.6,6]\n",
    "l1 = []\n",
    "for i in l:\n",
    "    print(i+2)\n",
    "    l1.append(i+2)"
   ]
  },
  {
   "cell_type": "code",
   "execution_count": 45,
   "id": "9bdedadb",
   "metadata": {},
   "outputs": [
    {
     "data": {
      "text/plain": [
       "[3, 4, 7.6, 8]"
      ]
     },
     "execution_count": 45,
     "metadata": {},
     "output_type": "execute_result"
    }
   ],
   "source": [
    "l1"
   ]
  },
  {
   "cell_type": "code",
   "execution_count": 50,
   "id": "718e534e",
   "metadata": {},
   "outputs": [
    {
     "data": {
      "text/plain": [
       "19"
      ]
     },
     "execution_count": 50,
     "metadata": {},
     "output_type": "execute_result"
    }
   ],
   "source": [
    "s = \"this is basic class\"\n",
    "len(s)"
   ]
  },
  {
   "cell_type": "code",
   "execution_count": 51,
   "id": "51b026a3",
   "metadata": {},
   "outputs": [
    {
     "name": "stdout",
     "output_type": "stream",
     "text": [
      "19\n"
     ]
    }
   ],
   "source": [
    "count = 0\n",
    "for i in s:\n",
    "    count = count +1\n",
    "print(count)"
   ]
  },
  {
   "cell_type": "code",
   "execution_count": 52,
   "id": "e99108ac",
   "metadata": {},
   "outputs": [
    {
     "name": "stdout",
     "output_type": "stream",
     "text": [
      "19\n"
     ]
    }
   ],
   "source": [
    "count = 0\n",
    "for i in s:\n",
    "    #count = count +1\n",
    "    count+=1\n",
    "print(count)"
   ]
  },
  {
   "cell_type": "code",
   "execution_count": 59,
   "id": "563debdf",
   "metadata": {},
   "outputs": [],
   "source": [
    "s = \"this is basic class\""
   ]
  },
  {
   "cell_type": "code",
   "execution_count": 60,
   "id": "5a359340",
   "metadata": {},
   "outputs": [
    {
     "data": {
      "text/plain": [
       "'ssalc cisab si siht'"
      ]
     },
     "execution_count": 60,
     "metadata": {},
     "output_type": "execute_result"
    }
   ],
   "source": [
    "s[::-1]"
   ]
  },
  {
   "cell_type": "code",
   "execution_count": 61,
   "id": "866d4760",
   "metadata": {},
   "outputs": [],
   "source": [
    "for i in range(len(s)-1, -1-1):\n",
    "    print(s[i])"
   ]
  },
  {
   "cell_type": "code",
   "execution_count": 62,
   "id": "244484bb",
   "metadata": {},
   "outputs": [],
   "source": [
    "s = \"this is basic class\""
   ]
  },
  {
   "cell_type": "code",
   "execution_count": 63,
   "id": "421c7f0c",
   "metadata": {},
   "outputs": [
    {
     "data": {
      "text/plain": [
       "'this is basic class'"
      ]
     },
     "execution_count": 63,
     "metadata": {},
     "output_type": "execute_result"
    }
   ],
   "source": [
    "s"
   ]
  },
  {
   "cell_type": "code",
   "execution_count": 64,
   "id": "96e4664e",
   "metadata": {},
   "outputs": [],
   "source": [
    "for i in range(len(s)-1, -1-1):\n",
    "    print(s[i])"
   ]
  },
  {
   "cell_type": "code",
   "execution_count": null,
   "id": "b3f08501",
   "metadata": {},
   "outputs": [],
   "source": []
  },
  {
   "cell_type": "code",
   "execution_count": null,
   "id": "50921cdd",
   "metadata": {},
   "outputs": [],
   "source": [
    "s = \"ineuron\"\n",
    "v = \"AaEeIiOoUo\""
   ]
  },
  {
   "cell_type": "code",
   "execution_count": null,
   "id": "15b1d235",
   "metadata": {},
   "outputs": [],
   "source": [
    "\"tnent\"\n",
    "\"malaylam\"\n",
    "\"eye\""
   ]
  },
  {
   "cell_type": "code",
   "execution_count": 67,
   "id": "6b0db72f",
   "metadata": {},
   "outputs": [
    {
     "name": "stdout",
     "output_type": "stream",
     "text": [
      "sudh\n",
      "Not pelindrome\n"
     ]
    }
   ],
   "source": [
    "s = input()\n",
    "v =s[::-1]\n",
    "if s ==v:\n",
    "    print(\"is pelindrome\")\n",
    "else :\n",
    "    print(\"Not pelindrome\")"
   ]
  },
  {
   "cell_type": "code",
   "execution_count": 68,
   "id": "92348f68",
   "metadata": {},
   "outputs": [],
   "source": [
    "d = {\"india\" : \"IN\" , \"canada\" : \"CA\" , \"china\" : \"ch\" , \"usa\" : \"US\"}"
   ]
  },
  {
   "cell_type": "code",
   "execution_count": 69,
   "id": "40f4f569",
   "metadata": {},
   "outputs": [
    {
     "data": {
      "text/plain": [
       "{'india': 'IN', 'canada': 'CA', 'china': 'ch', 'usa': 'US'}"
      ]
     },
     "execution_count": 69,
     "metadata": {},
     "output_type": "execute_result"
    }
   ],
   "source": [
    "d"
   ]
  },
  {
   "cell_type": "code",
   "execution_count": 70,
   "id": "011164c8",
   "metadata": {},
   "outputs": [
    {
     "data": {
      "text/plain": [
       "True"
      ]
     },
     "execution_count": 70,
     "metadata": {},
     "output_type": "execute_result"
    }
   ],
   "source": [
    "\"india\" in d"
   ]
  },
  {
   "cell_type": "code",
   "execution_count": 73,
   "id": "4aa721ce",
   "metadata": {},
   "outputs": [
    {
     "ename": "TypeError",
     "evalue": "'builtin_function_or_method' object is not subscriptable",
     "output_type": "error",
     "traceback": [
      "\u001b[1;31m---------------------------------------------------------------------------\u001b[0m",
      "\u001b[1;31mTypeError\u001b[0m                                 Traceback (most recent call last)",
      "\u001b[1;32mC:\\Users\\ADMIN-~1\\AppData\\Local\\Temp/ipykernel_12976/4243456763.py\u001b[0m in \u001b[0;36m<module>\u001b[1;34m\u001b[0m\n\u001b[1;32m----> 1\u001b[1;33m \u001b[0mlist\u001b[0m\u001b[1;33m(\u001b[0m\u001b[0mrange\u001b[0m\u001b[1;33m(\u001b[0m\u001b[0mlen\u001b[0m\u001b[1;33m[\u001b[0m\u001b[0md\u001b[0m\u001b[1;33m]\u001b[0m\u001b[1;33m-\u001b[0m\u001b[1;36m1\u001b[0m\u001b[1;33m,\u001b[0m\u001b[1;33m-\u001b[0m\u001b[1;36m1\u001b[0m\u001b[1;33m)\u001b[0m\u001b[1;33m)\u001b[0m\u001b[1;33m\u001b[0m\u001b[1;33m\u001b[0m\u001b[0m\n\u001b[0m",
      "\u001b[1;31mTypeError\u001b[0m: 'builtin_function_or_method' object is not subscriptable"
     ]
    }
   ],
   "source": [
    "list(range(len[d]-1,-1))"
   ]
  },
  {
   "cell_type": "code",
   "execution_count": 76,
   "id": "e581de12",
   "metadata": {},
   "outputs": [
    {
     "ename": "SyntaxError",
     "evalue": "invalid syntax (Temp/ipykernel_12976/1363482195.py, line 2)",
     "output_type": "error",
     "traceback": [
      "\u001b[1;36m  File \u001b[1;32m\"C:\\Users\\ADMIN-~1\\AppData\\Local\\Temp/ipykernel_12976/1363482195.py\"\u001b[1;36m, line \u001b[1;32m2\u001b[0m\n\u001b[1;33m    l_smaller = []for i in d:\u001b[0m\n\u001b[1;37m                  ^\u001b[0m\n\u001b[1;31mSyntaxError\u001b[0m\u001b[1;31m:\u001b[0m invalid syntax\n"
     ]
    }
   ],
   "source": [
    "L_greater = []\n",
    "l_smaller = []\n",
    "for i in d:\n",
    "    if len(i)\n",
    "    print(i)"
   ]
  },
  {
   "cell_type": "code",
   "execution_count": 109,
   "id": "c7c0c379",
   "metadata": {},
   "outputs": [],
   "source": [
    "d_1 = {\"ineuron\": {\"a\" :14,\"b\" :10,\"c\" :4} , \"course\" : {'d':45,\"e\" :34,\"f\":1}}\n",
    "       \n",
    "    \n"
   ]
  },
  {
   "cell_type": "code",
   "execution_count": 106,
   "id": "ec9ecbe5",
   "metadata": {},
   "outputs": [],
   "source": [
    "d2 = {\"ineuron\": {\"a\" :14,\"b\" :10,\"c\" :4} , \"course\" : {'d':45,\"e\" :34,\"f\":1} , \"g\" :\"sidjg\", \"hh\" : (1,2,35), \"i\" : 123 , \"j\" : [1,23,5,6,8]}\n",
    "       \n",
    "    "
   ]
  },
  {
   "cell_type": "code",
   "execution_count": 110,
   "id": "e106756d",
   "metadata": {},
   "outputs": [
    {
     "data": {
      "text/plain": [
       "{'ineuron': {'a': 14, 'b': 10, 'c': 4},\n",
       " 'course': {'d': 45, 'e': 34, 'f': 1},\n",
       " 'g': 'sidjg',\n",
       " 'hh': (1, 2, 35),\n",
       " 'i': 123,\n",
       " 'j': [1, 23, 5, 6, 8]}"
      ]
     },
     "execution_count": 110,
     "metadata": {},
     "output_type": "execute_result"
    }
   ],
   "source": [
    "d2"
   ]
  },
  {
   "cell_type": "code",
   "execution_count": 5,
   "id": "7b4543eb",
   "metadata": {},
   "outputs": [
    {
     "name": "stdout",
     "output_type": "stream",
     "text": [
      "enter the first name:sudhir\n",
      "enter the last name:kumar\n",
      "my name is : sudhir kumar\n"
     ]
    }
   ],
   "source": [
    "first_name = input(\"enter the first name:\")\n",
    "last_name = input(\"enter the last name:\")\n",
    "if first_name == 'sudhir'and last_name == 'kumar':\n",
    "    print(\"my name is :\",first_name ,last_name)\n",
    "else :\n",
    "    print(\"name is not correct\")"
   ]
  },
  {
   "cell_type": "code",
   "execution_count": 7,
   "id": "610e1fce",
   "metadata": {},
   "outputs": [
    {
     "ename": "NameError",
     "evalue": "name 'a' is not defined",
     "output_type": "error",
     "traceback": [
      "\u001b[1;31m---------------------------------------------------------------------------\u001b[0m",
      "\u001b[1;31mNameError\u001b[0m                                 Traceback (most recent call last)",
      "\u001b[1;32mC:\\Users\\ADMIN-~1\\AppData\\Local\\Temp/ipykernel_14412/1292576726.py\u001b[0m in \u001b[0;36m<module>\u001b[1;34m\u001b[0m\n\u001b[1;32m----> 1\u001b[1;33m \u001b[1;32mif\u001b[0m \u001b[0ma\u001b[0m \u001b[1;33m==\u001b[0m \u001b[1;36m10\u001b[0m \u001b[1;33m:\u001b[0m \u001b[0mprint\u001b[0m\u001b[1;33m(\u001b[0m\u001b[1;34m\"this is valid\"\u001b[0m\u001b[1;33m)\u001b[0m\u001b[1;33m\u001b[0m\u001b[1;33m\u001b[0m\u001b[0m\n\u001b[0m",
      "\u001b[1;31mNameError\u001b[0m: name 'a' is not defined"
     ]
    }
   ],
   "source": [
    "if a == 10 : print(\"this is valid\")"
   ]
  },
  {
   "cell_type": "code",
   "execution_count": 10,
   "id": "499fd82b",
   "metadata": {},
   "outputs": [],
   "source": [
    "a = 10"
   ]
  },
  {
   "cell_type": "code",
   "execution_count": 11,
   "id": "c9f867e2",
   "metadata": {},
   "outputs": [
    {
     "name": "stdout",
     "output_type": "stream",
     "text": [
      "this is valid\n"
     ]
    }
   ],
   "source": [
    "if a == 10: \n",
    "    print(\"this is valid\")"
   ]
  },
  {
   "cell_type": "code",
   "execution_count": 13,
   "id": "dbc82a80",
   "metadata": {},
   "outputs": [
    {
     "name": "stdout",
     "output_type": "stream",
     "text": [
      "speed is\n",
      "speed is\n",
      "speed is\n",
      "speed is\n",
      "speed is\n",
      "speed is\n",
      "speed is\n",
      "speed is\n",
      "speed is\n"
     ]
    }
   ],
   "source": [
    "initial_speed = 0\n",
    "final_speed = 100\n",
    "count = 1\n",
    "while initial_speed <= final_speed:\n",
    "    print(\"speed is\")\n",
    "    count = count +1\n",
    "    if count == 10:\n",
    "        break"
   ]
  },
  {
   "cell_type": "code",
   "execution_count": 16,
   "id": "de9486ee",
   "metadata": {},
   "outputs": [
    {
     "name": "stdout",
     "output_type": "stream",
     "text": [
      "1\n",
      "2\n",
      "3\n",
      "4\n"
     ]
    }
   ],
   "source": [
    "i = 1\n",
    "j = 5\n",
    "while i<j:\n",
    "    print(i)\n",
    "    i = i+1"
   ]
  },
  {
   "cell_type": "code",
   "execution_count": 17,
   "id": "f301205b",
   "metadata": {},
   "outputs": [
    {
     "name": "stdout",
     "output_type": "stream",
     "text": [
      "1\n",
      "2\n",
      "3\n",
      "4\n",
      "no 10rs notes are available\n"
     ]
    }
   ],
   "source": [
    "notes = 5\n",
    "i = 1\n",
    "while i < notes :\n",
    "    print(i)\n",
    "    i = i+1\n",
    "else :\n",
    "    print(\"no 10rs notes are available\")"
   ]
  },
  {
   "cell_type": "code",
   "execution_count": 18,
   "id": "b137704d",
   "metadata": {},
   "outputs": [],
   "source": [
    "s = \"sudh\""
   ]
  },
  {
   "cell_type": "code",
   "execution_count": 23,
   "id": "af8cc6b4",
   "metadata": {},
   "outputs": [
    {
     "data": {
      "text/plain": [
       "'s'"
      ]
     },
     "execution_count": 23,
     "metadata": {},
     "output_type": "execute_result"
    }
   ],
   "source": [
    "s[0]"
   ]
  },
  {
   "cell_type": "code",
   "execution_count": 25,
   "id": "960ce831",
   "metadata": {},
   "outputs": [
    {
     "data": {
      "text/plain": [
       "4"
      ]
     },
     "execution_count": 25,
     "metadata": {},
     "output_type": "execute_result"
    }
   ],
   "source": [
    "len(s)"
   ]
  },
  {
   "cell_type": "code",
   "execution_count": 26,
   "id": "a9b8cdf4",
   "metadata": {},
   "outputs": [
    {
     "data": {
      "text/plain": [
       "'h'"
      ]
     },
     "execution_count": 26,
     "metadata": {},
     "output_type": "execute_result"
    }
   ],
   "source": [
    "s[-1]"
   ]
  },
  {
   "cell_type": "code",
   "execution_count": 27,
   "id": "001caa46",
   "metadata": {},
   "outputs": [],
   "source": [
    "s = \"my name is sudhir\""
   ]
  },
  {
   "cell_type": "code",
   "execution_count": 28,
   "id": "f9ffe703",
   "metadata": {},
   "outputs": [
    {
     "data": {
      "text/plain": [
       "'r'"
      ]
     },
     "execution_count": 28,
     "metadata": {},
     "output_type": "execute_result"
    }
   ],
   "source": [
    "s[-1]"
   ]
  },
  {
   "cell_type": "code",
   "execution_count": 29,
   "id": "a1491d6b",
   "metadata": {},
   "outputs": [
    {
     "data": {
      "text/plain": [
       "'rihdus si eman ym'"
      ]
     },
     "execution_count": 29,
     "metadata": {},
     "output_type": "execute_result"
    }
   ],
   "source": [
    "s[::-1]"
   ]
  },
  {
   "cell_type": "code",
   "execution_count": 30,
   "id": "d58a7937",
   "metadata": {},
   "outputs": [],
   "source": [
    "s = \"ineoron\"\n",
    "ss = \"\"\n",
    "for i in range(len(s)):\n",
    "    if s[i] == \"n\":\n",
    "        continue\n",
    "    else:\n",
    "        ss = ss+s[i]"
   ]
  },
  {
   "cell_type": "code",
   "execution_count": 31,
   "id": "6abfb940",
   "metadata": {},
   "outputs": [
    {
     "data": {
      "text/plain": [
       "'ieoro'"
      ]
     },
     "execution_count": 31,
     "metadata": {},
     "output_type": "execute_result"
    }
   ],
   "source": [
    "ss"
   ]
  },
  {
   "cell_type": "code",
   "execution_count": 40,
   "id": "a5566eef",
   "metadata": {},
   "outputs": [],
   "source": [
    "s = \"sudh\""
   ]
  },
  {
   "cell_type": "code",
   "execution_count": 41,
   "id": "a98f30e2",
   "metadata": {},
   "outputs": [
    {
     "name": "stdout",
     "output_type": "stream",
     "text": [
      "s\n",
      "u\n",
      "d\n",
      "h\n"
     ]
    }
   ],
   "source": [
    "for i in s:\n",
    "    print(i)"
   ]
  },
  {
   "cell_type": "code",
   "execution_count": 39,
   "id": "0c4b8375",
   "metadata": {},
   "outputs": [
    {
     "data": {
      "text/plain": [
       "7"
      ]
     },
     "execution_count": 39,
     "metadata": {},
     "output_type": "execute_result"
    }
   ],
   "source": [
    "s"
   ]
  },
  {
   "cell_type": "code",
   "execution_count": 45,
   "id": "81de3c4a",
   "metadata": {},
   "outputs": [
    {
     "name": "stdout",
     "output_type": "stream",
     "text": [
      "+ \r\n",
      "+ + \r\n",
      "+ + + \r\n",
      "+ + + + \r\n",
      "+ + + + + \r\n",
      "+ + + + + + \r\n",
      "+ + + + + + + \r\n",
      "+ + + + + + + + \r\n"
     ]
    }
   ],
   "source": [
    "n = 8\n",
    "for i in range(0 ,n):\n",
    "    for j in range(0 ,i+1):\n",
    "        print(\"+ \",end = \"\")\n",
    "    print(\"\\r\")"
   ]
  },
  {
   "cell_type": "code",
   "execution_count": 48,
   "id": "0bbf2602",
   "metadata": {},
   "outputs": [
    {
     "ename": "SyntaxError",
     "evalue": "invalid syntax (Temp/ipykernel_14412/2209879602.py, line 3)",
     "output_type": "error",
     "traceback": [
      "\u001b[1;36m  File \u001b[1;32m\"C:\\Users\\ADMIN-~1\\AppData\\Local\\Temp/ipykernel_14412/2209879602.py\"\u001b[1;36m, line \u001b[1;32m3\u001b[0m\n\u001b[1;33m    for j in range(8 ,8:i-1):\u001b[0m\n\u001b[1;37m                       ^\u001b[0m\n\u001b[1;31mSyntaxError\u001b[0m\u001b[1;31m:\u001b[0m invalid syntax\n"
     ]
    }
   ],
   "source": [
    "n = 8\n",
    "for i in range(0 ,n):\n",
    "    for j in range(8 ,8:i-1):\n",
    "        print(\"+ \",end = \"\")\n",
    "    print(\"\\r\")"
   ]
  },
  {
   "cell_type": "code",
   "execution_count": 49,
   "id": "f179366a",
   "metadata": {},
   "outputs": [
    {
     "data": {
      "text/plain": [
       "range(10, 0)"
      ]
     },
     "execution_count": 49,
     "metadata": {},
     "output_type": "execute_result"
    }
   ],
   "source": [
    "range(10,0)"
   ]
  },
  {
   "cell_type": "code",
   "execution_count": 80,
   "id": "915c6e8f",
   "metadata": {},
   "outputs": [
    {
     "name": "stdout",
     "output_type": "stream",
     "text": [
      "enter the rows required:9\n",
      "*****************\n",
      " ***************\n",
      "  *************\n",
      "   ***********\n",
      "    *********\n",
      "     *******\n",
      "      *****\n",
      "       ***\n",
      "        *\n"
     ]
    }
   ],
   "source": [
    "n = int(input('enter the rows required:'))\n",
    "for i in range(n,0,-1):\n",
    "    for j in range(n-i):\n",
    "        print(' ' , end = '')\n",
    "        \n",
    "    for j in range(2*i-1):\n",
    "        print(\"*\" , end = \"\")\n",
    "    print()\n",
    "    "
   ]
  },
  {
   "cell_type": "code",
   "execution_count": 6,
   "id": "a9cf2b1b",
   "metadata": {},
   "outputs": [
    {
     "name": "stdout",
     "output_type": "stream",
     "text": [
      "8\n",
      "7\n",
      "6\n",
      "5\n"
     ]
    }
   ],
   "source": [
    "for i in range(8,4,-1):\n",
    "    print(i)"
   ]
  },
  {
   "cell_type": "code",
   "execution_count": 17,
   "id": "8e0fa5c5",
   "metadata": {},
   "outputs": [
    {
     "name": "stdout",
     "output_type": "stream",
     "text": [
      "        * \n",
      "       * * \n",
      "      * * * \n",
      "     * * * * \n",
      "    * * * * * \n",
      "   * * * * * * \n",
      "  * * * * * * * \n",
      " * * * * * * * * \n",
      "* * * * * * * * * \n"
     ]
    }
   ],
   "source": [
    "n = 9\n",
    "i = 0\n",
    "while i < n:\n",
    "    print(' '*(n-i-1) + '* '*(i+1))\n",
    "    i +=1"
   ]
  },
  {
   "cell_type": "code",
   "execution_count": 18,
   "id": "876eb6eb",
   "metadata": {},
   "outputs": [],
   "source": [
    "l = list()"
   ]
  },
  {
   "cell_type": "code",
   "execution_count": 19,
   "id": "fce64b46",
   "metadata": {},
   "outputs": [
    {
     "ename": "SyntaxError",
     "evalue": "invalid syntax (Temp/ipykernel_7228/905978117.py, line 2)",
     "output_type": "error",
     "traceback": [
      "\u001b[1;36m  File \u001b[1;32m\"C:\\Users\\ADMIN-~1\\AppData\\Local\\Temp/ipykernel_7228/905978117.py\"\u001b[1;36m, line \u001b[1;32m2\u001b[0m\n\u001b[1;33m    ph no = 9856255\u001b[0m\n\u001b[1;37m       ^\u001b[0m\n\u001b[1;31mSyntaxError\u001b[0m\u001b[1;31m:\u001b[0m invalid syntax\n"
     ]
    }
   ],
   "source": [
    "name = \"sudhir\"\n",
    "ph no = 9856255\n",
    "add = \"salapur\""
   ]
  },
  {
   "cell_type": "code",
   "execution_count": 22,
   "id": "7758af59",
   "metadata": {},
   "outputs": [],
   "source": [
    "l = [\"sudhf\", 1256,'fggbgj',True,45+8j,[1,2,5,\"sud\"],6.45  ]"
   ]
  },
  {
   "cell_type": "code",
   "execution_count": 37,
   "id": "12f1d9a1",
   "metadata": {},
   "outputs": [],
   "source": [
    "for i in l:\n",
    "    if type(i) == list:\n",
    "        for j in i:\n",
    "            if j == int:\n",
    ",,                print(type(j))"
   ]
  },
  {
   "cell_type": "code",
   "execution_count": 38,
   "id": "adbc8d68",
   "metadata": {},
   "outputs": [
    {
     "data": {
      "text/plain": [
       "['sudhf', 1256, 'fggbgj', True, (45+8j), [1, 2, 5, 'sud'], 6.45]"
      ]
     },
     "execution_count": 38,
     "metadata": {},
     "output_type": "execute_result"
    }
   ],
   "source": [
    "l"
   ]
  },
  {
   "cell_type": "code",
   "execution_count": 46,
   "id": "f8c6e6c2",
   "metadata": {},
   "outputs": [
    {
     "name": "stdout",
     "output_type": "stream",
     "text": [
      "<class 'int'>\n",
      "<class 'int'>\n",
      "<class 'int'>\n",
      "<class 'str'>\n"
     ]
    }
   ],
   "source": [
    "for i in l:\n",
    "    if type(i) == list:\n",
    "        for j in i:\n",
    "            print(type(j))"
   ]
  },
  {
   "cell_type": "code",
   "execution_count": 54,
   "id": "701aa5dc",
   "metadata": {},
   "outputs": [
    {
     "name": "stdout",
     "output_type": "stream",
     "text": [
      "8\n"
     ]
    }
   ],
   "source": [
    "for i in l:\n",
    "    if type(i) == list:\n",
    "        n = 0\n",
    "        for j in i:\n",
    "            if type(j) == int:\n",
    "                n = n+j\n",
    "                \n",
    "        print(n)\n",
    "            \n",
    "        "
   ]
  },
  {
   "cell_type": "code",
   "execution_count": 56,
   "id": "766be85f",
   "metadata": {},
   "outputs": [
    {
     "data": {
      "text/plain": [
       "[0, 1, 2, 3, 4, 5, 6, 7, 8, 9]"
      ]
     },
     "execution_count": 56,
     "metadata": {},
     "output_type": "execute_result"
    }
   ],
   "source": [
    "list(range(10))"
   ]
  },
  {
   "cell_type": "code",
   "execution_count": null,
   "id": "a6c9dacb",
   "metadata": {},
   "outputs": [],
   "source": []
  }
 ],
 "metadata": {
  "kernelspec": {
   "display_name": "Python 3 (ipykernel)",
   "language": "python",
   "name": "python3"
  },
  "language_info": {
   "codemirror_mode": {
    "name": "ipython",
    "version": 3
   },
   "file_extension": ".py",
   "mimetype": "text/x-python",
   "name": "python",
   "nbconvert_exporter": "python",
   "pygments_lexer": "ipython3",
   "version": "3.9.7"
  }
 },
 "nbformat": 4,
 "nbformat_minor": 5
}
