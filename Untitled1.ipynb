{
 "cells": [
  {
   "cell_type": "code",
   "execution_count": 1,
   "id": "ce1b73d9",
   "metadata": {},
   "outputs": [],
   "source": [
    "s = \"sudhir\""
   ]
  },
  {
   "cell_type": "code",
   "execution_count": null,
   "id": "ea93dd76",
   "metadata": {},
   "outputs": [],
   "source": []
  },
  {
   "cell_type": "code",
   "execution_count": 2,
   "id": "7a1e22a5",
   "metadata": {},
   "outputs": [
    {
     "data": {
      "text/plain": [
       "'sudhir'"
      ]
     },
     "execution_count": 2,
     "metadata": {},
     "output_type": "execute_result"
    }
   ],
   "source": [
    "s"
   ]
  },
  {
   "cell_type": "code",
   "execution_count": 3,
   "id": "f455f0b9",
   "metadata": {},
   "outputs": [
    {
     "data": {
      "text/plain": [
       "'sudhir'"
      ]
     },
     "execution_count": 3,
     "metadata": {},
     "output_type": "execute_result"
    }
   ],
   "source": [
    "s[0:100]"
   ]
  },
  {
   "cell_type": "code",
   "execution_count": 13,
   "id": "6d12dd08",
   "metadata": {},
   "outputs": [
    {
     "data": {
      "text/plain": [
       "''"
      ]
     },
     "execution_count": 13,
     "metadata": {},
     "output_type": "execute_result"
    }
   ],
   "source": [
    "s[-1:-4]"
   ]
  },
  {
   "cell_type": "code",
   "execution_count": 14,
   "id": "400f5ece",
   "metadata": {},
   "outputs": [],
   "source": [
    "n = \"neuron\""
   ]
  },
  {
   "cell_type": "code",
   "execution_count": 15,
   "id": "53a15bd4",
   "metadata": {},
   "outputs": [
    {
     "data": {
      "text/plain": [
       "'n'"
      ]
     },
     "execution_count": 15,
     "metadata": {},
     "output_type": "execute_result"
    }
   ],
   "source": [
    "n[-1]"
   ]
  },
  {
   "cell_type": "code",
   "execution_count": 16,
   "id": "c0064930",
   "metadata": {},
   "outputs": [
    {
     "data": {
      "text/plain": [
       "''"
      ]
     },
     "execution_count": 16,
     "metadata": {},
     "output_type": "execute_result"
    }
   ],
   "source": [
    "n[-1:-4]"
   ]
  },
  {
   "cell_type": "code",
   "execution_count": 17,
   "id": "96bcd02b",
   "metadata": {},
   "outputs": [],
   "source": [
    "a = \"kumar\""
   ]
  },
  {
   "cell_type": "code",
   "execution_count": 18,
   "id": "4ab6e3e4",
   "metadata": {},
   "outputs": [
    {
     "data": {
      "text/plain": [
       "'kumar'"
      ]
     },
     "execution_count": 18,
     "metadata": {},
     "output_type": "execute_result"
    }
   ],
   "source": [
    "a[0:300]"
   ]
  },
  {
   "cell_type": "code",
   "execution_count": 21,
   "id": "4203164e",
   "metadata": {},
   "outputs": [
    {
     "data": {
      "text/plain": [
       "'kumar'"
      ]
     },
     "execution_count": 21,
     "metadata": {},
     "output_type": "execute_result"
    }
   ],
   "source": [
    "a[0:300:1]"
   ]
  },
  {
   "cell_type": "code",
   "execution_count": 22,
   "id": "6bea77f2",
   "metadata": {},
   "outputs": [
    {
     "data": {
      "text/plain": [
       "'kmr'"
      ]
     },
     "execution_count": 22,
     "metadata": {},
     "output_type": "execute_result"
    }
   ],
   "source": [
    "a[0:300:2]"
   ]
  },
  {
   "cell_type": "code",
   "execution_count": 23,
   "id": "0cbb9c2c",
   "metadata": {},
   "outputs": [
    {
     "data": {
      "text/plain": [
       "'ka'"
      ]
     },
     "execution_count": 23,
     "metadata": {},
     "output_type": "execute_result"
    }
   ],
   "source": [
    "a[0:300:3]"
   ]
  },
  {
   "cell_type": "code",
   "execution_count": 24,
   "id": "0e1c6a07",
   "metadata": {},
   "outputs": [
    {
     "data": {
      "text/plain": [
       "''"
      ]
     },
     "execution_count": 24,
     "metadata": {},
     "output_type": "execute_result"
    }
   ],
   "source": [
    "a[0:100:-1]"
   ]
  },
  {
   "cell_type": "code",
   "execution_count": 26,
   "id": "9a53af92",
   "metadata": {},
   "outputs": [
    {
     "data": {
      "text/plain": [
       "'ram'"
      ]
     },
     "execution_count": 26,
     "metadata": {},
     "output_type": "execute_result"
    }
   ],
   "source": [
    "a[-1:-4:-1]"
   ]
  },
  {
   "cell_type": "code",
   "execution_count": 27,
   "id": "7c508b9e",
   "metadata": {},
   "outputs": [
    {
     "data": {
      "text/plain": [
       "'k'"
      ]
     },
     "execution_count": 27,
     "metadata": {},
     "output_type": "execute_result"
    }
   ],
   "source": [
    "a[0:-10:-1]"
   ]
  },
  {
   "cell_type": "code",
   "execution_count": 28,
   "id": "e1e23cfa",
   "metadata": {},
   "outputs": [
    {
     "data": {
      "text/plain": [
       "'kumar'"
      ]
     },
     "execution_count": 28,
     "metadata": {},
     "output_type": "execute_result"
    }
   ],
   "source": [
    "a[::]"
   ]
  },
  {
   "cell_type": "code",
   "execution_count": 29,
   "id": "db61a8b9",
   "metadata": {},
   "outputs": [
    {
     "data": {
      "text/plain": [
       "'kumar'"
      ]
     },
     "execution_count": 29,
     "metadata": {},
     "output_type": "execute_result"
    }
   ],
   "source": [
    "a[:8]"
   ]
  },
  {
   "cell_type": "code",
   "execution_count": 37,
   "id": "16ed4721",
   "metadata": {},
   "outputs": [
    {
     "data": {
      "text/plain": [
       "'a'"
      ]
     },
     "execution_count": 37,
     "metadata": {},
     "output_type": "execute_result"
    }
   ],
   "source": [
    "a[-2:-1]"
   ]
  },
  {
   "cell_type": "code",
   "execution_count": 38,
   "id": "2a4f3e1b",
   "metadata": {},
   "outputs": [
    {
     "data": {
      "text/plain": [
       "'ramuk'"
      ]
     },
     "execution_count": 38,
     "metadata": {},
     "output_type": "execute_result"
    }
   ],
   "source": [
    "a[::-1]"
   ]
  },
  {
   "cell_type": "code",
   "execution_count": 39,
   "id": "8f03d87a",
   "metadata": {},
   "outputs": [
    {
     "data": {
      "text/plain": [
       "'ramuk'"
      ]
     },
     "execution_count": 39,
     "metadata": {},
     "output_type": "execute_result"
    }
   ],
   "source": [
    " a[-1::-1]"
   ]
  },
  {
   "cell_type": "code",
   "execution_count": 40,
   "id": "2102d919",
   "metadata": {},
   "outputs": [],
   "source": [
    "a = \"i a am working with ineuron\""
   ]
  },
  {
   "cell_type": "code",
   "execution_count": 42,
   "id": "bb74d869",
   "metadata": {},
   "outputs": [
    {
     "data": {
      "text/plain": [
       "'norueni htiw gnikrow ma a'"
      ]
     },
     "execution_count": 42,
     "metadata": {},
     "output_type": "execute_result"
    }
   ],
   "source": [
    "a[::-1]"
   ]
  },
  {
   "cell_type": "code",
   "execution_count": 44,
   "id": "247b7f1a",
   "metadata": {},
   "outputs": [
    {
     "data": {
      "text/plain": [
       "'norueni htiw gnikrow ma a'"
      ]
     },
     "execution_count": 44,
     "metadata": {},
     "output_type": "execute_result"
    }
   ],
   "source": [
    "a[-1::-1]"
   ]
  },
  {
   "cell_type": "code",
   "execution_count": 47,
   "id": "b6343e48",
   "metadata": {},
   "outputs": [
    {
     "data": {
      "text/plain": [
       "''"
      ]
     },
     "execution_count": 47,
     "metadata": {},
     "output_type": "execute_result"
    }
   ],
   "source": [
    "a[-5:5:]"
   ]
  },
  {
   "cell_type": "code",
   "execution_count": 48,
   "id": "c76ae482",
   "metadata": {},
   "outputs": [
    {
     "data": {
      "text/plain": [
       "'eni htiw gnikro'"
      ]
     },
     "execution_count": 48,
     "metadata": {},
     "output_type": "execute_result"
    }
   ],
   "source": [
    "a[-5:5:-1\n",
    "]"
   ]
  },
  {
   "cell_type": "code",
   "execution_count": 49,
   "id": "d93681eb",
   "metadata": {},
   "outputs": [
    {
     "data": {
      "text/plain": [
       "'amoi tiun'"
      ]
     },
     "execution_count": 49,
     "metadata": {},
     "output_type": "execute_result"
    }
   ],
   "source": [
    "a[0:100:3]"
   ]
  },
  {
   "cell_type": "code",
   "execution_count": 50,
   "id": "4eb61241",
   "metadata": {},
   "outputs": [
    {
     "data": {
      "text/plain": [
       "'sudhsudhsudh'"
      ]
     },
     "execution_count": 50,
     "metadata": {},
     "output_type": "execute_result"
    }
   ],
   "source": [
    "\"sudh\"*3"
   ]
  },
  {
   "cell_type": "code",
   "execution_count": 52,
   "id": "8e8f8ff2",
   "metadata": {},
   "outputs": [
    {
     "data": {
      "text/plain": [
       "'sudhkumar'"
      ]
     },
     "execution_count": 52,
     "metadata": {},
     "output_type": "execute_result"
    }
   ],
   "source": [
    "\"sudh\" +\"kumar\""
   ]
  },
  {
   "cell_type": "code",
   "execution_count": 53,
   "id": "031a229c",
   "metadata": {},
   "outputs": [
    {
     "data": {
      "text/plain": [
       "'a am working with ineuron'"
      ]
     },
     "execution_count": 53,
     "metadata": {},
     "output_type": "execute_result"
    }
   ],
   "source": [
    "a"
   ]
  },
  {
   "cell_type": "code",
   "execution_count": 54,
   "id": "94649d75",
   "metadata": {},
   "outputs": [
    {
     "data": {
      "text/plain": [
       "25"
      ]
     },
     "execution_count": 54,
     "metadata": {},
     "output_type": "execute_result"
    }
   ],
   "source": [
    "len(a)"
   ]
  },
  {
   "cell_type": "code",
   "execution_count": 57,
   "id": "7bf73cda",
   "metadata": {},
   "outputs": [
    {
     "data": {
      "text/plain": [
       "0"
      ]
     },
     "execution_count": 57,
     "metadata": {},
     "output_type": "execute_result"
    }
   ],
   "source": [
    " a.find('a')"
   ]
  },
  {
   "cell_type": "code",
   "execution_count": 58,
   "id": "9f4ecc26",
   "metadata": {},
   "outputs": [
    {
     "data": {
      "text/plain": [
       "9"
      ]
     },
     "execution_count": 58,
     "metadata": {},
     "output_type": "execute_result"
    }
   ],
   "source": [
    "a.find('i')"
   ]
  },
  {
   "cell_type": "code",
   "execution_count": 59,
   "id": "1400aa5c",
   "metadata": {},
   "outputs": [
    {
     "data": {
      "text/plain": [
       "-1"
      ]
     },
     "execution_count": 59,
     "metadata": {},
     "output_type": "execute_result"
    }
   ],
   "source": [
    "a.find('ia')"
   ]
  },
  {
   "cell_type": "code",
   "execution_count": 60,
   "id": "38b031b7",
   "metadata": {},
   "outputs": [
    {
     "data": {
      "text/plain": [
       "9"
      ]
     },
     "execution_count": 60,
     "metadata": {},
     "output_type": "execute_result"
    }
   ],
   "source": [
    "a.find('in')"
   ]
  },
  {
   "cell_type": "code",
   "execution_count": 61,
   "id": "24f21d98",
   "metadata": {},
   "outputs": [
    {
     "data": {
      "text/plain": [
       "3"
      ]
     },
     "execution_count": 61,
     "metadata": {},
     "output_type": "execute_result"
    }
   ],
   "source": [
    "a.count('i')"
   ]
  },
  {
   "cell_type": "code",
   "execution_count": 62,
   "id": "adec1a5f",
   "metadata": {},
   "outputs": [
    {
     "data": {
      "text/plain": [
       "0"
      ]
     },
     "execution_count": 62,
     "metadata": {},
     "output_type": "execute_result"
    }
   ],
   "source": [
    "a.count('x')"
   ]
  },
  {
   "cell_type": "code",
   "execution_count": 63,
   "id": "3498a85b",
   "metadata": {},
   "outputs": [
    {
     "data": {
      "text/plain": [
       "'a am working with ineuron'"
      ]
     },
     "execution_count": 63,
     "metadata": {},
     "output_type": "execute_result"
    }
   ],
   "source": [
    "a"
   ]
  },
  {
   "cell_type": "code",
   "execution_count": 65,
   "id": "cf221213",
   "metadata": {},
   "outputs": [
    {
     "data": {
      "text/plain": [
       "['a', 'am', 'working', 'with', 'ineuron']"
      ]
     },
     "execution_count": 65,
     "metadata": {},
     "output_type": "execute_result"
    }
   ],
   "source": [
    "a.split()"
   ]
  },
  {
   "cell_type": "code",
   "execution_count": 68,
   "id": "163e4c20",
   "metadata": {},
   "outputs": [],
   "source": [
    "l = a.split()"
   ]
  },
  {
   "cell_type": "code",
   "execution_count": 69,
   "id": "27a5a9d2",
   "metadata": {},
   "outputs": [
    {
     "data": {
      "text/plain": [
       "['a', 'am', 'working', 'with', 'ineuron']"
      ]
     },
     "execution_count": 69,
     "metadata": {},
     "output_type": "execute_result"
    }
   ],
   "source": [
    "l"
   ]
  },
  {
   "cell_type": "code",
   "execution_count": 70,
   "id": "66edd32e",
   "metadata": {},
   "outputs": [
    {
     "data": {
      "text/plain": [
       "'a'"
      ]
     },
     "execution_count": 70,
     "metadata": {},
     "output_type": "execute_result"
    }
   ],
   "source": [
    "l[0]"
   ]
  },
  {
   "cell_type": "code",
   "execution_count": 71,
   "id": "5ddeb8ea",
   "metadata": {},
   "outputs": [
    {
     "data": {
      "text/plain": [
       "['a', 'am', 'working', 'with', 'ineuron']"
      ]
     },
     "execution_count": 71,
     "metadata": {},
     "output_type": "execute_result"
    }
   ],
   "source": [
    "l[0:5]"
   ]
  },
  {
   "cell_type": "code",
   "execution_count": 72,
   "id": "c1f5fcbf",
   "metadata": {},
   "outputs": [
    {
     "data": {
      "text/plain": [
       "['a am ', 'orking ', 'ith ineuron']"
      ]
     },
     "execution_count": 72,
     "metadata": {},
     "output_type": "execute_result"
    }
   ],
   "source": [
    "a.split('w')"
   ]
  },
  {
   "cell_type": "code",
   "execution_count": 73,
   "id": "22a0ee32",
   "metadata": {},
   "outputs": [
    {
     "data": {
      "text/plain": [
       "['a am ', 'rking with ineuron']"
      ]
     },
     "execution_count": 73,
     "metadata": {},
     "output_type": "execute_result"
    }
   ],
   "source": [
    "a.split('wo')"
   ]
  },
  {
   "cell_type": "code",
   "execution_count": 74,
   "id": "b62f54c1",
   "metadata": {},
   "outputs": [
    {
     "data": {
      "text/plain": [
       "'a am working with ineuron'"
      ]
     },
     "execution_count": 74,
     "metadata": {},
     "output_type": "execute_result"
    }
   ],
   "source": [
    "a"
   ]
  },
  {
   "cell_type": "code",
   "execution_count": 75,
   "id": "6d733af3",
   "metadata": {},
   "outputs": [
    {
     "data": {
      "text/plain": [
       "'A AM WORKING WITH INEURON'"
      ]
     },
     "execution_count": 75,
     "metadata": {},
     "output_type": "execute_result"
    }
   ],
   "source": [
    "a.upper()"
   ]
  },
  {
   "cell_type": "code",
   "execution_count": 76,
   "id": "ed274f4e",
   "metadata": {},
   "outputs": [],
   "source": [
    " s = \"sUdh\""
   ]
  },
  {
   "cell_type": "code",
   "execution_count": 77,
   "id": "d44034a1",
   "metadata": {},
   "outputs": [
    {
     "data": {
      "text/plain": [
       "'SuDH'"
      ]
     },
     "execution_count": 77,
     "metadata": {},
     "output_type": "execute_result"
    }
   ],
   "source": [
    "s.swapcase()"
   ]
  },
  {
   "cell_type": "code",
   "execution_count": 78,
   "id": "3e6547fe",
   "metadata": {},
   "outputs": [
    {
     "data": {
      "text/plain": [
       "'Sudh'"
      ]
     },
     "execution_count": 78,
     "metadata": {},
     "output_type": "execute_result"
    }
   ],
   "source": [
    "s.title()"
   ]
  },
  {
   "cell_type": "code",
   "execution_count": 80,
   "id": "f9cd0d70",
   "metadata": {},
   "outputs": [
    {
     "data": {
      "text/plain": [
       "'Sudh'"
      ]
     },
     "execution_count": 80,
     "metadata": {},
     "output_type": "execute_result"
    }
   ],
   "source": [
    "s.capitalize()"
   ]
  },
  {
   "cell_type": "code",
   "execution_count": 83,
   "id": "d19c8477",
   "metadata": {},
   "outputs": [],
   "source": [
    "b = \"sudh\"\n",
    "c = \"ineuron\""
   ]
  },
  {
   "cell_type": "code",
   "execution_count": 84,
   "id": "1a10a263",
   "metadata": {},
   "outputs": [
    {
     "data": {
      "text/plain": [
       "'isudhnsudhesudhusudhrsudhosudhn'"
      ]
     },
     "execution_count": 84,
     "metadata": {},
     "output_type": "execute_result"
    }
   ],
   "source": [
    "b.join(c)"
   ]
  },
  {
   "cell_type": "code",
   "execution_count": 85,
   "id": "52ae86ba",
   "metadata": {},
   "outputs": [
    {
     "data": {
      "text/plain": [
       "'s u d h'"
      ]
     },
     "execution_count": 85,
     "metadata": {},
     "output_type": "execute_result"
    }
   ],
   "source": [
    "\" \".join(\"sudh\")"
   ]
  },
  {
   "cell_type": "code",
   "execution_count": 86,
   "id": "0b46c986",
   "metadata": {},
   "outputs": [
    {
     "data": {
      "text/plain": [
       "<reversed at 0x1a18597f0d0>"
      ]
     },
     "execution_count": 86,
     "metadata": {},
     "output_type": "execute_result"
    }
   ],
   "source": [
    "reversed(\"sudh\")"
   ]
  },
  {
   "cell_type": "code",
   "execution_count": 87,
   "id": "c9630883",
   "metadata": {},
   "outputs": [
    {
     "data": {
      "text/plain": [
       "'hdus'"
      ]
     },
     "execution_count": 87,
     "metadata": {},
     "output_type": "execute_result"
    }
   ],
   "source": [
    "s = \"sudh\"\n",
    "s[::-1]"
   ]
  },
  {
   "cell_type": "code",
   "execution_count": 90,
   "id": "bae30792",
   "metadata": {},
   "outputs": [],
   "source": [
    "s = \" sudh \""
   ]
  },
  {
   "cell_type": "code",
   "execution_count": 91,
   "id": "e81876c0",
   "metadata": {},
   "outputs": [
    {
     "data": {
      "text/plain": [
       "' sudh'"
      ]
     },
     "execution_count": 91,
     "metadata": {},
     "output_type": "execute_result"
    }
   ],
   "source": [
    "s.rstrip()"
   ]
  },
  {
   "cell_type": "code",
   "execution_count": 92,
   "id": "4ed3e85f",
   "metadata": {},
   "outputs": [
    {
     "data": {
      "text/plain": [
       "'sudh '"
      ]
     },
     "execution_count": 92,
     "metadata": {},
     "output_type": "execute_result"
    }
   ],
   "source": [
    "s.lstrip()"
   ]
  },
  {
   "cell_type": "code",
   "execution_count": 93,
   "id": "6aacd630",
   "metadata": {},
   "outputs": [
    {
     "data": {
      "text/plain": [
       "'sudh'"
      ]
     },
     "execution_count": 93,
     "metadata": {},
     "output_type": "execute_result"
    }
   ],
   "source": [
    "s.strip()"
   ]
  },
  {
   "cell_type": "code",
   "execution_count": 94,
   "id": "9231a479",
   "metadata": {},
   "outputs": [],
   "source": [
    "s = \"sudh\""
   ]
  },
  {
   "cell_type": "code",
   "execution_count": 95,
   "id": "d13a4da4",
   "metadata": {},
   "outputs": [
    {
     "data": {
      "text/plain": [
       "'sxyzdh'"
      ]
     },
     "execution_count": 95,
     "metadata": {},
     "output_type": "execute_result"
    }
   ],
   "source": [
    "s.replace(\"u\", \"xyz\")"
   ]
  },
  {
   "cell_type": "code",
   "execution_count": 96,
   "id": "5937a6f9",
   "metadata": {},
   "outputs": [
    {
     "data": {
      "text/plain": [
       "'sudh'"
      ]
     },
     "execution_count": 96,
     "metadata": {},
     "output_type": "execute_result"
    }
   ],
   "source": [
    "s.replace(\"t\",\"xyz\")"
   ]
  },
  {
   "cell_type": "code",
   "execution_count": 97,
   "id": "d690347b",
   "metadata": {},
   "outputs": [
    {
     "data": {
      "text/plain": [
       "'sudh    kumar'"
      ]
     },
     "execution_count": 97,
     "metadata": {},
     "output_type": "execute_result"
    }
   ],
   "source": [
    " \"sudh\\tkumar\".expandtabs()"
   ]
  },
  {
   "cell_type": "code",
   "execution_count": 98,
   "id": "9fddeeea",
   "metadata": {},
   "outputs": [],
   "source": [
    "s = \"sudh\""
   ]
  },
  {
   "cell_type": "code",
   "execution_count": 99,
   "id": "14e98206",
   "metadata": {},
   "outputs": [
    {
     "data": {
      "text/plain": [
       "'ttttttttttttttttttsudhtttttttttttttttttt'"
      ]
     },
     "execution_count": 99,
     "metadata": {},
     "output_type": "execute_result"
    }
   ],
   "source": [
    "s.center(40,'t')"
   ]
  },
  {
   "cell_type": "code",
   "execution_count": 102,
   "id": "d56c092a",
   "metadata": {},
   "outputs": [
    {
     "data": {
      "text/plain": [
       "'     indians are the best in world'"
      ]
     },
     "execution_count": 102,
     "metadata": {},
     "output_type": "execute_result"
    }
   ],
   "source": [
    "b = \"     indians are the best in world\"\n",
    "b.strip('are')"
   ]
  },
  {
   "cell_type": "code",
   "execution_count": 103,
   "id": "b15c54e9",
   "metadata": {},
   "outputs": [
    {
     "data": {
      "text/plain": [
       "'indians are the best in world'"
      ]
     },
     "execution_count": 103,
     "metadata": {},
     "output_type": "execute_result"
    }
   ],
   "source": [
    "b.strip()"
   ]
  },
  {
   "cell_type": "code",
   "execution_count": null,
   "id": "16aeca77",
   "metadata": {},
   "outputs": [],
   "source": []
  }
 ],
 "metadata": {
  "kernelspec": {
   "display_name": "Python 3 (ipykernel)",
   "language": "python",
   "name": "python3"
  },
  "language_info": {
   "codemirror_mode": {
    "name": "ipython",
    "version": 3
   },
   "file_extension": ".py",
   "mimetype": "text/x-python",
   "name": "python",
   "nbconvert_exporter": "python",
   "pygments_lexer": "ipython3",
   "version": "3.9.7"
  }
 },
 "nbformat": 4,
 "nbformat_minor": 5
}
