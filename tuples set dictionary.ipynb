{
 "cells": [
  {
   "cell_type": "code",
   "execution_count": 1,
   "id": "7a3ca6a6",
   "metadata": {},
   "outputs": [],
   "source": [
    "s = \"sudhir\""
   ]
  },
  {
   "cell_type": "code",
   "execution_count": 2,
   "id": "82c8f1b9",
   "metadata": {},
   "outputs": [
    {
     "data": {
      "text/plain": [
       "'sudhir'"
      ]
     },
     "execution_count": 2,
     "metadata": {},
     "output_type": "execute_result"
    }
   ],
   "source": [
    "s"
   ]
  },
  {
   "cell_type": "code",
   "execution_count": 3,
   "id": "fe6c701d",
   "metadata": {},
   "outputs": [
    {
     "data": {
      "text/plain": [
       "'sudhir'"
      ]
     },
     "execution_count": 3,
     "metadata": {},
     "output_type": "execute_result"
    }
   ],
   "source": [
    "s[0:100]"
   ]
  },
  {
   "cell_type": "code",
   "execution_count": 13,
   "id": "7d3b3dc5",
   "metadata": {},
   "outputs": [
    {
     "data": {
      "text/plain": [
       "''"
      ]
     },
     "execution_count": 13,
     "metadata": {},
     "output_type": "execute_result"
    }
   ],
   "source": [
    "s[-1:-4]"
   ]
  },
  {
   "cell_type": "code",
   "execution_count": 14,
   "id": "fecd113e",
   "metadata": {},
   "outputs": [],
   "source": [
    "n = \"neuron\""
   ]
  },
  {
   "cell_type": "code",
   "execution_count": 15,
   "id": "a8926e8e",
   "metadata": {},
   "outputs": [
    {
     "data": {
      "text/plain": [
       "'n'"
      ]
     },
     "execution_count": 15,
     "metadata": {},
     "output_type": "execute_result"
    }
   ],
   "source": [
    "n[-1]"
   ]
  },
  {
   "cell_type": "code",
   "execution_count": 16,
   "id": "87a541fd",
   "metadata": {},
   "outputs": [
    {
     "data": {
      "text/plain": [
       "''"
      ]
     },
     "execution_count": 16,
     "metadata": {},
     "output_type": "execute_result"
    }
   ],
   "source": [
    "n[-1:-4]"
   ]
  },
  {
   "cell_type": "code",
   "execution_count": 17,
   "id": "cb6b8491",
   "metadata": {},
   "outputs": [],
   "source": [
    "a = \"kumar\""
   ]
  },
  {
   "cell_type": "code",
   "execution_count": 18,
   "id": "e590dbf6",
   "metadata": {},
   "outputs": [
    {
     "data": {
      "text/plain": [
       "'kumar'"
      ]
     },
     "execution_count": 18,
     "metadata": {},
     "output_type": "execute_result"
    }
   ],
   "source": [
    "a[0:300]"
   ]
  },
  {
   "cell_type": "code",
   "execution_count": 21,
   "id": "2719d602",
   "metadata": {},
   "outputs": [
    {
     "data": {
      "text/plain": [
       "'kumar'"
      ]
     },
     "execution_count": 21,
     "metadata": {},
     "output_type": "execute_result"
    }
   ],
   "source": [
    "a[0:300:1]"
   ]
  },
  {
   "cell_type": "code",
   "execution_count": 22,
   "id": "2151249f",
   "metadata": {},
   "outputs": [
    {
     "data": {
      "text/plain": [
       "'kmr'"
      ]
     },
     "execution_count": 22,
     "metadata": {},
     "output_type": "execute_result"
    }
   ],
   "source": [
    "a[0:300:2]"
   ]
  },
  {
   "cell_type": "code",
   "execution_count": 23,
   "id": "26e397b2",
   "metadata": {},
   "outputs": [
    {
     "data": {
      "text/plain": [
       "'ka'"
      ]
     },
     "execution_count": 23,
     "metadata": {},
     "output_type": "execute_result"
    }
   ],
   "source": [
    "a[0:300:3]"
   ]
  },
  {
   "cell_type": "code",
   "execution_count": 24,
   "id": "eba5bdcd",
   "metadata": {},
   "outputs": [
    {
     "data": {
      "text/plain": [
       "''"
      ]
     },
     "execution_count": 24,
     "metadata": {},
     "output_type": "execute_result"
    }
   ],
   "source": [
    "a[0:100:-1]"
   ]
  },
  {
   "cell_type": "code",
   "execution_count": 26,
   "id": "01219774",
   "metadata": {},
   "outputs": [
    {
     "data": {
      "text/plain": [
       "'ram'"
      ]
     },
     "execution_count": 26,
     "metadata": {},
     "output_type": "execute_result"
    }
   ],
   "source": [
    "a[-1:-4:-1]"
   ]
  },
  {
   "cell_type": "code",
   "execution_count": 27,
   "id": "9abd5886",
   "metadata": {},
   "outputs": [
    {
     "data": {
      "text/plain": [
       "'k'"
      ]
     },
     "execution_count": 27,
     "metadata": {},
     "output_type": "execute_result"
    }
   ],
   "source": [
    "a[0:-10:-1]"
   ]
  },
  {
   "cell_type": "code",
   "execution_count": 28,
   "id": "f5e44a4a",
   "metadata": {},
   "outputs": [
    {
     "data": {
      "text/plain": [
       "'kumar'"
      ]
     },
     "execution_count": 28,
     "metadata": {},
     "output_type": "execute_result"
    }
   ],
   "source": [
    "a[::]"
   ]
  },
  {
   "cell_type": "code",
   "execution_count": 29,
   "id": "90622c63",
   "metadata": {},
   "outputs": [
    {
     "data": {
      "text/plain": [
       "'kumar'"
      ]
     },
     "execution_count": 29,
     "metadata": {},
     "output_type": "execute_result"
    }
   ],
   "source": [
    "a[:8]"
   ]
  },
  {
   "cell_type": "code",
   "execution_count": 37,
   "id": "a1dc6aea",
   "metadata": {},
   "outputs": [
    {
     "data": {
      "text/plain": [
       "'a'"
      ]
     },
     "execution_count": 37,
     "metadata": {},
     "output_type": "execute_result"
    }
   ],
   "source": [
    "a[-2:-1]"
   ]
  },
  {
   "cell_type": "code",
   "execution_count": 38,
   "id": "7507977c",
   "metadata": {},
   "outputs": [
    {
     "data": {
      "text/plain": [
       "'ramuk'"
      ]
     },
     "execution_count": 38,
     "metadata": {},
     "output_type": "execute_result"
    }
   ],
   "source": [
    "a[::-1]"
   ]
  },
  {
   "cell_type": "code",
   "execution_count": 39,
   "id": "78c93039",
   "metadata": {},
   "outputs": [
    {
     "data": {
      "text/plain": [
       "'ramuk'"
      ]
     },
     "execution_count": 39,
     "metadata": {},
     "output_type": "execute_result"
    }
   ],
   "source": [
    " a[-1::-1]"
   ]
  },
  {
   "cell_type": "code",
   "execution_count": 40,
   "id": "5dc9fe35",
   "metadata": {},
   "outputs": [],
   "source": [
    "a = \"i a am working with ineuron\""
   ]
  },
  {
   "cell_type": "code",
   "execution_count": 42,
   "id": "30c01e91",
   "metadata": {},
   "outputs": [
    {
     "data": {
      "text/plain": [
       "'norueni htiw gnikrow ma a'"
      ]
     },
     "execution_count": 42,
     "metadata": {},
     "output_type": "execute_result"
    }
   ],
   "source": [
    "a[::-1]"
   ]
  },
  {
   "cell_type": "code",
   "execution_count": 44,
   "id": "29716ac5",
   "metadata": {},
   "outputs": [
    {
     "data": {
      "text/plain": [
       "'norueni htiw gnikrow ma a'"
      ]
     },
     "execution_count": 44,
     "metadata": {},
     "output_type": "execute_result"
    }
   ],
   "source": [
    "a[-1::-1]"
   ]
  },
  {
   "cell_type": "code",
   "execution_count": 47,
   "id": "ad67dd4e",
   "metadata": {},
   "outputs": [
    {
     "data": {
      "text/plain": [
       "''"
      ]
     },
     "execution_count": 47,
     "metadata": {},
     "output_type": "execute_result"
    }
   ],
   "source": [
    "a[-5:5:]"
   ]
  },
  {
   "cell_type": "code",
   "execution_count": 48,
   "id": "46d4748e",
   "metadata": {},
   "outputs": [
    {
     "data": {
      "text/plain": [
       "'eni htiw gnikro'"
      ]
     },
     "execution_count": 48,
     "metadata": {},
     "output_type": "execute_result"
    }
   ],
   "source": [
    "a[-5:5:-1\n",
    "]"
   ]
  },
  {
   "cell_type": "code",
   "execution_count": 49,
   "id": "deb20859",
   "metadata": {},
   "outputs": [
    {
     "data": {
      "text/plain": [
       "'amoi tiun'"
      ]
     },
     "execution_count": 49,
     "metadata": {},
     "output_type": "execute_result"
    }
   ],
   "source": [
    "a[0:100:3]"
   ]
  },
  {
   "cell_type": "code",
   "execution_count": 50,
   "id": "7b93092f",
   "metadata": {},
   "outputs": [
    {
     "data": {
      "text/plain": [
       "'sudhsudhsudh'"
      ]
     },
     "execution_count": 50,
     "metadata": {},
     "output_type": "execute_result"
    }
   ],
   "source": [
    "\"sudh\"*3"
   ]
  },
  {
   "cell_type": "code",
   "execution_count": 52,
   "id": "c52d8337",
   "metadata": {},
   "outputs": [
    {
     "data": {
      "text/plain": [
       "'sudhkumar'"
      ]
     },
     "execution_count": 52,
     "metadata": {},
     "output_type": "execute_result"
    }
   ],
   "source": [
    "\"sudh\" +\"kumar\""
   ]
  },
  {
   "cell_type": "code",
   "execution_count": 53,
   "id": "97429963",
   "metadata": {},
   "outputs": [
    {
     "data": {
      "text/plain": [
       "'a am working with ineuron'"
      ]
     },
     "execution_count": 53,
     "metadata": {},
     "output_type": "execute_result"
    }
   ],
   "source": [
    "a"
   ]
  },
  {
   "cell_type": "code",
   "execution_count": 54,
   "id": "849671d9",
   "metadata": {},
   "outputs": [
    {
     "data": {
      "text/plain": [
       "25"
      ]
     },
     "execution_count": 54,
     "metadata": {},
     "output_type": "execute_result"
    }
   ],
   "source": [
    "len(a)"
   ]
  },
  {
   "cell_type": "code",
   "execution_count": 57,
   "id": "ca7e0f37",
   "metadata": {},
   "outputs": [
    {
     "data": {
      "text/plain": [
       "0"
      ]
     },
     "execution_count": 57,
     "metadata": {},
     "output_type": "execute_result"
    }
   ],
   "source": [
    " a.find('a')"
   ]
  },
  {
   "cell_type": "code",
   "execution_count": 58,
   "id": "84a15871",
   "metadata": {},
   "outputs": [
    {
     "data": {
      "text/plain": [
       "9"
      ]
     },
     "execution_count": 58,
     "metadata": {},
     "output_type": "execute_result"
    }
   ],
   "source": [
    "a.find('i')"
   ]
  },
  {
   "cell_type": "code",
   "execution_count": 59,
   "id": "c713195c",
   "metadata": {},
   "outputs": [
    {
     "data": {
      "text/plain": [
       "-1"
      ]
     },
     "execution_count": 59,
     "metadata": {},
     "output_type": "execute_result"
    }
   ],
   "source": [
    "a.find('ia')"
   ]
  },
  {
   "cell_type": "code",
   "execution_count": 60,
   "id": "5bd4d567",
   "metadata": {},
   "outputs": [
    {
     "data": {
      "text/plain": [
       "9"
      ]
     },
     "execution_count": 60,
     "metadata": {},
     "output_type": "execute_result"
    }
   ],
   "source": [
    "a.find('in')"
   ]
  },
  {
   "cell_type": "code",
   "execution_count": 61,
   "id": "58cb41ee",
   "metadata": {},
   "outputs": [
    {
     "data": {
      "text/plain": [
       "3"
      ]
     },
     "execution_count": 61,
     "metadata": {},
     "output_type": "execute_result"
    }
   ],
   "source": [
    "a.count('i')"
   ]
  },
  {
   "cell_type": "code",
   "execution_count": 62,
   "id": "87706f19",
   "metadata": {},
   "outputs": [
    {
     "data": {
      "text/plain": [
       "0"
      ]
     },
     "execution_count": 62,
     "metadata": {},
     "output_type": "execute_result"
    }
   ],
   "source": [
    "a.count('x')"
   ]
  },
  {
   "cell_type": "code",
   "execution_count": 63,
   "id": "0b8ff2d0",
   "metadata": {},
   "outputs": [
    {
     "data": {
      "text/plain": [
       "'a am working with ineuron'"
      ]
     },
     "execution_count": 63,
     "metadata": {},
     "output_type": "execute_result"
    }
   ],
   "source": [
    "a"
   ]
  },
  {
   "cell_type": "code",
   "execution_count": 65,
   "id": "e626e3ab",
   "metadata": {},
   "outputs": [
    {
     "data": {
      "text/plain": [
       "['a', 'am', 'working', 'with', 'ineuron']"
      ]
     },
     "execution_count": 65,
     "metadata": {},
     "output_type": "execute_result"
    }
   ],
   "source": [
    "a.split()"
   ]
  },
  {
   "cell_type": "code",
   "execution_count": 68,
   "id": "e7ef3449",
   "metadata": {},
   "outputs": [],
   "source": [
    "l = a.split()"
   ]
  },
  {
   "cell_type": "code",
   "execution_count": 69,
   "id": "7de8a2a8",
   "metadata": {},
   "outputs": [
    {
     "data": {
      "text/plain": [
       "['a', 'am', 'working', 'with', 'ineuron']"
      ]
     },
     "execution_count": 69,
     "metadata": {},
     "output_type": "execute_result"
    }
   ],
   "source": [
    "l"
   ]
  },
  {
   "cell_type": "code",
   "execution_count": 70,
   "id": "7ac7b1fe",
   "metadata": {},
   "outputs": [
    {
     "data": {
      "text/plain": [
       "'a'"
      ]
     },
     "execution_count": 70,
     "metadata": {},
     "output_type": "execute_result"
    }
   ],
   "source": [
    "l[0]"
   ]
  },
  {
   "cell_type": "code",
   "execution_count": 71,
   "id": "ec6c67a1",
   "metadata": {},
   "outputs": [
    {
     "data": {
      "text/plain": [
       "['a', 'am', 'working', 'with', 'ineuron']"
      ]
     },
     "execution_count": 71,
     "metadata": {},
     "output_type": "execute_result"
    }
   ],
   "source": [
    "l[0:5]"
   ]
  },
  {
   "cell_type": "code",
   "execution_count": 72,
   "id": "d0db91a8",
   "metadata": {},
   "outputs": [
    {
     "data": {
      "text/plain": [
       "['a am ', 'orking ', 'ith ineuron']"
      ]
     },
     "execution_count": 72,
     "metadata": {},
     "output_type": "execute_result"
    }
   ],
   "source": [
    "a.split('w')"
   ]
  },
  {
   "cell_type": "code",
   "execution_count": 73,
   "id": "81bb54df",
   "metadata": {},
   "outputs": [
    {
     "data": {
      "text/plain": [
       "['a am ', 'rking with ineuron']"
      ]
     },
     "execution_count": 73,
     "metadata": {},
     "output_type": "execute_result"
    }
   ],
   "source": [
    "a.split('wo')"
   ]
  },
  {
   "cell_type": "code",
   "execution_count": 74,
   "id": "c9dfeccd",
   "metadata": {},
   "outputs": [
    {
     "data": {
      "text/plain": [
       "'a am working with ineuron'"
      ]
     },
     "execution_count": 74,
     "metadata": {},
     "output_type": "execute_result"
    }
   ],
   "source": [
    "a"
   ]
  },
  {
   "cell_type": "code",
   "execution_count": 75,
   "id": "42ea2b9c",
   "metadata": {},
   "outputs": [
    {
     "data": {
      "text/plain": [
       "'A AM WORKING WITH INEURON'"
      ]
     },
     "execution_count": 75,
     "metadata": {},
     "output_type": "execute_result"
    }
   ],
   "source": [
    "a.upper()"
   ]
  },
  {
   "cell_type": "code",
   "execution_count": 76,
   "id": "e79e24d9",
   "metadata": {},
   "outputs": [],
   "source": [
    " s = \"sUdh\""
   ]
  },
  {
   "cell_type": "code",
   "execution_count": 77,
   "id": "012eed2a",
   "metadata": {},
   "outputs": [
    {
     "data": {
      "text/plain": [
       "'SuDH'"
      ]
     },
     "execution_count": 77,
     "metadata": {},
     "output_type": "execute_result"
    }
   ],
   "source": [
    "s.swapcase()"
   ]
  },
  {
   "cell_type": "code",
   "execution_count": 78,
   "id": "d7c006f7",
   "metadata": {},
   "outputs": [
    {
     "data": {
      "text/plain": [
       "'Sudh'"
      ]
     },
     "execution_count": 78,
     "metadata": {},
     "output_type": "execute_result"
    }
   ],
   "source": [
    "s.title()"
   ]
  },
  {
   "cell_type": "code",
   "execution_count": 80,
   "id": "8bc3121f",
   "metadata": {},
   "outputs": [
    {
     "data": {
      "text/plain": [
       "'Sudh'"
      ]
     },
     "execution_count": 80,
     "metadata": {},
     "output_type": "execute_result"
    }
   ],
   "source": [
    "s.capitalize()"
   ]
  },
  {
   "cell_type": "code",
   "execution_count": 83,
   "id": "1c70bac5",
   "metadata": {},
   "outputs": [],
   "source": [
    "b = \"sudh\"\n",
    "c = \"ineuron\""
   ]
  },
  {
   "cell_type": "code",
   "execution_count": 84,
   "id": "7aeb61a9",
   "metadata": {},
   "outputs": [
    {
     "data": {
      "text/plain": [
       "'isudhnsudhesudhusudhrsudhosudhn'"
      ]
     },
     "execution_count": 84,
     "metadata": {},
     "output_type": "execute_result"
    }
   ],
   "source": [
    "b.join(c)"
   ]
  },
  {
   "cell_type": "code",
   "execution_count": 85,
   "id": "1bf1bd20",
   "metadata": {},
   "outputs": [
    {
     "data": {
      "text/plain": [
       "'s u d h'"
      ]
     },
     "execution_count": 85,
     "metadata": {},
     "output_type": "execute_result"
    }
   ],
   "source": [
    "\" \".join(\"sudh\")"
   ]
  },
  {
   "cell_type": "code",
   "execution_count": 86,
   "id": "5f1a4a48",
   "metadata": {},
   "outputs": [
    {
     "data": {
      "text/plain": [
       "<reversed at 0x1a18597f0d0>"
      ]
     },
     "execution_count": 86,
     "metadata": {},
     "output_type": "execute_result"
    }
   ],
   "source": [
    "reversed(\"sudh\")"
   ]
  },
  {
   "cell_type": "code",
   "execution_count": 87,
   "id": "68a118f4",
   "metadata": {},
   "outputs": [
    {
     "data": {
      "text/plain": [
       "'hdus'"
      ]
     },
     "execution_count": 87,
     "metadata": {},
     "output_type": "execute_result"
    }
   ],
   "source": [
    "s = \"sudh\"\n",
    "s[::-1]"
   ]
  },
  {
   "cell_type": "code",
   "execution_count": 90,
   "id": "ac529768",
   "metadata": {},
   "outputs": [],
   "source": [
    "s = \" sudh \""
   ]
  },
  {
   "cell_type": "code",
   "execution_count": 91,
   "id": "1becc12a",
   "metadata": {},
   "outputs": [
    {
     "data": {
      "text/plain": [
       "' sudh'"
      ]
     },
     "execution_count": 91,
     "metadata": {},
     "output_type": "execute_result"
    }
   ],
   "source": [
    "s.rstrip()"
   ]
  },
  {
   "cell_type": "code",
   "execution_count": 92,
   "id": "baa800cd",
   "metadata": {},
   "outputs": [
    {
     "data": {
      "text/plain": [
       "'sudh '"
      ]
     },
     "execution_count": 92,
     "metadata": {},
     "output_type": "execute_result"
    }
   ],
   "source": [
    "s.lstrip()"
   ]
  },
  {
   "cell_type": "code",
   "execution_count": 93,
   "id": "219bff6b",
   "metadata": {},
   "outputs": [
    {
     "data": {
      "text/plain": [
       "'sudh'"
      ]
     },
     "execution_count": 93,
     "metadata": {},
     "output_type": "execute_result"
    }
   ],
   "source": [
    "s.strip()"
   ]
  },
  {
   "cell_type": "code",
   "execution_count": 94,
   "id": "1d936f9f",
   "metadata": {},
   "outputs": [],
   "source": [
    "s = \"sudh\""
   ]
  },
  {
   "cell_type": "code",
   "execution_count": 95,
   "id": "5b40d670",
   "metadata": {},
   "outputs": [
    {
     "data": {
      "text/plain": [
       "'sxyzdh'"
      ]
     },
     "execution_count": 95,
     "metadata": {},
     "output_type": "execute_result"
    }
   ],
   "source": [
    "s.replace(\"u\", \"xyz\")"
   ]
  },
  {
   "cell_type": "code",
   "execution_count": 96,
   "id": "3156fad2",
   "metadata": {},
   "outputs": [
    {
     "data": {
      "text/plain": [
       "'sudh'"
      ]
     },
     "execution_count": 96,
     "metadata": {},
     "output_type": "execute_result"
    }
   ],
   "source": [
    "s.replace(\"t\",\"xyz\")"
   ]
  },
  {
   "cell_type": "code",
   "execution_count": 97,
   "id": "27b6c0bf",
   "metadata": {},
   "outputs": [
    {
     "data": {
      "text/plain": [
       "'sudh    kumar'"
      ]
     },
     "execution_count": 97,
     "metadata": {},
     "output_type": "execute_result"
    }
   ],
   "source": [
    " \"sudh\\tkumar\".expandtabs()"
   ]
  },
  {
   "cell_type": "code",
   "execution_count": 98,
   "id": "bc8eddf8",
   "metadata": {},
   "outputs": [],
   "source": [
    "s = \"sudh\""
   ]
  },
  {
   "cell_type": "code",
   "execution_count": 99,
   "id": "a0cab9be",
   "metadata": {},
   "outputs": [
    {
     "data": {
      "text/plain": [
       "'ttttttttttttttttttsudhtttttttttttttttttt'"
      ]
     },
     "execution_count": 99,
     "metadata": {},
     "output_type": "execute_result"
    }
   ],
   "source": [
    "s.center(40,'t')"
   ]
  },
  {
   "cell_type": "code",
   "execution_count": 102,
   "id": "167369e0",
   "metadata": {},
   "outputs": [
    {
     "data": {
      "text/plain": [
       "'     indians are the best in world'"
      ]
     },
     "execution_count": 102,
     "metadata": {},
     "output_type": "execute_result"
    }
   ],
   "source": [
    "b = \"     indians are the best in world\"\n",
    "b.strip('are')"
   ]
  },
  {
   "cell_type": "code",
   "execution_count": 103,
   "id": "bad0b21e",
   "metadata": {},
   "outputs": [
    {
     "data": {
      "text/plain": [
       "'indians are the best in world'"
      ]
     },
     "execution_count": 103,
     "metadata": {},
     "output_type": "execute_result"
    }
   ],
   "source": [
    "b.strip()"
   ]
  },
  {
   "cell_type": "code",
   "execution_count": 1,
   "id": "1bbc57a8",
   "metadata": {},
   "outputs": [],
   "source": [
    "s = \"sudh\""
   ]
  },
  {
   "cell_type": "code",
   "execution_count": 3,
   "id": "fba6744b",
   "metadata": {},
   "outputs": [
    {
     "data": {
      "text/plain": [
       "False"
      ]
     },
     "execution_count": 3,
     "metadata": {},
     "output_type": "execute_result"
    }
   ],
   "source": [
    "s.isupper()"
   ]
  },
  {
   "cell_type": "code",
   "execution_count": 4,
   "id": "d6bec3d1",
   "metadata": {},
   "outputs": [],
   "source": [
    "s = \"Sudh\""
   ]
  },
  {
   "cell_type": "code",
   "execution_count": 5,
   "id": "dc19f84d",
   "metadata": {},
   "outputs": [
    {
     "data": {
      "text/plain": [
       "False"
      ]
     },
     "execution_count": 5,
     "metadata": {},
     "output_type": "execute_result"
    }
   ],
   "source": [
    "s.isupper()"
   ]
  },
  {
   "cell_type": "code",
   "execution_count": 6,
   "id": "4b22b977",
   "metadata": {},
   "outputs": [],
   "source": [
    "s = \"SUDH\""
   ]
  },
  {
   "cell_type": "code",
   "execution_count": 7,
   "id": "43284737",
   "metadata": {},
   "outputs": [
    {
     "data": {
      "text/plain": [
       "True"
      ]
     },
     "execution_count": 7,
     "metadata": {},
     "output_type": "execute_result"
    }
   ],
   "source": [
    "s.isupper()"
   ]
  },
  {
   "cell_type": "code",
   "execution_count": 8,
   "id": "df03ddd3",
   "metadata": {},
   "outputs": [
    {
     "data": {
      "text/plain": [
       "False"
      ]
     },
     "execution_count": 8,
     "metadata": {},
     "output_type": "execute_result"
    }
   ],
   "source": [
    " s.islower()"
   ]
  },
  {
   "cell_type": "code",
   "execution_count": 10,
   "id": "557d7d50",
   "metadata": {},
   "outputs": [
    {
     "data": {
      "text/plain": [
       "False"
      ]
     },
     "execution_count": 10,
     "metadata": {},
     "output_type": "execute_result"
    }
   ],
   "source": [
    "s.isspace()"
   ]
  },
  {
   "cell_type": "code",
   "execution_count": 11,
   "id": "83cac8d8",
   "metadata": {},
   "outputs": [],
   "source": [
    "s = \"     sudh\""
   ]
  },
  {
   "cell_type": "code",
   "execution_count": 12,
   "id": "647bb15a",
   "metadata": {},
   "outputs": [
    {
     "data": {
      "text/plain": [
       "False"
      ]
     },
     "execution_count": 12,
     "metadata": {},
     "output_type": "execute_result"
    }
   ],
   "source": [
    "s.isspace()"
   ]
  },
  {
   "cell_type": "code",
   "execution_count": 15,
   "id": "7c59bfb9",
   "metadata": {},
   "outputs": [],
   "source": [
    "s = \"  \""
   ]
  },
  {
   "cell_type": "code",
   "execution_count": 16,
   "id": "c2256513",
   "metadata": {},
   "outputs": [
    {
     "data": {
      "text/plain": [
       "True"
      ]
     },
     "execution_count": 16,
     "metadata": {},
     "output_type": "execute_result"
    }
   ],
   "source": [
    "s.isspace()"
   ]
  },
  {
   "cell_type": "code",
   "execution_count": 17,
   "id": "2f4cb273",
   "metadata": {},
   "outputs": [],
   "source": [
    "s = \"4561\""
   ]
  },
  {
   "cell_type": "code",
   "execution_count": 18,
   "id": "353b1a63",
   "metadata": {},
   "outputs": [
    {
     "data": {
      "text/plain": [
       "True"
      ]
     },
     "execution_count": 18,
     "metadata": {},
     "output_type": "execute_result"
    }
   ],
   "source": [
    "s.isdigit()"
   ]
  },
  {
   "cell_type": "code",
   "execution_count": 19,
   "id": "0c409d6e",
   "metadata": {},
   "outputs": [],
   "source": [
    "s = \"sudh\""
   ]
  },
  {
   "cell_type": "code",
   "execution_count": 23,
   "id": "c864793e",
   "metadata": {},
   "outputs": [
    {
     "data": {
      "text/plain": [
       "False"
      ]
     },
     "execution_count": 23,
     "metadata": {},
     "output_type": "execute_result"
    }
   ],
   "source": [
    "s.endswith('x')"
   ]
  },
  {
   "cell_type": "code",
   "execution_count": 26,
   "id": "458c0f14",
   "metadata": {},
   "outputs": [
    {
     "data": {
      "text/plain": [
       "True"
      ]
     },
     "execution_count": 26,
     "metadata": {},
     "output_type": "execute_result"
    }
   ],
   "source": [
    "s.startswith(\"s\")"
   ]
  },
  {
   "cell_type": "code",
   "execution_count": 27,
   "id": "a6a7bf30",
   "metadata": {},
   "outputs": [
    {
     "data": {
      "text/plain": [
       "False"
      ]
     },
     "execution_count": 27,
     "metadata": {},
     "output_type": "execute_result"
    }
   ],
   "source": [
    "s.istitle()"
   ]
  },
  {
   "cell_type": "code",
   "execution_count": 28,
   "id": "ad633046",
   "metadata": {},
   "outputs": [],
   "source": [
    "l = [\"sudh\", \"kumar\",446, 4+5j, 345.56]"
   ]
  },
  {
   "cell_type": "code",
   "execution_count": 30,
   "id": "aac853f2",
   "metadata": {},
   "outputs": [
    {
     "data": {
      "text/plain": [
       "list"
      ]
     },
     "execution_count": 30,
     "metadata": {},
     "output_type": "execute_result"
    }
   ],
   "source": [
    "type(l)"
   ]
  },
  {
   "cell_type": "code",
   "execution_count": 32,
   "id": "0af8fd95",
   "metadata": {},
   "outputs": [
    {
     "data": {
      "text/plain": [
       "'sudh'"
      ]
     },
     "execution_count": 32,
     "metadata": {},
     "output_type": "execute_result"
    }
   ],
   "source": [
    "l[0]"
   ]
  },
  {
   "cell_type": "code",
   "execution_count": 34,
   "id": "b4b4814a",
   "metadata": {},
   "outputs": [
    {
     "data": {
      "text/plain": [
       "345.56"
      ]
     },
     "execution_count": 34,
     "metadata": {},
     "output_type": "execute_result"
    }
   ],
   "source": [
    "l[-1]"
   ]
  },
  {
   "cell_type": "code",
   "execution_count": 35,
   "id": "28be3f60",
   "metadata": {},
   "outputs": [
    {
     "data": {
      "text/plain": [
       "['sudh', 'kumar', 446, (4+5j)]"
      ]
     },
     "execution_count": 35,
     "metadata": {},
     "output_type": "execute_result"
    }
   ],
   "source": [
    "l[0:4]"
   ]
  },
  {
   "cell_type": "code",
   "execution_count": 36,
   "id": "286c04d6",
   "metadata": {},
   "outputs": [
    {
     "data": {
      "text/plain": [
       "['sudh', 'kumar', 446, (4+5j), 345.56]"
      ]
     },
     "execution_count": 36,
     "metadata": {},
     "output_type": "execute_result"
    }
   ],
   "source": [
    "l[::]"
   ]
  },
  {
   "cell_type": "code",
   "execution_count": 37,
   "id": "0d058732",
   "metadata": {},
   "outputs": [
    {
     "data": {
      "text/plain": [
       "[345.56, (4+5j), 446, 'kumar', 'sudh']"
      ]
     },
     "execution_count": 37,
     "metadata": {},
     "output_type": "execute_result"
    }
   ],
   "source": [
    "l[::-1]"
   ]
  },
  {
   "cell_type": "code",
   "execution_count": 38,
   "id": "013ab401",
   "metadata": {},
   "outputs": [
    {
     "data": {
      "text/plain": [
       "[345.56]"
      ]
     },
     "execution_count": 38,
     "metadata": {},
     "output_type": "execute_result"
    }
   ],
   "source": [
    "l[-1:6]"
   ]
  },
  {
   "cell_type": "code",
   "execution_count": 39,
   "id": "3c37a46a",
   "metadata": {},
   "outputs": [
    {
     "data": {
      "text/plain": [
       "'sudh'"
      ]
     },
     "execution_count": 39,
     "metadata": {},
     "output_type": "execute_result"
    }
   ],
   "source": [
    "l[0]"
   ]
  },
  {
   "cell_type": "code",
   "execution_count": 40,
   "id": "18030946",
   "metadata": {},
   "outputs": [
    {
     "data": {
      "text/plain": [
       "345.56"
      ]
     },
     "execution_count": 40,
     "metadata": {},
     "output_type": "execute_result"
    }
   ],
   "source": [
    "l[4]"
   ]
  },
  {
   "cell_type": "code",
   "execution_count": 41,
   "id": "39c087c5",
   "metadata": {},
   "outputs": [
    {
     "data": {
      "text/plain": [
       "'u'"
      ]
     },
     "execution_count": 41,
     "metadata": {},
     "output_type": "execute_result"
    }
   ],
   "source": [
    "l[0][1]"
   ]
  },
  {
   "cell_type": "code",
   "execution_count": 42,
   "id": "64904d4e",
   "metadata": {},
   "outputs": [
    {
     "data": {
      "text/plain": [
       "(4+5j)"
      ]
     },
     "execution_count": 42,
     "metadata": {},
     "output_type": "execute_result"
    }
   ],
   "source": [
    "l[3]"
   ]
  },
  {
   "cell_type": "code",
   "execution_count": 45,
   "id": "1e2c8592",
   "metadata": {},
   "outputs": [
    {
     "data": {
      "text/plain": [
       "4.0"
      ]
     },
     "execution_count": 45,
     "metadata": {},
     "output_type": "execute_result"
    }
   ],
   "source": [
    "l[3].real"
   ]
  },
  {
   "cell_type": "code",
   "execution_count": 46,
   "id": "e08e341e",
   "metadata": {},
   "outputs": [
    {
     "data": {
      "text/plain": [
       "5.0"
      ]
     },
     "execution_count": 46,
     "metadata": {},
     "output_type": "execute_result"
    }
   ],
   "source": [
    "l[3].imag"
   ]
  },
  {
   "cell_type": "code",
   "execution_count": 49,
   "id": "5ef9301c",
   "metadata": {},
   "outputs": [],
   "source": [
    "l1 = [\"sudh\", \"kumar\",4356]\n",
    "l2 = [\"sdd\", \"djffj\",426]"
   ]
  },
  {
   "cell_type": "code",
   "execution_count": 50,
   "id": "ee0cb5b4",
   "metadata": {},
   "outputs": [
    {
     "data": {
      "text/plain": [
       "['sudh', 'kumar', 4356, 'sdd', 'djffj', 426]"
      ]
     },
     "execution_count": 50,
     "metadata": {},
     "output_type": "execute_result"
    }
   ],
   "source": [
    "l1+l2"
   ]
  },
  {
   "cell_type": "code",
   "execution_count": 51,
   "id": "61291471",
   "metadata": {},
   "outputs": [
    {
     "data": {
      "text/plain": [
       "['sudh', 'kumar', 4356, 'sudh']"
      ]
     },
     "execution_count": 51,
     "metadata": {},
     "output_type": "execute_result"
    }
   ],
   "source": [
    "l1+[\"sudh\"]"
   ]
  },
  {
   "cell_type": "code",
   "execution_count": 53,
   "id": "00b51d99",
   "metadata": {},
   "outputs": [
    {
     "data": {
      "text/plain": [
       "['sudh', 'kumar', 4356, 'sudh', 'kumar', 4356]"
      ]
     },
     "execution_count": 53,
     "metadata": {},
     "output_type": "execute_result"
    }
   ],
   "source": [
    "l1*2"
   ]
  },
  {
   "cell_type": "code",
   "execution_count": 54,
   "id": "e6a06ed1",
   "metadata": {},
   "outputs": [
    {
     "data": {
      "text/plain": [
       "['sudh', 'kumar', 4356]"
      ]
     },
     "execution_count": 54,
     "metadata": {},
     "output_type": "execute_result"
    }
   ],
   "source": [
    "l1"
   ]
  },
  {
   "cell_type": "code",
   "execution_count": 55,
   "id": "55881621",
   "metadata": {},
   "outputs": [
    {
     "data": {
      "text/plain": [
       "'sudh'"
      ]
     },
     "execution_count": 55,
     "metadata": {},
     "output_type": "execute_result"
    }
   ],
   "source": [
    "l[0]"
   ]
  },
  {
   "cell_type": "code",
   "execution_count": 58,
   "id": "3511b350",
   "metadata": {},
   "outputs": [],
   "source": [
    "l1[0] = \"your name\""
   ]
  },
  {
   "cell_type": "code",
   "execution_count": 59,
   "id": "5f5634f1",
   "metadata": {},
   "outputs": [
    {
     "data": {
      "text/plain": [
       "['your name', 'kumar', 4356]"
      ]
     },
     "execution_count": 59,
     "metadata": {},
     "output_type": "execute_result"
    }
   ],
   "source": [
    "l1"
   ]
  },
  {
   "cell_type": "code",
   "execution_count": 63,
   "id": "75965d44",
   "metadata": {},
   "outputs": [
    {
     "data": {
      "text/plain": [
       "4356"
      ]
     },
     "execution_count": 63,
     "metadata": {},
     "output_type": "execute_result"
    }
   ],
   "source": [
    "l1[2]"
   ]
  },
  {
   "cell_type": "code",
   "execution_count": 65,
   "id": "17f972a1",
   "metadata": {},
   "outputs": [],
   "source": [
    "l1[2] = \"suhi\""
   ]
  },
  {
   "cell_type": "code",
   "execution_count": 66,
   "id": "5b824665",
   "metadata": {},
   "outputs": [
    {
     "data": {
      "text/plain": [
       "['your name', 'kumar', 'suhi']"
      ]
     },
     "execution_count": 66,
     "metadata": {},
     "output_type": "execute_result"
    }
   ],
   "source": [
    "l1"
   ]
  },
  {
   "cell_type": "code",
   "execution_count": 67,
   "id": "1fc13380",
   "metadata": {},
   "outputs": [],
   "source": [
    "l[1] = \"sudh\""
   ]
  },
  {
   "cell_type": "code",
   "execution_count": 68,
   "id": "37688584",
   "metadata": {},
   "outputs": [
    {
     "data": {
      "text/plain": [
       "'vudh'"
      ]
     },
     "execution_count": 68,
     "metadata": {},
     "output_type": "execute_result"
    }
   ],
   "source": [
    "s.replace('s','v')"
   ]
  },
  {
   "cell_type": "code",
   "execution_count": 69,
   "id": "f14fb702",
   "metadata": {},
   "outputs": [
    {
     "data": {
      "text/plain": [
       "['your name', 'kumar', 'suhi']"
      ]
     },
     "execution_count": 69,
     "metadata": {},
     "output_type": "execute_result"
    }
   ],
   "source": [
    "l1"
   ]
  },
  {
   "cell_type": "code",
   "execution_count": 71,
   "id": "64a942e7",
   "metadata": {},
   "outputs": [
    {
     "data": {
      "text/plain": [
       "3"
      ]
     },
     "execution_count": 71,
     "metadata": {},
     "output_type": "execute_result"
    }
   ],
   "source": [
    "len(l1)"
   ]
  },
  {
   "cell_type": "code",
   "execution_count": 84,
   "id": "c22fc18a",
   "metadata": {},
   "outputs": [
    {
     "data": {
      "text/plain": [
       "False"
      ]
     },
     "execution_count": 84,
     "metadata": {},
     "output_type": "execute_result"
    }
   ],
   "source": [
    "345 in l1"
   ]
  },
  {
   "cell_type": "code",
   "execution_count": 85,
   "id": "39799f3a",
   "metadata": {},
   "outputs": [],
   "source": [
    "z = [\"sudh\",\"kumar\",456,4.256]"
   ]
  },
  {
   "cell_type": "code",
   "execution_count": 86,
   "id": "b06a46f1",
   "metadata": {},
   "outputs": [],
   "source": [
    "z.append(\"singh\")"
   ]
  },
  {
   "cell_type": "code",
   "execution_count": 87,
   "id": "5a13e2d9",
   "metadata": {},
   "outputs": [
    {
     "data": {
      "text/plain": [
       "['sudh', 'kumar', 456, 4.256, 'singh']"
      ]
     },
     "execution_count": 87,
     "metadata": {},
     "output_type": "execute_result"
    }
   ],
   "source": [
    "z"
   ]
  },
  {
   "cell_type": "code",
   "execution_count": null,
   "id": "078d113e",
   "metadata": {},
   "outputs": [],
   "source": []
  },
  {
   "cell_type": "code",
   "execution_count": 88,
   "id": "2d153228",
   "metadata": {},
   "outputs": [
    {
     "data": {
      "text/plain": [
       "'singh'"
      ]
     },
     "execution_count": 88,
     "metadata": {},
     "output_type": "execute_result"
    }
   ],
   "source": [
    "z.pop()"
   ]
  },
  {
   "cell_type": "code",
   "execution_count": 89,
   "id": "da3c0d41",
   "metadata": {},
   "outputs": [
    {
     "data": {
      "text/plain": [
       "['sudh', 'kumar', 456, 4.256]"
      ]
     },
     "execution_count": 89,
     "metadata": {},
     "output_type": "execute_result"
    }
   ],
   "source": [
    "z"
   ]
  },
  {
   "cell_type": "code",
   "execution_count": 90,
   "id": "4b065986",
   "metadata": {},
   "outputs": [
    {
     "data": {
      "text/plain": [
       "456"
      ]
     },
     "execution_count": 90,
     "metadata": {},
     "output_type": "execute_result"
    }
   ],
   "source": [
    "z.pop(2)"
   ]
  },
  {
   "cell_type": "code",
   "execution_count": 91,
   "id": "20f7dc7e",
   "metadata": {},
   "outputs": [
    {
     "data": {
      "text/plain": [
       "['sudh', 'kumar', 4.256]"
      ]
     },
     "execution_count": 91,
     "metadata": {},
     "output_type": "execute_result"
    }
   ],
   "source": [
    "z"
   ]
  },
  {
   "cell_type": "code",
   "execution_count": 92,
   "id": "4893ca3f",
   "metadata": {},
   "outputs": [
    {
     "data": {
      "text/plain": [
       "['sudh', 'kumar', 4.256]"
      ]
     },
     "execution_count": 92,
     "metadata": {},
     "output_type": "execute_result"
    }
   ],
   "source": [
    "z"
   ]
  },
  {
   "cell_type": "code",
   "execution_count": 93,
   "id": "5557b8c6",
   "metadata": {},
   "outputs": [],
   "source": [
    "z.append(123)"
   ]
  },
  {
   "cell_type": "code",
   "execution_count": 94,
   "id": "e60edb04",
   "metadata": {},
   "outputs": [
    {
     "data": {
      "text/plain": [
       "['sudh', 'kumar', 4.256, 123]"
      ]
     },
     "execution_count": 94,
     "metadata": {},
     "output_type": "execute_result"
    }
   ],
   "source": [
    "z"
   ]
  },
  {
   "cell_type": "code",
   "execution_count": 95,
   "id": "86234027",
   "metadata": {},
   "outputs": [],
   "source": [
    "z.insert(1,\"agar\")"
   ]
  },
  {
   "cell_type": "code",
   "execution_count": 96,
   "id": "475efeaf",
   "metadata": {},
   "outputs": [
    {
     "data": {
      "text/plain": [
       "['sudh', 'agar', 'kumar', 4.256, 123]"
      ]
     },
     "execution_count": 96,
     "metadata": {},
     "output_type": "execute_result"
    }
   ],
   "source": [
    "z"
   ]
  },
  {
   "cell_type": "code",
   "execution_count": 97,
   "id": "5ee8099a",
   "metadata": {},
   "outputs": [],
   "source": [
    "z.insert(2,1245)"
   ]
  },
  {
   "cell_type": "code",
   "execution_count": 98,
   "id": "94c02474",
   "metadata": {},
   "outputs": [
    {
     "data": {
      "text/plain": [
       "['sudh', 'agar', 1245, 'kumar', 4.256, 123]"
      ]
     },
     "execution_count": 98,
     "metadata": {},
     "output_type": "execute_result"
    }
   ],
   "source": [
    "z"
   ]
  },
  {
   "cell_type": "code",
   "execution_count": 99,
   "id": "df95a6e8",
   "metadata": {},
   "outputs": [],
   "source": [
    "z.insert(3,[4,56,47,85])"
   ]
  },
  {
   "cell_type": "code",
   "execution_count": 100,
   "id": "cf15a4a8",
   "metadata": {},
   "outputs": [
    {
     "data": {
      "text/plain": [
       "['sudh', 'agar', 1245, [4, 56, 47, 85], 'kumar', 4.256, 123]"
      ]
     },
     "execution_count": 100,
     "metadata": {},
     "output_type": "execute_result"
    }
   ],
   "source": [
    "z"
   ]
  },
  {
   "cell_type": "code",
   "execution_count": 101,
   "id": "da496e64",
   "metadata": {},
   "outputs": [
    {
     "data": {
      "text/plain": [
       "['sudh', 'agar', 1245, [4, 56, 47, 85], 'kumar', 4.256, 123]"
      ]
     },
     "execution_count": 101,
     "metadata": {},
     "output_type": "execute_result"
    }
   ],
   "source": [
    "z"
   ]
  },
  {
   "cell_type": "code",
   "execution_count": 102,
   "id": "d12041d2",
   "metadata": {},
   "outputs": [
    {
     "data": {
      "text/plain": [
       "[123, 4.256, 'kumar', [4, 56, 47, 85], 1245, 'agar', 'sudh']"
      ]
     },
     "execution_count": 102,
     "metadata": {},
     "output_type": "execute_result"
    }
   ],
   "source": [
    "z[::-1]"
   ]
  },
  {
   "cell_type": "code",
   "execution_count": 103,
   "id": "bc6c18bd",
   "metadata": {},
   "outputs": [
    {
     "data": {
      "text/plain": [
       "['sudh', 'agar', 1245, [4, 56, 47, 85], 'kumar', 4.256, 123]"
      ]
     },
     "execution_count": 103,
     "metadata": {},
     "output_type": "execute_result"
    }
   ],
   "source": [
    "z"
   ]
  },
  {
   "cell_type": "code",
   "execution_count": 104,
   "id": "6573cf85",
   "metadata": {},
   "outputs": [],
   "source": [
    "z.reverse()"
   ]
  },
  {
   "cell_type": "code",
   "execution_count": 105,
   "id": "77576615",
   "metadata": {},
   "outputs": [
    {
     "data": {
      "text/plain": [
       "[123, 4.256, 'kumar', [4, 56, 47, 85], 1245, 'agar', 'sudh']"
      ]
     },
     "execution_count": 105,
     "metadata": {},
     "output_type": "execute_result"
    }
   ],
   "source": [
    "z"
   ]
  },
  {
   "cell_type": "code",
   "execution_count": null,
   "id": "812e985d",
   "metadata": {},
   "outputs": [],
   "source": []
  },
  {
   "cell_type": "code",
   "execution_count": 106,
   "id": "1a6e6be2",
   "metadata": {},
   "outputs": [
    {
     "data": {
      "text/plain": [
       "56"
      ]
     },
     "execution_count": 106,
     "metadata": {},
     "output_type": "execute_result"
    }
   ],
   "source": [
    "z[3][1]"
   ]
  },
  {
   "cell_type": "code",
   "execution_count": 107,
   "id": "5778c0eb",
   "metadata": {},
   "outputs": [
    {
     "data": {
      "text/plain": [
       "[123, 4.256, 'kumar', [4, 56, 47, 85], 1245, 'agar', 'sudh']"
      ]
     },
     "execution_count": 107,
     "metadata": {},
     "output_type": "execute_result"
    }
   ],
   "source": [
    "z"
   ]
  },
  {
   "cell_type": "code",
   "execution_count": 108,
   "id": "d3ddcd83",
   "metadata": {},
   "outputs": [
    {
     "data": {
      "text/plain": [
       "0"
      ]
     },
     "execution_count": 108,
     "metadata": {},
     "output_type": "execute_result"
    }
   ],
   "source": [
    "z.count('xyz')"
   ]
  },
  {
   "cell_type": "code",
   "execution_count": 109,
   "id": "bf41e08a",
   "metadata": {},
   "outputs": [
    {
     "data": {
      "text/plain": [
       "1"
      ]
     },
     "execution_count": 109,
     "metadata": {},
     "output_type": "execute_result"
    }
   ],
   "source": [
    "z.count(123)"
   ]
  },
  {
   "cell_type": "code",
   "execution_count": 111,
   "id": "11e521a4",
   "metadata": {},
   "outputs": [
    {
     "data": {
      "text/plain": [
       "0"
      ]
     },
     "execution_count": 111,
     "metadata": {},
     "output_type": "execute_result"
    }
   ],
   "source": [
    "z.count(4)"
   ]
  },
  {
   "cell_type": "code",
   "execution_count": 113,
   "id": "5b81c2df",
   "metadata": {},
   "outputs": [],
   "source": [
    "z.extend([2,4,5,\"dsdf\"])"
   ]
  },
  {
   "cell_type": "code",
   "execution_count": 114,
   "id": "c234c4bc",
   "metadata": {},
   "outputs": [
    {
     "data": {
      "text/plain": [
       "[123, 4.256, 'kumar', [4, 56, 47, 85], 1245, 'agar', 'sudh', 2, 4, 5, 'dsdf']"
      ]
     },
     "execution_count": 114,
     "metadata": {},
     "output_type": "execute_result"
    }
   ],
   "source": [
    "z"
   ]
  },
  {
   "cell_type": "code",
   "execution_count": 1,
   "id": "39558c1b",
   "metadata": {},
   "outputs": [],
   "source": [
    "t = (1,2,3,4,5)"
   ]
  },
  {
   "cell_type": "code",
   "execution_count": 3,
   "id": "95fbaf7a",
   "metadata": {},
   "outputs": [
    {
     "data": {
      "text/plain": [
       "tuple"
      ]
     },
     "execution_count": 3,
     "metadata": {},
     "output_type": "execute_result"
    }
   ],
   "source": [
    "type(t)"
   ]
  },
  {
   "cell_type": "code",
   "execution_count": 4,
   "id": "3e52d80c",
   "metadata": {},
   "outputs": [],
   "source": [
    "t1 = (\"sudh\",345,45+78,45.58,True)"
   ]
  },
  {
   "cell_type": "code",
   "execution_count": 5,
   "id": "61a549b6",
   "metadata": {},
   "outputs": [],
   "source": [
    "l = [\"sudh\",345,45678,45.2,True]"
   ]
  },
  {
   "cell_type": "code",
   "execution_count": 6,
   "id": "b7d722fa",
   "metadata": {},
   "outputs": [
    {
     "data": {
      "text/plain": [
       "list"
      ]
     },
     "execution_count": 6,
     "metadata": {},
     "output_type": "execute_result"
    }
   ],
   "source": [
    "type(l)"
   ]
  },
  {
   "cell_type": "code",
   "execution_count": 7,
   "id": "24e827b7",
   "metadata": {},
   "outputs": [
    {
     "data": {
      "text/plain": [
       "['sudh', 345, 45678, 45.2, True]"
      ]
     },
     "execution_count": 7,
     "metadata": {},
     "output_type": "execute_result"
    }
   ],
   "source": [
    "l"
   ]
  },
  {
   "cell_type": "code",
   "execution_count": 8,
   "id": "8b592ea2",
   "metadata": {},
   "outputs": [
    {
     "data": {
      "text/plain": [
       "'sudh'"
      ]
     },
     "execution_count": 8,
     "metadata": {},
     "output_type": "execute_result"
    }
   ],
   "source": [
    "l[0]"
   ]
  },
  {
   "cell_type": "code",
   "execution_count": 9,
   "id": "40d46e9e",
   "metadata": {},
   "outputs": [
    {
     "data": {
      "text/plain": [
       "('sudh', 345)"
      ]
     },
     "execution_count": 9,
     "metadata": {},
     "output_type": "execute_result"
    }
   ],
   "source": [
    "t1[0:2]"
   ]
  },
  {
   "cell_type": "code",
   "execution_count": 12,
   "id": "a9c22315",
   "metadata": {},
   "outputs": [
    {
     "data": {
      "text/plain": [
       "(True, 45.58, 123, 345, 'sudh')"
      ]
     },
     "execution_count": 12,
     "metadata": {},
     "output_type": "execute_result"
    }
   ],
   "source": [
    "t1[::-1]"
   ]
  },
  {
   "cell_type": "code",
   "execution_count": 13,
   "id": "85e7d704",
   "metadata": {},
   "outputs": [
    {
     "data": {
      "text/plain": [
       "True"
      ]
     },
     "execution_count": 13,
     "metadata": {},
     "output_type": "execute_result"
    }
   ],
   "source": [
    "t1[-1]"
   ]
  },
  {
   "cell_type": "code",
   "execution_count": 15,
   "id": "810c08e2",
   "metadata": {},
   "outputs": [
    {
     "data": {
      "text/plain": [
       "('sudh', 123, True)"
      ]
     },
     "execution_count": 15,
     "metadata": {},
     "output_type": "execute_result"
    }
   ],
   "source": [
    "t1[0::2]"
   ]
  },
  {
   "cell_type": "code",
   "execution_count": 16,
   "id": "7c139109",
   "metadata": {},
   "outputs": [
    {
     "data": {
      "text/plain": [
       "['sudh', 345, 45678, 45.2, True]"
      ]
     },
     "execution_count": 16,
     "metadata": {},
     "output_type": "execute_result"
    }
   ],
   "source": [
    "l"
   ]
  },
  {
   "cell_type": "code",
   "execution_count": 18,
   "id": "6d32ac3f",
   "metadata": {},
   "outputs": [],
   "source": [
    "l1 = [4,5,5,7]"
   ]
  },
  {
   "cell_type": "code",
   "execution_count": 19,
   "id": "db667035",
   "metadata": {},
   "outputs": [
    {
     "data": {
      "text/plain": [
       "[4, 5, 5, 7]"
      ]
     },
     "execution_count": 19,
     "metadata": {},
     "output_type": "execute_result"
    }
   ],
   "source": [
    "l1"
   ]
  },
  {
   "cell_type": "code",
   "execution_count": 20,
   "id": "7f04a8bc",
   "metadata": {},
   "outputs": [],
   "source": [
    "l[0] = \"kumar\""
   ]
  },
  {
   "cell_type": "code",
   "execution_count": 21,
   "id": "18f91194",
   "metadata": {},
   "outputs": [
    {
     "data": {
      "text/plain": [
       "['kumar', 345, 45678, 45.2, True]"
      ]
     },
     "execution_count": 21,
     "metadata": {},
     "output_type": "execute_result"
    }
   ],
   "source": [
    "l"
   ]
  },
  {
   "cell_type": "code",
   "execution_count": 22,
   "id": "e592cb1e",
   "metadata": {},
   "outputs": [
    {
     "data": {
      "text/plain": [
       "('sudh', 345, 123, 45.58, True)"
      ]
     },
     "execution_count": 22,
     "metadata": {},
     "output_type": "execute_result"
    }
   ],
   "source": [
    "t1"
   ]
  },
  {
   "cell_type": "code",
   "execution_count": 23,
   "id": "6f305c1c",
   "metadata": {},
   "outputs": [
    {
     "ename": "TypeError",
     "evalue": "'tuple' object does not support item assignment",
     "output_type": "error",
     "traceback": [
      "\u001b[1;31m---------------------------------------------------------------------------\u001b[0m",
      "\u001b[1;31mTypeError\u001b[0m                                 Traceback (most recent call last)",
      "\u001b[1;32mC:\\Users\\ADMIN-~1\\AppData\\Local\\Temp/ipykernel_8608/3429598834.py\u001b[0m in \u001b[0;36m<module>\u001b[1;34m\u001b[0m\n\u001b[1;32m----> 1\u001b[1;33m \u001b[0mt1\u001b[0m\u001b[1;33m[\u001b[0m\u001b[1;36m0\u001b[0m\u001b[1;33m]\u001b[0m \u001b[1;33m=\u001b[0m\u001b[1;34m\"xyz\"\u001b[0m\u001b[1;33m\u001b[0m\u001b[1;33m\u001b[0m\u001b[0m\n\u001b[0m",
      "\u001b[1;31mTypeError\u001b[0m: 'tuple' object does not support item assignment"
     ]
    }
   ],
   "source": [
    "t1[0] =\"xyz\""
   ]
  },
  {
   "cell_type": "code",
   "execution_count": 24,
   "id": "1d2d14d6",
   "metadata": {},
   "outputs": [],
   "source": [
    "s = \"sudh\""
   ]
  },
  {
   "cell_type": "code",
   "execution_count": 25,
   "id": "9124eff0",
   "metadata": {},
   "outputs": [
    {
     "data": {
      "text/plain": [
       "('sudh', 345, 123, 45.58, True)"
      ]
     },
     "execution_count": 25,
     "metadata": {},
     "output_type": "execute_result"
    }
   ],
   "source": [
    "t1 "
   ]
  },
  {
   "cell_type": "code",
   "execution_count": 26,
   "id": "5b9bf5eb",
   "metadata": {},
   "outputs": [],
   "source": [
    "t2 = (34,45,45,78,36)"
   ]
  },
  {
   "cell_type": "code",
   "execution_count": 27,
   "id": "6c419322",
   "metadata": {},
   "outputs": [
    {
     "data": {
      "text/plain": [
       "('sudh', 345, 123, 45.58, True, 34, 45, 45, 78, 36)"
      ]
     },
     "execution_count": 27,
     "metadata": {},
     "output_type": "execute_result"
    }
   ],
   "source": [
    "t1+t2"
   ]
  },
  {
   "cell_type": "code",
   "execution_count": 28,
   "id": "6d0df07b",
   "metadata": {},
   "outputs": [
    {
     "data": {
      "text/plain": [
       "[4, 5, 5, 7]"
      ]
     },
     "execution_count": 28,
     "metadata": {},
     "output_type": "execute_result"
    }
   ],
   "source": [
    "l1"
   ]
  },
  {
   "cell_type": "code",
   "execution_count": 29,
   "id": "0ddd4f9b",
   "metadata": {},
   "outputs": [
    {
     "data": {
      "text/plain": [
       "['kumar', 345, 45678, 45.2, True]"
      ]
     },
     "execution_count": 29,
     "metadata": {},
     "output_type": "execute_result"
    }
   ],
   "source": [
    "l"
   ]
  },
  {
   "cell_type": "code",
   "execution_count": 30,
   "id": "0ef723de",
   "metadata": {},
   "outputs": [
    {
     "data": {
      "text/plain": [
       "['kumar', 345, 45678, 45.2, True, 4, 5, 5, 7]"
      ]
     },
     "execution_count": 30,
     "metadata": {},
     "output_type": "execute_result"
    }
   ],
   "source": [
    "l+l1"
   ]
  },
  {
   "cell_type": "code",
   "execution_count": 31,
   "id": "ef8c84fa",
   "metadata": {},
   "outputs": [
    {
     "data": {
      "text/plain": [
       "('sudh', 345, 123, 45.58, True)"
      ]
     },
     "execution_count": 31,
     "metadata": {},
     "output_type": "execute_result"
    }
   ],
   "source": [
    "t1"
   ]
  },
  {
   "cell_type": "code",
   "execution_count": 33,
   "id": "28856b48",
   "metadata": {},
   "outputs": [
    {
     "data": {
      "text/plain": [
       "('sudh', 345, 123, 45.58, True, 'sudh', 345, 123, 45.58, True)"
      ]
     },
     "execution_count": 33,
     "metadata": {},
     "output_type": "execute_result"
    }
   ],
   "source": [
    "t1*2"
   ]
  },
  {
   "cell_type": "code",
   "execution_count": 34,
   "id": "4949204f",
   "metadata": {},
   "outputs": [
    {
     "data": {
      "text/plain": [
       "('sudh', 345, 123, 45.58, True)"
      ]
     },
     "execution_count": 34,
     "metadata": {},
     "output_type": "execute_result"
    }
   ],
   "source": [
    "t1"
   ]
  },
  {
   "cell_type": "code",
   "execution_count": 35,
   "id": "a0fcf595",
   "metadata": {},
   "outputs": [
    {
     "data": {
      "text/plain": [
       "1"
      ]
     },
     "execution_count": 35,
     "metadata": {},
     "output_type": "execute_result"
    }
   ],
   "source": [
    "t1.count(\"sudh\")"
   ]
  },
  {
   "cell_type": "code",
   "execution_count": 36,
   "id": "267b9399",
   "metadata": {},
   "outputs": [
    {
     "data": {
      "text/plain": [
       "0"
      ]
     },
     "execution_count": 36,
     "metadata": {},
     "output_type": "execute_result"
    }
   ],
   "source": [
    "t1.index(\"sudh\")"
   ]
  },
  {
   "cell_type": "code",
   "execution_count": 37,
   "id": "89e3cb6d",
   "metadata": {},
   "outputs": [],
   "source": [
    "t = (4.5,5,6,7,(4,5,6,),(\"sudh\"))"
   ]
  },
  {
   "cell_type": "code",
   "execution_count": 38,
   "id": "e836ce27",
   "metadata": {},
   "outputs": [
    {
     "data": {
      "text/plain": [
       "(4.5, 5, 6, 7, (4, 5, 6), 'sudh')"
      ]
     },
     "execution_count": 38,
     "metadata": {},
     "output_type": "execute_result"
    }
   ],
   "source": [
    "t"
   ]
  },
  {
   "cell_type": "code",
   "execution_count": 40,
   "id": "dc367585",
   "metadata": {},
   "outputs": [],
   "source": [
    "t1 = ([3,4,5,],4,5,6,(\"sudh\",45,6,5), \"kumar\")"
   ]
  },
  {
   "cell_type": "code",
   "execution_count": 41,
   "id": "836efb18",
   "metadata": {},
   "outputs": [
    {
     "data": {
      "text/plain": [
       "([3, 4, 5], 4, 5, 6, ('sudh', 45, 6, 5), 'kumar')"
      ]
     },
     "execution_count": 41,
     "metadata": {},
     "output_type": "execute_result"
    }
   ],
   "source": [
    "t1"
   ]
  },
  {
   "cell_type": "code",
   "execution_count": 42,
   "id": "0804b21f",
   "metadata": {},
   "outputs": [
    {
     "data": {
      "text/plain": [
       "5"
      ]
     },
     "execution_count": 42,
     "metadata": {},
     "output_type": "execute_result"
    }
   ],
   "source": [
    "t1[0][2]"
   ]
  },
  {
   "cell_type": "code",
   "execution_count": 43,
   "id": "0ce2af90",
   "metadata": {},
   "outputs": [],
   "source": [
    "t1[0][2] = \"xyz\""
   ]
  },
  {
   "cell_type": "code",
   "execution_count": 44,
   "id": "9d5454b2",
   "metadata": {},
   "outputs": [
    {
     "data": {
      "text/plain": [
       "([3, 4, 'xyz'], 4, 5, 6, ('sudh', 45, 6, 5), 'kumar')"
      ]
     },
     "execution_count": 44,
     "metadata": {},
     "output_type": "execute_result"
    }
   ],
   "source": [
    "t1"
   ]
  },
  {
   "cell_type": "code",
   "execution_count": 45,
   "id": "4780fab3",
   "metadata": {},
   "outputs": [
    {
     "data": {
      "text/plain": [
       "([3, 4, 'xyz'], 4, 5, 6, ('sudh', 45, 6, 5), 'kumar')"
      ]
     },
     "execution_count": 45,
     "metadata": {},
     "output_type": "execute_result"
    }
   ],
   "source": [
    "t1"
   ]
  },
  {
   "cell_type": "code",
   "execution_count": null,
   "id": "e3145d8b",
   "metadata": {},
   "outputs": [],
   "source": []
  },
  {
   "cell_type": "code",
   "execution_count": 46,
   "id": "d57f4aab",
   "metadata": {},
   "outputs": [],
   "source": [
    "t2 = (53,45,58,78)"
   ]
  },
  {
   "cell_type": "code",
   "execution_count": 47,
   "id": "9ebcd4ab",
   "metadata": {},
   "outputs": [],
   "source": [
    "l = list(t2)"
   ]
  },
  {
   "cell_type": "code",
   "execution_count": 48,
   "id": "4c5b53d1",
   "metadata": {},
   "outputs": [
    {
     "data": {
      "text/plain": [
       "[53, 45, 58, 78]"
      ]
     },
     "execution_count": 48,
     "metadata": {},
     "output_type": "execute_result"
    }
   ],
   "source": [
    "l"
   ]
  },
  {
   "cell_type": "code",
   "execution_count": 49,
   "id": "54b5441e",
   "metadata": {},
   "outputs": [],
   "source": [
    "l = [1,5,6,2,8,9,54,66,1,5,8,8,9,9,1,1,2,5,7,5,2,]"
   ]
  },
  {
   "cell_type": "code",
   "execution_count": 50,
   "id": "a3bc3776",
   "metadata": {},
   "outputs": [
    {
     "data": {
      "text/plain": [
       "[1, 5, 6, 2, 8, 9, 54, 66, 1, 5, 8, 8, 9, 9, 1, 1, 2, 5, 7, 5, 2]"
      ]
     },
     "execution_count": 50,
     "metadata": {},
     "output_type": "execute_result"
    }
   ],
   "source": [
    "l"
   ]
  },
  {
   "cell_type": "code",
   "execution_count": 52,
   "id": "b7a6c87f",
   "metadata": {},
   "outputs": [
    {
     "data": {
      "text/plain": [
       "{1, 2, 5, 6, 7, 8, 9, 54, 66}"
      ]
     },
     "execution_count": 52,
     "metadata": {},
     "output_type": "execute_result"
    }
   ],
   "source": [
    "set(l)"
   ]
  },
  {
   "cell_type": "code",
   "execution_count": 53,
   "id": "35a41a93",
   "metadata": {},
   "outputs": [],
   "source": [
    "s= {}"
   ]
  },
  {
   "cell_type": "code",
   "execution_count": 54,
   "id": "a491986a",
   "metadata": {},
   "outputs": [
    {
     "data": {
      "text/plain": [
       "dict"
      ]
     },
     "execution_count": 54,
     "metadata": {},
     "output_type": "execute_result"
    }
   ],
   "source": [
    "type(s)"
   ]
  },
  {
   "cell_type": "code",
   "execution_count": 55,
   "id": "51af1793",
   "metadata": {},
   "outputs": [],
   "source": [
    "s1 = {1,2,3,4,5,}"
   ]
  },
  {
   "cell_type": "code",
   "execution_count": 57,
   "id": "237d936e",
   "metadata": {},
   "outputs": [
    {
     "data": {
      "text/plain": [
       "set"
      ]
     },
     "execution_count": 57,
     "metadata": {},
     "output_type": "execute_result"
    }
   ],
   "source": [
    "type(s1)"
   ]
  },
  {
   "cell_type": "code",
   "execution_count": 63,
   "id": "259bd4e4",
   "metadata": {},
   "outputs": [],
   "source": [
    "s2 ={1,1,2,5,6,66,4,4,3,}"
   ]
  },
  {
   "cell_type": "code",
   "execution_count": 64,
   "id": "c41746eb",
   "metadata": {},
   "outputs": [
    {
     "data": {
      "text/plain": [
       "{1, 2, 3, 4, 5, 6, 66}"
      ]
     },
     "execution_count": 64,
     "metadata": {},
     "output_type": "execute_result"
    }
   ],
   "source": [
    "s2"
   ]
  },
  {
   "cell_type": "code",
   "execution_count": 65,
   "id": "453bc95b",
   "metadata": {},
   "outputs": [
    {
     "data": {
      "text/plain": [
       "[1, 2, 66, 4, 5, 6, 3]"
      ]
     },
     "execution_count": 65,
     "metadata": {},
     "output_type": "execute_result"
    }
   ],
   "source": [
    "list(s2)"
   ]
  },
  {
   "cell_type": "code",
   "execution_count": 66,
   "id": "fcf3af8b",
   "metadata": {},
   "outputs": [],
   "source": [
    "s2.add(4585)"
   ]
  },
  {
   "cell_type": "code",
   "execution_count": 67,
   "id": "fe9953f8",
   "metadata": {},
   "outputs": [
    {
     "data": {
      "text/plain": [
       "{1, 2, 3, 4, 5, 6, 66, 4585}"
      ]
     },
     "execution_count": 67,
     "metadata": {},
     "output_type": "execute_result"
    }
   ],
   "source": [
    "s2"
   ]
  },
  {
   "cell_type": "code",
   "execution_count": 68,
   "id": "991075d6",
   "metadata": {},
   "outputs": [],
   "source": [
    "s2.add(\"sudh\")"
   ]
  },
  {
   "cell_type": "code",
   "execution_count": 69,
   "id": "1b9cfbef",
   "metadata": {},
   "outputs": [
    {
     "data": {
      "text/plain": [
       "{1, 2, 3, 4, 4585, 5, 6, 66, 'sudh'}"
      ]
     },
     "execution_count": 69,
     "metadata": {},
     "output_type": "execute_result"
    }
   ],
   "source": [
    "s2"
   ]
  },
  {
   "cell_type": "code",
   "execution_count": 70,
   "id": "43b3b0c6",
   "metadata": {},
   "outputs": [
    {
     "ename": "TypeError",
     "evalue": "unhashable type: 'list'",
     "output_type": "error",
     "traceback": [
      "\u001b[1;31m---------------------------------------------------------------------------\u001b[0m",
      "\u001b[1;31mTypeError\u001b[0m                                 Traceback (most recent call last)",
      "\u001b[1;32mC:\\Users\\ADMIN-~1\\AppData\\Local\\Temp/ipykernel_8608/2312644190.py\u001b[0m in \u001b[0;36m<module>\u001b[1;34m\u001b[0m\n\u001b[1;32m----> 1\u001b[1;33m \u001b[0ms2\u001b[0m\u001b[1;33m.\u001b[0m\u001b[0madd\u001b[0m\u001b[1;33m(\u001b[0m\u001b[1;33m[\u001b[0m\u001b[1;36m1\u001b[0m\u001b[1;33m,\u001b[0m\u001b[1;36m5\u001b[0m\u001b[1;33m,\u001b[0m\u001b[1;36m5\u001b[0m\u001b[1;33m,\u001b[0m\u001b[1;36m6\u001b[0m\u001b[1;33m]\u001b[0m\u001b[1;33m)\u001b[0m\u001b[1;33m\u001b[0m\u001b[1;33m\u001b[0m\u001b[0m\n\u001b[0m",
      "\u001b[1;31mTypeError\u001b[0m: unhashable type: 'list'"
     ]
    }
   ],
   "source": [
    "s2.add([1,5,5,6])"
   ]
  },
  {
   "cell_type": "code",
   "execution_count": 72,
   "id": "978ab6a2",
   "metadata": {},
   "outputs": [],
   "source": [
    "s = {(3,5,6,7) , 3,4,4,}"
   ]
  },
  {
   "cell_type": "code",
   "execution_count": 73,
   "id": "8bac6c8a",
   "metadata": {},
   "outputs": [
    {
     "data": {
      "text/plain": [
       "{(3, 5, 6, 7), 3, 4}"
      ]
     },
     "execution_count": 73,
     "metadata": {},
     "output_type": "execute_result"
    }
   ],
   "source": [
    "s"
   ]
  },
  {
   "cell_type": "code",
   "execution_count": 74,
   "id": "025a299d",
   "metadata": {},
   "outputs": [],
   "source": [
    "s.remove(4)"
   ]
  },
  {
   "cell_type": "code",
   "execution_count": 75,
   "id": "4805ef16",
   "metadata": {},
   "outputs": [
    {
     "data": {
      "text/plain": [
       "{(3, 5, 6, 7), 3}"
      ]
     },
     "execution_count": 75,
     "metadata": {},
     "output_type": "execute_result"
    }
   ],
   "source": [
    "s"
   ]
  },
  {
   "cell_type": "code",
   "execution_count": 76,
   "id": "06a2085b",
   "metadata": {},
   "outputs": [],
   "source": [
    "s.discard(5)"
   ]
  },
  {
   "cell_type": "code",
   "execution_count": 77,
   "id": "a7b96e0a",
   "metadata": {},
   "outputs": [
    {
     "data": {
      "text/plain": [
       "{(3, 5, 6, 7), 3}"
      ]
     },
     "execution_count": 77,
     "metadata": {},
     "output_type": "execute_result"
    }
   ],
   "source": [
    "s"
   ]
  },
  {
   "cell_type": "code",
   "execution_count": 78,
   "id": "3a6341ca",
   "metadata": {},
   "outputs": [
    {
     "ename": "KeyError",
     "evalue": "45",
     "output_type": "error",
     "traceback": [
      "\u001b[1;31m---------------------------------------------------------------------------\u001b[0m",
      "\u001b[1;31mKeyError\u001b[0m                                  Traceback (most recent call last)",
      "\u001b[1;32mC:\\Users\\ADMIN-~1\\AppData\\Local\\Temp/ipykernel_8608/2010124880.py\u001b[0m in \u001b[0;36m<module>\u001b[1;34m\u001b[0m\n\u001b[1;32m----> 1\u001b[1;33m \u001b[0ms\u001b[0m\u001b[1;33m.\u001b[0m\u001b[0mremove\u001b[0m\u001b[1;33m(\u001b[0m\u001b[1;36m45\u001b[0m\u001b[1;33m)\u001b[0m\u001b[1;33m\u001b[0m\u001b[1;33m\u001b[0m\u001b[0m\n\u001b[0m",
      "\u001b[1;31mKeyError\u001b[0m: 45"
     ]
    }
   ],
   "source": [
    "s.remove(45)"
   ]
  },
  {
   "cell_type": "code",
   "execution_count": 79,
   "id": "c0b4243f",
   "metadata": {},
   "outputs": [],
   "source": [
    "s.discard(45)"
   ]
  },
  {
   "cell_type": "code",
   "execution_count": 80,
   "id": "74e539e1",
   "metadata": {},
   "outputs": [
    {
     "data": {
      "text/plain": [
       "{(3, 5, 6, 7), 3}"
      ]
     },
     "execution_count": 80,
     "metadata": {},
     "output_type": "execute_result"
    }
   ],
   "source": [
    "s"
   ]
  },
  {
   "cell_type": "code",
   "execution_count": 82,
   "id": "60853f63",
   "metadata": {},
   "outputs": [
    {
     "data": {
      "text/plain": [
       "{'Sudh', 'sudh'}"
      ]
     },
     "execution_count": 82,
     "metadata": {},
     "output_type": "execute_result"
    }
   ],
   "source": [
    "{\"sudh\", \"Sudh\"}"
   ]
  },
  {
   "cell_type": "code",
   "execution_count": 83,
   "id": "bfcb8889",
   "metadata": {},
   "outputs": [],
   "source": [
    "s ={4,4,5.6,45,5, \"sudh\",\"sudh\"}"
   ]
  },
  {
   "cell_type": "code",
   "execution_count": 84,
   "id": "740eaae5",
   "metadata": {},
   "outputs": [
    {
     "data": {
      "text/plain": [
       "{4, 45, 5, 5.6, 'sudh'}"
      ]
     },
     "execution_count": 84,
     "metadata": {},
     "output_type": "execute_result"
    }
   ],
   "source": [
    "s"
   ]
  },
  {
   "cell_type": "code",
   "execution_count": 85,
   "id": "8051b8c2",
   "metadata": {},
   "outputs": [],
   "source": [
    "d = {}"
   ]
  },
  {
   "cell_type": "code",
   "execution_count": 86,
   "id": "b01c86a7",
   "metadata": {},
   "outputs": [
    {
     "data": {
      "text/plain": [
       "dict"
      ]
     },
     "execution_count": 86,
     "metadata": {},
     "output_type": "execute_result"
    }
   ],
   "source": [
    "type(d)"
   ]
  },
  {
   "cell_type": "code",
   "execution_count": 87,
   "id": "ba7a3f76",
   "metadata": {},
   "outputs": [],
   "source": [
    "d ={4:\"sudh\"}"
   ]
  },
  {
   "cell_type": "code",
   "execution_count": 88,
   "id": "729efce6",
   "metadata": {},
   "outputs": [
    {
     "data": {
      "text/plain": [
       "{4: 'sudh'}"
      ]
     },
     "execution_count": 88,
     "metadata": {},
     "output_type": "execute_result"
    }
   ],
   "source": [
    "d"
   ]
  },
  {
   "cell_type": "code",
   "execution_count": 89,
   "id": "53109e88",
   "metadata": {},
   "outputs": [],
   "source": [
    "d1 = {\"key1\":45,\"key2\":\"sudh\",\"key3\":[3,4,5,6]}"
   ]
  },
  {
   "cell_type": "code",
   "execution_count": 90,
   "id": "504a033d",
   "metadata": {},
   "outputs": [
    {
     "data": {
      "text/plain": [
       "{'key1': 45, 'key2': 'sudh', 'key3': [3, 4, 5, 6]}"
      ]
     },
     "execution_count": 90,
     "metadata": {},
     "output_type": "execute_result"
    }
   ],
   "source": [
    "d1"
   ]
  },
  {
   "cell_type": "code",
   "execution_count": 91,
   "id": "43cdc679",
   "metadata": {},
   "outputs": [],
   "source": [
    "l = [3,4,5,6,7]"
   ]
  },
  {
   "cell_type": "code",
   "execution_count": 92,
   "id": "2d5a922b",
   "metadata": {},
   "outputs": [
    {
     "data": {
      "text/plain": [
       "{'key1': 45, 'key2': 'sudh', 'key3': [3, 4, 5, 6]}"
      ]
     },
     "execution_count": 92,
     "metadata": {},
     "output_type": "execute_result"
    }
   ],
   "source": [
    "d1"
   ]
  },
  {
   "cell_type": "code",
   "execution_count": 93,
   "id": "791c4644",
   "metadata": {},
   "outputs": [
    {
     "data": {
      "text/plain": [
       "3"
      ]
     },
     "execution_count": 93,
     "metadata": {},
     "output_type": "execute_result"
    }
   ],
   "source": [
    "l[0]"
   ]
  },
  {
   "cell_type": "code",
   "execution_count": 94,
   "id": "0e01c335",
   "metadata": {},
   "outputs": [
    {
     "data": {
      "text/plain": [
       "45"
      ]
     },
     "execution_count": 94,
     "metadata": {},
     "output_type": "execute_result"
    }
   ],
   "source": [
    "d1['key1']"
   ]
  },
  {
   "cell_type": "code",
   "execution_count": 96,
   "id": "a360546f",
   "metadata": {},
   "outputs": [
    {
     "data": {
      "text/plain": [
       "[3, 4, 5, 6]"
      ]
     },
     "execution_count": 96,
     "metadata": {},
     "output_type": "execute_result"
    }
   ],
   "source": [
    "d1['key3']"
   ]
  },
  {
   "cell_type": "code",
   "execution_count": 101,
   "id": "9b2344fe",
   "metadata": {},
   "outputs": [
    {
     "ename": "NameError",
     "evalue": "name 'Key4' is not defined",
     "output_type": "error",
     "traceback": [
      "\u001b[1;31m---------------------------------------------------------------------------\u001b[0m",
      "\u001b[1;31mNameError\u001b[0m                                 Traceback (most recent call last)",
      "\u001b[1;32mC:\\Users\\ADMIN-~1\\AppData\\Local\\Temp/ipykernel_8608/1642038620.py\u001b[0m in \u001b[0;36m<module>\u001b[1;34m\u001b[0m\n\u001b[1;32m----> 1\u001b[1;33m \u001b[0md\u001b[0m \u001b[1;33m=\u001b[0m \u001b[1;33m{\u001b[0m\u001b[0mKey4\u001b[0m \u001b[1;33m:\u001b[0m\u001b[1;33m[\u001b[0m\u001b[1;34m\"sidhf\"\u001b[0m\u001b[1;33m,\u001b[0m\u001b[1;34m\"fhfj\"\u001b[0m\u001b[1;33m,\u001b[0m \u001b[1;36m4\u001b[0m\u001b[1;33m,\u001b[0m\u001b[1;36m5\u001b[0m\u001b[1;33m,\u001b[0m\u001b[1;36m5\u001b[0m\u001b[1;33m,\u001b[0m\u001b[1;36m5\u001b[0m\u001b[1;33m]\u001b[0m\u001b[1;33m}\u001b[0m\u001b[1;33m\u001b[0m\u001b[1;33m\u001b[0m\u001b[0m\n\u001b[0m",
      "\u001b[1;31mNameError\u001b[0m: name 'Key4' is not defined"
     ]
    }
   ],
   "source": [
    "d = {Key4 :[\"sidhf\",\"fhfj\", 4,5,5,5]}"
   ]
  },
  {
   "cell_type": "code",
   "execution_count": 100,
   "id": "76337837",
   "metadata": {},
   "outputs": [
    {
     "data": {
      "text/plain": [
       "{0.3: ['sidhf', 'fhfj', 4, 5, 5, 5]}"
      ]
     },
     "execution_count": 100,
     "metadata": {},
     "output_type": "execute_result"
    }
   ],
   "source": [
    "d"
   ]
  },
  {
   "cell_type": "code",
   "execution_count": 107,
   "id": "bb8851db",
   "metadata": {},
   "outputs": [],
   "source": [
    "d1 = {\"key1\" : [2,3,4,5], \"key2\" :\"sudh\", \"key1\": 45}"
   ]
  },
  {
   "cell_type": "code",
   "execution_count": 108,
   "id": "bfd9d6ec",
   "metadata": {},
   "outputs": [
    {
     "data": {
      "text/plain": [
       "45"
      ]
     },
     "execution_count": 108,
     "metadata": {},
     "output_type": "execute_result"
    }
   ],
   "source": [
    "d1['key1']"
   ]
  },
  {
   "cell_type": "code",
   "execution_count": 111,
   "id": "45e1e430",
   "metadata": {},
   "outputs": [],
   "source": [
    "d = {'name' : \"sudhir\", \"mob\" :981252 , \"mail\" :\"kuma.sudh\", 'key1': 455,'key':455 , 'key4':{3,3,4,4,58,6,6,}}"
   ]
  },
  {
   "cell_type": "code",
   "execution_count": 112,
   "id": "e18e7d4f",
   "metadata": {},
   "outputs": [
    {
     "data": {
      "text/plain": [
       "{'name': 'sudhir',\n",
       " 'mob': 981252,\n",
       " 'mail': 'kuma.sudh',\n",
       " 'key1': 455,\n",
       " 'key': 455,\n",
       " 'key4': {3, 4, 6, 58}}"
      ]
     },
     "execution_count": 112,
     "metadata": {},
     "output_type": "execute_result"
    }
   ],
   "source": [
    "d"
   ]
  },
  {
   "cell_type": "code",
   "execution_count": 115,
   "id": "2893b000",
   "metadata": {},
   "outputs": [
    {
     "data": {
      "text/plain": [
       "455"
      ]
     },
     "execution_count": 115,
     "metadata": {},
     "output_type": "execute_result"
    }
   ],
   "source": [
    "d['key1']"
   ]
  },
  {
   "cell_type": "code",
   "execution_count": 116,
   "id": "9fc9c53a",
   "metadata": {},
   "outputs": [
    {
     "data": {
      "text/plain": [
       "dict_keys(['name', 'mob', 'mail', 'key1', 'key', 'key4'])"
      ]
     },
     "execution_count": 116,
     "metadata": {},
     "output_type": "execute_result"
    }
   ],
   "source": [
    "d.keys()"
   ]
  },
  {
   "cell_type": "code",
   "execution_count": 117,
   "id": "e7cadb77",
   "metadata": {},
   "outputs": [
    {
     "data": {
      "text/plain": [
       "dict_values(['sudhir', 981252, 'kuma.sudh', 455, 455, {58, 3, 4, 6}])"
      ]
     },
     "execution_count": 117,
     "metadata": {},
     "output_type": "execute_result"
    }
   ],
   "source": [
    "d.values()"
   ]
  },
  {
   "cell_type": "code",
   "execution_count": 118,
   "id": "c29a0730",
   "metadata": {},
   "outputs": [
    {
     "data": {
      "text/plain": [
       "dict_items([('name', 'sudhir'), ('mob', 981252), ('mail', 'kuma.sudh'), ('key1', 455), ('key', 455), ('key4', {58, 3, 4, 6})])"
      ]
     },
     "execution_count": 118,
     "metadata": {},
     "output_type": "execute_result"
    }
   ],
   "source": [
    "d.items()"
   ]
  },
  {
   "cell_type": "code",
   "execution_count": 122,
   "id": "bbdd6735",
   "metadata": {},
   "outputs": [],
   "source": [
    "d = {'key1':\"sudh\",'key2':[1,2,3,4]}"
   ]
  },
  {
   "cell_type": "code",
   "execution_count": 123,
   "id": "8fe5ef81",
   "metadata": {},
   "outputs": [],
   "source": [
    "d[\"key3\"] = \"kumar\""
   ]
  },
  {
   "cell_type": "code",
   "execution_count": 124,
   "id": "b5bea04a",
   "metadata": {},
   "outputs": [
    {
     "data": {
      "text/plain": [
       "{'key1': 'sudh', 'key2': [1, 2, 3, 4], 'key3': 'kumar'}"
      ]
     },
     "execution_count": 124,
     "metadata": {},
     "output_type": "execute_result"
    }
   ],
   "source": [
    "d"
   ]
  },
  {
   "cell_type": "code",
   "execution_count": 125,
   "id": "38b6b364",
   "metadata": {},
   "outputs": [
    {
     "data": {
      "text/plain": [
       "'sudh'"
      ]
     },
     "execution_count": 125,
     "metadata": {},
     "output_type": "execute_result"
    }
   ],
   "source": [
    "d['key1']"
   ]
  },
  {
   "cell_type": "code",
   "execution_count": 126,
   "id": "009cd11c",
   "metadata": {},
   "outputs": [],
   "source": [
    "del d['key1']"
   ]
  },
  {
   "cell_type": "code",
   "execution_count": 3,
   "id": "94dec3e7",
   "metadata": {},
   "outputs": [],
   "source": [
    "d = {'key1':\"sudh\",'key2':[1,2,3,4]}"
   ]
  },
  {
   "cell_type": "code",
   "execution_count": 4,
   "id": "b38eda71",
   "metadata": {},
   "outputs": [
    {
     "data": {
      "text/plain": [
       "{'key1': 'sudh', 'key2': [1, 2, 3, 4]}"
      ]
     },
     "execution_count": 4,
     "metadata": {},
     "output_type": "execute_result"
    }
   ],
   "source": [
    "d"
   ]
  },
  {
   "cell_type": "code",
   "execution_count": 5,
   "id": "84addf5b",
   "metadata": {},
   "outputs": [
    {
     "data": {
      "text/plain": [
       "1"
      ]
     },
     "execution_count": 5,
     "metadata": {},
     "output_type": "execute_result"
    }
   ],
   "source": [
    "d['key2'][0]"
   ]
  },
  {
   "cell_type": "code",
   "execution_count": 6,
   "id": "c89beaf4",
   "metadata": {},
   "outputs": [
    {
     "data": {
      "text/plain": [
       "2"
      ]
     },
     "execution_count": 6,
     "metadata": {},
     "output_type": "execute_result"
    }
   ],
   "source": [
    "d['key2'][1]"
   ]
  },
  {
   "cell_type": "code",
   "execution_count": 9,
   "id": "e1b2b71f",
   "metadata": {},
   "outputs": [],
   "source": [
    "d1 = {\"key1\" : [1,2,3,4,5] , \"key1\" :45}"
   ]
  },
  {
   "cell_type": "code",
   "execution_count": 10,
   "id": "5a72f7c9",
   "metadata": {},
   "outputs": [
    {
     "data": {
      "text/plain": [
       "45"
      ]
     },
     "execution_count": 10,
     "metadata": {},
     "output_type": "execute_result"
    }
   ],
   "source": [
    "d1['key1']"
   ]
  },
  {
   "cell_type": "code",
   "execution_count": 21,
   "id": "faf96f17",
   "metadata": {},
   "outputs": [],
   "source": [
    "d = {\"name\" : \"sudhir\", \"mob number\" : 98108387 ,\"mail id\" : \"kumar.sudhir@gmail.com\" , 'key4' : [1,2,'d',5,6,3] , 'key5' : [1,2,22,22,2,1,4,5,6,7,7,] , 'key6' : (2,5,6,7,5,55,55,) , 'key7' : {1,2,5,5,5,5,6,6,6,7,7,7} }"
   ]
  },
  {
   "cell_type": "code",
   "execution_count": 22,
   "id": "c068d342",
   "metadata": {},
   "outputs": [
    {
     "data": {
      "text/plain": [
       "{'name': 'sudhir',\n",
       " 'mob number': 98108387,\n",
       " 'mail id': 'kumar.sudhir@gmail.com',\n",
       " 'key4': [1, 2, 'd', 5, 6, 3],\n",
       " 'key5': [1, 2, 22, 22, 2, 1, 4, 5, 6, 7, 7],\n",
       " 'key6': (2, 5, 6, 7, 5, 55, 55),\n",
       " 'key7': {1, 2, 5, 6, 7}}"
      ]
     },
     "execution_count": 22,
     "metadata": {},
     "output_type": "execute_result"
    }
   ],
   "source": [
    "d"
   ]
  },
  {
   "cell_type": "code",
   "execution_count": 23,
   "id": "5cbbe560",
   "metadata": {},
   "outputs": [
    {
     "data": {
      "text/plain": [
       "1"
      ]
     },
     "execution_count": 23,
     "metadata": {},
     "output_type": "execute_result"
    }
   ],
   "source": [
    "d['key4'][0]"
   ]
  },
  {
   "cell_type": "code",
   "execution_count": 24,
   "id": "39880d24",
   "metadata": {},
   "outputs": [
    {
     "data": {
      "text/plain": [
       "list"
      ]
     },
     "execution_count": 24,
     "metadata": {},
     "output_type": "execute_result"
    }
   ],
   "source": [
    "type(d['key4'])"
   ]
  },
  {
   "cell_type": "code",
   "execution_count": 26,
   "id": "154971f5",
   "metadata": {},
   "outputs": [
    {
     "data": {
      "text/plain": [
       "set"
      ]
     },
     "execution_count": 26,
     "metadata": {},
     "output_type": "execute_result"
    }
   ],
   "source": [
    "type(d['key7'])"
   ]
  },
  {
   "cell_type": "code",
   "execution_count": 27,
   "id": "ef698c1a",
   "metadata": {},
   "outputs": [
    {
     "data": {
      "text/plain": [
       "dict_keys(['name', 'mob number', 'mail id', 'key4', 'key5', 'key6', 'key7'])"
      ]
     },
     "execution_count": 27,
     "metadata": {},
     "output_type": "execute_result"
    }
   ],
   "source": [
    "d.keys()"
   ]
  },
  {
   "cell_type": "code",
   "execution_count": 28,
   "id": "44bb2f95",
   "metadata": {},
   "outputs": [
    {
     "data": {
      "text/plain": [
       "dict_values(['sudhir', 98108387, 'kumar.sudhir@gmail.com', [1, 2, 'd', 5, 6, 3], [1, 2, 22, 22, 2, 1, 4, 5, 6, 7, 7], (2, 5, 6, 7, 5, 55, 55), {1, 2, 5, 6, 7}])"
      ]
     },
     "execution_count": 28,
     "metadata": {},
     "output_type": "execute_result"
    }
   ],
   "source": [
    "d.values()"
   ]
  },
  {
   "cell_type": "code",
   "execution_count": 29,
   "id": "85b31b92",
   "metadata": {},
   "outputs": [
    {
     "data": {
      "text/plain": [
       "dict_items([('name', 'sudhir'), ('mob number', 98108387), ('mail id', 'kumar.sudhir@gmail.com'), ('key4', [1, 2, 'd', 5, 6, 3]), ('key5', [1, 2, 22, 22, 2, 1, 4, 5, 6, 7, 7]), ('key6', (2, 5, 6, 7, 5, 55, 55)), ('key7', {1, 2, 5, 6, 7})])"
      ]
     },
     "execution_count": 29,
     "metadata": {},
     "output_type": "execute_result"
    }
   ],
   "source": [
    "d.items()"
   ]
  },
  {
   "cell_type": "code",
   "execution_count": 30,
   "id": "efa1e80e",
   "metadata": {},
   "outputs": [],
   "source": [
    "d = {'key1': \"sudh\" , \"key\" : [1,2,3,4,]}"
   ]
  },
  {
   "cell_type": "code",
   "execution_count": 31,
   "id": "d5cace10",
   "metadata": {},
   "outputs": [
    {
     "data": {
      "text/plain": [
       "{'key1': 'sudh', 'key': [1, 2, 3, 4]}"
      ]
     },
     "execution_count": 31,
     "metadata": {},
     "output_type": "execute_result"
    }
   ],
   "source": [
    "d"
   ]
  },
  {
   "cell_type": "code",
   "execution_count": 32,
   "id": "4a5a4ecc",
   "metadata": {},
   "outputs": [
    {
     "data": {
      "text/plain": [
       "'sudh'"
      ]
     },
     "execution_count": 32,
     "metadata": {},
     "output_type": "execute_result"
    }
   ],
   "source": [
    "d[\"key1\"]"
   ]
  },
  {
   "cell_type": "code",
   "execution_count": 34,
   "id": "eebd2c7a",
   "metadata": {},
   "outputs": [],
   "source": [
    "d[\"key3\"] = \"kumar\""
   ]
  },
  {
   "cell_type": "code",
   "execution_count": 35,
   "id": "d94a8697",
   "metadata": {},
   "outputs": [
    {
     "data": {
      "text/plain": [
       "{'key1': 'sudh', 'key': [1, 2, 3, 4], 'key3': 'kumar'}"
      ]
     },
     "execution_count": 35,
     "metadata": {},
     "output_type": "execute_result"
    }
   ],
   "source": [
    "d"
   ]
  },
  {
   "cell_type": "code",
   "execution_count": 36,
   "id": "5beef038",
   "metadata": {},
   "outputs": [],
   "source": [
    "d[4] = [11,11,15,16,1]"
   ]
  },
  {
   "cell_type": "code",
   "execution_count": 37,
   "id": "a222aba1",
   "metadata": {},
   "outputs": [
    {
     "data": {
      "text/plain": [
       "{'key1': 'sudh', 'key': [1, 2, 3, 4], 'key3': 'kumar', 4: [11, 11, 15, 16, 1]}"
      ]
     },
     "execution_count": 37,
     "metadata": {},
     "output_type": "execute_result"
    }
   ],
   "source": [
    "d"
   ]
  },
  {
   "cell_type": "code",
   "execution_count": 38,
   "id": "ef7b310f",
   "metadata": {},
   "outputs": [],
   "source": [
    "d['key1'] = \"sudhi\""
   ]
  },
  {
   "cell_type": "code",
   "execution_count": 39,
   "id": "71997a31",
   "metadata": {},
   "outputs": [
    {
     "data": {
      "text/plain": [
       "{'key1': 'sudhi', 'key': [1, 2, 3, 4], 'key3': 'kumar', 4: [11, 11, 15, 16, 1]}"
      ]
     },
     "execution_count": 39,
     "metadata": {},
     "output_type": "execute_result"
    }
   ],
   "source": [
    "d"
   ]
  },
  {
   "cell_type": "code",
   "execution_count": 40,
   "id": "958341c5",
   "metadata": {},
   "outputs": [],
   "source": [
    "del d['key1']"
   ]
  },
  {
   "cell_type": "code",
   "execution_count": 41,
   "id": "5c247aae",
   "metadata": {},
   "outputs": [
    {
     "data": {
      "text/plain": [
       "{'key': [1, 2, 3, 4], 'key3': 'kumar', 4: [11, 11, 15, 16, 1]}"
      ]
     },
     "execution_count": 41,
     "metadata": {},
     "output_type": "execute_result"
    }
   ],
   "source": [
    "d"
   ]
  },
  {
   "cell_type": "code",
   "execution_count": 42,
   "id": "4f391301",
   "metadata": {},
   "outputs": [],
   "source": [
    "d = {'key1': 'sudh', 'key': [1, 2, 3, 4], 'key3': 'kumar'}"
   ]
  },
  {
   "cell_type": "code",
   "execution_count": 43,
   "id": "2731fe6a",
   "metadata": {},
   "outputs": [],
   "source": [
    "d1 = {'key1' :\"sudh\" , 'key2' :[1,3,5,6,7]}"
   ]
  },
  {
   "cell_type": "code",
   "execution_count": 44,
   "id": "477357cf",
   "metadata": {},
   "outputs": [
    {
     "ename": "TypeError",
     "evalue": "unhashable type: 'list'",
     "output_type": "error",
     "traceback": [
      "\u001b[1;31m---------------------------------------------------------------------------\u001b[0m",
      "\u001b[1;31mTypeError\u001b[0m                                 Traceback (most recent call last)",
      "\u001b[1;32mC:\\Users\\ADMIN-~1\\AppData\\Local\\Temp/ipykernel_13596/3456020912.py\u001b[0m in \u001b[0;36m<module>\u001b[1;34m\u001b[0m\n\u001b[1;32m----> 1\u001b[1;33m \u001b[0md1\u001b[0m\u001b[1;33m[\u001b[0m\u001b[1;33m[\u001b[0m\u001b[1;36m1\u001b[0m\u001b[1;33m,\u001b[0m\u001b[1;36m2\u001b[0m\u001b[1;33m,\u001b[0m\u001b[1;36m3\u001b[0m\u001b[1;33m]\u001b[0m\u001b[1;33m]\u001b[0m \u001b[1;33m=\u001b[0m \u001b[1;34m\"ineuron\"\u001b[0m\u001b[1;33m\u001b[0m\u001b[1;33m\u001b[0m\u001b[0m\n\u001b[0m",
      "\u001b[1;31mTypeError\u001b[0m: unhashable type: 'list'"
     ]
    }
   ],
   "source": [
    "d1[[1,2,3]] = \"ineuron\""
   ]
  },
  {
   "cell_type": "code",
   "execution_count": 45,
   "id": "915c4182",
   "metadata": {},
   "outputs": [],
   "source": [
    "d1[(1,2,3)] = \"ineuron\""
   ]
  },
  {
   "cell_type": "code",
   "execution_count": 46,
   "id": "47fc096a",
   "metadata": {},
   "outputs": [
    {
     "data": {
      "text/plain": [
       "{'key1': 'sudh', 'key2': [1, 3, 5, 6, 7], (1, 2, 3): 'ineuron'}"
      ]
     },
     "execution_count": 46,
     "metadata": {},
     "output_type": "execute_result"
    }
   ],
   "source": [
    "d1"
   ]
  },
  {
   "cell_type": "code",
   "execution_count": 47,
   "id": "7b13d22a",
   "metadata": {},
   "outputs": [],
   "source": [
    "d1['key1'] = \"sudh\""
   ]
  },
  {
   "cell_type": "code",
   "execution_count": 48,
   "id": "2d66ce47",
   "metadata": {},
   "outputs": [
    {
     "data": {
      "text/plain": [
       "{'key1': 'sudh', 'key2': [1, 3, 5, 6, 7], (1, 2, 3): 'ineuron'}"
      ]
     },
     "execution_count": 48,
     "metadata": {},
     "output_type": "execute_result"
    }
   ],
   "source": [
    "d1"
   ]
  },
  {
   "cell_type": "code",
   "execution_count": 51,
   "id": "dd671892",
   "metadata": {},
   "outputs": [
    {
     "data": {
      "text/plain": [
       "'sudh'"
      ]
     },
     "execution_count": 51,
     "metadata": {},
     "output_type": "execute_result"
    }
   ],
   "source": [
    "d1.get('key1')"
   ]
  },
  {
   "cell_type": "code",
   "execution_count": 52,
   "id": "e38614e2",
   "metadata": {},
   "outputs": [],
   "source": [
    "d1 = {'key1' :\"sudhir\" , 'key2' : \"kumar\"}\n",
    "d2 = {'key3' : 456 , \"key4\" :[1,2,3,4,5]}"
   ]
  },
  {
   "cell_type": "code",
   "execution_count": 53,
   "id": "9a0fbbbf",
   "metadata": {},
   "outputs": [],
   "source": [
    "d1.update(d2)"
   ]
  },
  {
   "cell_type": "code",
   "execution_count": 54,
   "id": "d2c5d896",
   "metadata": {},
   "outputs": [
    {
     "data": {
      "text/plain": [
       "{'key1': 'sudhir', 'key2': 'kumar', 'key3': 456, 'key4': [1, 2, 3, 4, 5]}"
      ]
     },
     "execution_count": 54,
     "metadata": {},
     "output_type": "execute_result"
    }
   ],
   "source": [
    "d1"
   ]
  },
  {
   "cell_type": "code",
   "execution_count": 55,
   "id": "49774514",
   "metadata": {},
   "outputs": [
    {
     "ename": "TypeError",
     "evalue": "unsupported operand type(s) for +: 'dict' and 'dict'",
     "output_type": "error",
     "traceback": [
      "\u001b[1;31m---------------------------------------------------------------------------\u001b[0m",
      "\u001b[1;31mTypeError\u001b[0m                                 Traceback (most recent call last)",
      "\u001b[1;32mC:\\Users\\ADMIN-~1\\AppData\\Local\\Temp/ipykernel_13596/833095442.py\u001b[0m in \u001b[0;36m<module>\u001b[1;34m\u001b[0m\n\u001b[1;32m----> 1\u001b[1;33m \u001b[0md1\u001b[0m\u001b[1;33m+\u001b[0m\u001b[0md2\u001b[0m\u001b[1;33m\u001b[0m\u001b[1;33m\u001b[0m\u001b[0m\n\u001b[0m",
      "\u001b[1;31mTypeError\u001b[0m: unsupported operand type(s) for +: 'dict' and 'dict'"
     ]
    }
   ],
   "source": [
    "d1+d2"
   ]
  },
  {
   "cell_type": "code",
   "execution_count": 56,
   "id": "1609c40e",
   "metadata": {},
   "outputs": [
    {
     "data": {
      "text/plain": [
       "{'key1': 'sudhir', 'key2': 'kumar', 'key3': 456, 'key4': [1, 2, 3, 4, 5]}"
      ]
     },
     "execution_count": 56,
     "metadata": {},
     "output_type": "execute_result"
    }
   ],
   "source": [
    "d1"
   ]
  },
  {
   "cell_type": "code",
   "execution_count": 57,
   "id": "d7726227",
   "metadata": {},
   "outputs": [],
   "source": [
    "key = { \"name\" , \"mob no\" , \"email id\"}\n",
    "value = \"sudh\""
   ]
  },
  {
   "cell_type": "code",
   "execution_count": 58,
   "id": "737cd725",
   "metadata": {},
   "outputs": [],
   "source": [
    "d = d1.fromkeys(key,value)"
   ]
  },
  {
   "cell_type": "code",
   "execution_count": 59,
   "id": "d3121905",
   "metadata": {},
   "outputs": [
    {
     "data": {
      "text/plain": [
       "{'email id': 'sudh', 'name': 'sudh', 'mob no': 'sudh'}"
      ]
     },
     "execution_count": 59,
     "metadata": {},
     "output_type": "execute_result"
    }
   ],
   "source": [
    "d"
   ]
  },
  {
   "cell_type": "code",
   "execution_count": null,
   "id": "f6fa60ea",
   "metadata": {},
   "outputs": [],
   "source": []
  }
 ],
 "metadata": {
  "kernelspec": {
   "display_name": "Python 3 (ipykernel)",
   "language": "python",
   "name": "python3"
  },
  "language_info": {
   "codemirror_mode": {
    "name": "ipython",
    "version": 3
   },
   "file_extension": ".py",
   "mimetype": "text/x-python",
   "name": "python",
   "nbconvert_exporter": "python",
   "pygments_lexer": "ipython3",
   "version": "3.9.7"
  }
 },
 "nbformat": 4,
 "nbformat_minor": 5
}
